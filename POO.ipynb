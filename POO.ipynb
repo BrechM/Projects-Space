{
 "cells": [
  {
   "cell_type": "markdown",
   "id": "ebd1588e-d7f3-4067-9e0a-1ffa95219a26",
   "metadata": {},
   "source": [
    "##  Quelques notions en  POO\n"
   ]
  },
  {
   "cell_type": "code",
   "execution_count": 27,
   "id": "16a111e8-86a2-4ff8-899c-f7e7541c4b55",
   "metadata": {},
   "outputs": [],
   "source": [
    "# Un objet a des attributs et des fonctions (des choses à faire)\n",
    "# Exemple: On veut creer 2 points A et B et calculer la distance entre ces 2 points : chaque point a 2 coordonnées x et une y:"
   ]
  },
  {
   "cell_type": "code",
   "execution_count": null,
   "id": "c09a4383-8f9b-49c1-b8d7-13f5c1441a76",
   "metadata": {},
   "outputs": [],
   "source": [
    "# 1ere possibilité que l'on aurait imaginé:"
   ]
  },
  {
   "cell_type": "code",
   "execution_count": null,
   "id": "e0af9643-876b-47cf-ba09-90381789588e",
   "metadata": {},
   "outputs": [],
   "source": [
    "x_A = 2\n",
    "y_A = 5\n",
    "x_B = 2\n",
    "y_B = 1\n",
    "d = distance(x_A, y_A, x_B, y_B)\n"
   ]
  },
  {
   "cell_type": "code",
   "execution_count": 23,
   "id": "4a8b1ca1-40e4-45a4-9c5c-583d81caf7a0",
   "metadata": {},
   "outputs": [],
   "source": [
    "# en grande dimension, la premiere possibilité devient compliqué\n"
   ]
  },
  {
   "cell_type": "code",
   "execution_count": null,
   "id": "61e57a8d-91c2-4bc6-b1a4-952c2f1e4250",
   "metadata": {},
   "outputs": [],
   "source": [
    "# Seconde possibilité, on peu penser objet : comme un objet qui a 2 attributs x et y\n",
    "\n",
    "# On encapsule\n",
    "A = Point (2,5)\n",
    "B = Point(2, 1)\n",
    "d = distance(A,B) # ou d = A.distance(B)"
   ]
  },
  {
   "cell_type": "code",
   "execution_count": null,
   "id": "62d2aba8-513b-4bef-b1a9-530c8c55b228",
   "metadata": {},
   "outputs": [],
   "source": [
    "# On constate que Point n'est pas défini, Point c'est ce que l'on appelle une classe orientée Objet\n",
    "# A et B sont des objets de la classe Point ou des instances, a chaque foit qu'on a differents attributs, on obtient des objets differents"
   ]
  },
  {
   "cell_type": "code",
   "execution_count": 39,
   "id": "e7cf70fa-4155-43ae-90e5-2e6fc53a6401",
   "metadata": {},
   "outputs": [],
   "source": [
    "# Importation du module math\n",
    "import math"
   ]
  },
  {
   "cell_type": "code",
   "execution_count": 53,
   "id": "f0f9dc94-8246-472a-84cb-925abe76ff20",
   "metadata": {},
   "outputs": [],
   "source": [
    "# Creation d'une classe en Python\n",
    "class Point:\n",
    "    def __init__(self, abscisse, ordonne) :\n",
    "        self.x = abscisse\n",
    "        self.y = ordonne\n",
    "\n",
    "    def distance(self, autre_point):\n",
    "        squarred_d = (autre_point.x - self.x)**2 + (autre_point.y - self.y)**2\n",
    "        d = math.sqrt(squarred_d)\n",
    "        return d"
   ]
  },
  {
   "cell_type": "code",
   "execution_count": 87,
   "id": "a45bd7a3-0f1b-4efb-a65e-cc64b4766ef0",
   "metadata": {},
   "outputs": [],
   "source": [
    "A = Point(2, 3)\n",
    "B = Point(1, 5)\n"
   ]
  },
  {
   "cell_type": "code",
   "execution_count": 65,
   "id": "5ffb3090-7f2d-4082-8aa0-ff5d38d5434b",
   "metadata": {},
   "outputs": [
    {
     "data": {
      "text/plain": [
       "2"
      ]
     },
     "execution_count": 65,
     "metadata": {},
     "output_type": "execute_result"
    }
   ],
   "source": [
    "A.x\n"
   ]
  },
  {
   "cell_type": "code",
   "execution_count": 67,
   "id": "719b9a0c-9eb4-4bca-a286-cad7ee5dad20",
   "metadata": {},
   "outputs": [
    {
     "data": {
      "text/plain": [
       "3"
      ]
     },
     "execution_count": 67,
     "metadata": {},
     "output_type": "execute_result"
    }
   ],
   "source": [
    "A.y"
   ]
  },
  {
   "cell_type": "code",
   "execution_count": 75,
   "id": "d26b5750-4724-41f6-8cad-48dadf52ba74",
   "metadata": {},
   "outputs": [
    {
     "data": {
      "text/plain": [
       "2.23606797749979"
      ]
     },
     "execution_count": 75,
     "metadata": {},
     "output_type": "execute_result"
    }
   ],
   "source": [
    "A.distance(B)\n"
   ]
  },
  {
   "cell_type": "code",
   "execution_count": 77,
   "id": "065b2b00-6cf2-4bb3-94f8-ad7e819a9a4c",
   "metadata": {},
   "outputs": [
    {
     "data": {
      "text/plain": [
       "2.23606797749979"
      ]
     },
     "execution_count": 77,
     "metadata": {},
     "output_type": "execute_result"
    }
   ],
   "source": [
    "B.distance(A)\n"
   ]
  },
  {
   "cell_type": "code",
   "execution_count": 79,
   "id": "9d56b08b-2853-479d-8aaf-1f00e5257dee",
   "metadata": {},
   "outputs": [],
   "source": [
    "# La fonction init est appelé constructeur. c'est dans cette fonction que nous definissons les attributs de ntre classe. Le mot self represente\n",
    "# un objet ou une instance de notre classe. la fonction init atribue donc à xet y respectivement l'abscisse et l'ordonné recue"
   ]
  },
  {
   "cell_type": "raw",
   "id": "d57f8576-de15-4e4e-9095-887cc7be0af0",
   "metadata": {},
   "source": [
    "print(A) \n"
   ]
  },
  {
   "cell_type": "code",
   "execution_count": null,
   "id": "ea41a054-b14c-41d1-9e86-71ec09889aa4",
   "metadata": {},
   "outputs": [],
   "source": [
    "# elle ne donne aucune information, si l'on souhaite les informations sur ses attributs, c'est possible avec la fonction repr comme ceci"
   ]
  },
  {
   "cell_type": "code",
   "execution_count": 81,
   "id": "0934c896-b5a0-4a57-a38e-fd70a3263430",
   "metadata": {},
   "outputs": [],
   "source": [
    "class Point:\n",
    "    \"Cette classe represente un point qui a des coordonnées et peut calculer la distance avec d'autres points\"\n",
    "    def __init__(self, abscisse, ordonne) :\n",
    "        self.x = abscisse\n",
    "        self.y = ordonne\n",
    "\n",
    "    def distance(self, autre_point):\n",
    "        squarred_d = (autre_point.x - self.x)**2 + (autre_point.y - self.y)**2\n",
    "        d = math.sqrt(squarred_d)\n",
    "        return d\n",
    "\n",
    "    def __repr__(self):\n",
    "        return f\"Ce point a pour abscisse {self.x} et ordonné {self.y}\""
   ]
  },
  {
   "cell_type": "code",
   "execution_count": 83,
   "id": "98efba60-e5b9-49db-9230-7015bb17229b",
   "metadata": {},
   "outputs": [],
   "source": [
    "un_point = Point(5, 8)"
   ]
  },
  {
   "cell_type": "code",
   "execution_count": 85,
   "id": "893df0ee-e53d-4f1a-b8f6-f7f879fee7a0",
   "metadata": {},
   "outputs": [
    {
     "name": "stdout",
     "output_type": "stream",
     "text": [
      "Ce point a pour abscisse 5 et ordonné 8\n"
     ]
    }
   ],
   "source": [
    "print(un_point)"
   ]
  },
  {
   "cell_type": "code",
   "execution_count": 89,
   "id": "262e7109-1602-44a1-9a0e-dc33ef743bad",
   "metadata": {},
   "outputs": [
    {
     "name": "stdout",
     "output_type": "stream",
     "text": [
      "Ce point a pour abscisse 2 et ordonné 3\n"
     ]
    }
   ],
   "source": [
    "print(A)"
   ]
  },
  {
   "cell_type": "code",
   "execution_count": 91,
   "id": "9df7c771-12aa-4c00-882b-67dcb2a7331f",
   "metadata": {},
   "outputs": [
    {
     "data": {
      "text/plain": [
       "5.830951894845301"
      ]
     },
     "execution_count": 91,
     "metadata": {},
     "output_type": "execute_result"
    }
   ],
   "source": [
    "un_point.distance(A)"
   ]
  },
  {
   "cell_type": "code",
   "execution_count": null,
   "id": "a74ceef3-5ba5-419f-852e-b5279f850f92",
   "metadata": {},
   "outputs": [],
   "source": [
    "# Nous pouvons faire une projection du point sur l'axe des abscisses et une autre sur l'axe des ordonnes ou qu'un point\n",
    "# revienne à l'origine"
   ]
  },
  {
   "cell_type": "code",
   "execution_count": 93,
   "id": "9d8f1422-15d3-4286-af44-5433180d4bad",
   "metadata": {},
   "outputs": [],
   "source": [
    "class Point:\n",
    "    def __init__(self, abscisse, ordonne) :\n",
    "        self.x = abscisse\n",
    "        self.y = ordonne\n",
    "\n",
    "    def distance(self, autre_point):\n",
    "        squarred_d = (autre_point.x - self.x)**2 + (autre_point.y - self.y)**2\n",
    "        d = math.sqrt(squarred_d)\n",
    "        return d\n",
    "\n",
    "    def __repr__(self):\n",
    "        return f\"Ce point a pour abscisse {self.x} et ordonné {self.y}\"\n",
    "\n",
    "    def origin(self):\n",
    "        self.x = 0\n",
    "        self.y = 0\n",
    "\n",
    "    def projection_x(self):\n",
    "        self.y = 0\n",
    "\n",
    "    def projection_y(self):\n",
    "        self.x = 0"
   ]
  },
  {
   "cell_type": "code",
   "execution_count": 101,
   "id": "bda2b0a6-39f6-49fc-a548-4219029c0528",
   "metadata": {},
   "outputs": [],
   "source": [
    "C = Point(5, 8)"
   ]
  },
  {
   "cell_type": "code",
   "execution_count": 103,
   "id": "55e168b3-bff1-4833-85b4-78619a342978",
   "metadata": {},
   "outputs": [
    {
     "name": "stdout",
     "output_type": "stream",
     "text": [
      "Ce point a pour abscisse 5 et ordonné 8\n"
     ]
    }
   ],
   "source": [
    "print(C)"
   ]
  },
  {
   "cell_type": "code",
   "execution_count": 107,
   "id": "5cddbe5b-2b96-4127-a6e9-464e12a545d1",
   "metadata": {},
   "outputs": [],
   "source": [
    "C.origin()"
   ]
  },
  {
   "cell_type": "code",
   "execution_count": 109,
   "id": "2481a44e-bbc0-4766-a053-71d818a9d58c",
   "metadata": {},
   "outputs": [
    {
     "name": "stdout",
     "output_type": "stream",
     "text": [
      "Ce point a pour abscisse 0 et ordonné 0\n"
     ]
    }
   ],
   "source": [
    "print(C)"
   ]
  },
  {
   "cell_type": "code",
   "execution_count": 111,
   "id": "400ae143-c756-488a-8cd1-8328f892e049",
   "metadata": {},
   "outputs": [],
   "source": [
    "# Quelques concepts clés:\n",
    "\n",
    "## polymorphisme: Avec l'OO, on peut definir une fonction qui a la possibilité de fonctionner avec differents types de données.\n",
    "# C'est l\"exemple de la fonction len qui peut etre etre utilisée avec une chaine de caractere, une liste ou un dictionnaire\n",
    "# pour calculer sa taille. Un exemple réel serait une classe Personne avecune fonction salutation qui laissera chaque personne saluer\n",
    "# de la facon dont c'est fait dans sa culture.\n",
    "\n",
    "## Heritage : c'est la possibilité de créer une classe en se basant sur une autre. La nouvelle classe hérite des attributs et fonctions de la précedente \n",
    "# mais aussi avoir ses propres fonctionnalités et attributs. Un exemple réel serait une classe d'Adulte qui hérite de la classe humain mais qui a ses\n",
    "# propres attributs comme statut_matrimonial et des fonctions comme acheter_une_maison"
   ]
  },
  {
   "cell_type": "markdown",
   "id": "fd5999c1-84ee-488e-bae4-d64a1f414850",
   "metadata": {},
   "source": [
    "### Debut livre sur la prog orientée objet"
   ]
  },
  {
   "cell_type": "code",
   "execution_count": 28,
   "id": "c58b55d5-1444-485f-acf3-2b524cbb6f0b",
   "metadata": {},
   "outputs": [
    {
     "name": "stdout",
     "output_type": "stream",
     "text": [
      "Ce Cookie pepite de chocolat a été cuit sous forme d'une etoile\n",
      "Bonne degustation\n"
     ]
    }
   ],
   "source": [
    "# Exercice 1:\n",
    "\n",
    "class Biscuit:\n",
    "    ## Constructeur\n",
    "    def __init__(self, nom,forme):\n",
    "        ##  Initialisation des attributs à l'aide des parametres\n",
    "        ## passés du construceur\n",
    "        self.nom = nom\n",
    "        self.forme = forme\n",
    "\n",
    "    def cuir(self):\n",
    "        \"\"\"\n",
    "        Cette methode sert simplement d'affichage\n",
    "        sur la console afin de donner plus d'informations\n",
    "        sur le biscuit\n",
    "        \"\"\"\n",
    "        print(\"Ce\", self.nom, \"a été cuit sous forme d'une\", self.forme)\n",
    "        print(\"Bonne degustation\")\n",
    "\n",
    "# Exemples de tests / Cas d'usages\n",
    "\n",
    "## Instanciation de l'objet \"Biscuit_1\" de la classe biscuit\n",
    "biscuit_1 = Biscuit(\"Cookie pepite de chocolat\", \"etoile\")\n",
    "\n",
    "# Appel de la methode \"cuir()\" en utilisant l'instance créée\n",
    "\n",
    "biscuit_1.cuir()\n",
    "\n",
    "\n",
    "\n"
   ]
  },
  {
   "cell_type": "code",
   "execution_count": 38,
   "id": "8759518e-878c-4ad2-9166-dbe0c9959b0f",
   "metadata": {},
   "outputs": [
    {
     "name": "stdout",
     "output_type": "stream",
     "text": [
      "Le livre intitulé '100 exercices python pour s'entrainer', écrit par l'auteur 'Laurentine K.Masson' se vend à 10.99 euros.\n"
     ]
    }
   ],
   "source": [
    "# Exercice 2:\n",
    "\n",
    "class Livre:\n",
    "    def __init__(self,titre,auteur, prix):\n",
    "        self.titre = titre\n",
    "        self.auteur = auteur\n",
    "        self.prix = prix\n",
    "\n",
    "    def afficher_information(self):\n",
    "        \"\"\"\n",
    "        Cette methode permet d'afficher les informations liées au livre.\n",
    "        \"\"\"\n",
    "        print(f\"Le livre intitulé '{self.titre}', écrit par l'auteur '{self.auteur}' se vend à {self.prix} euros.\")\n",
    "\n",
    "### Exemples de tests / Cas d'usage\n",
    "\n",
    "## Instanciation de l'objet \"livre_1\" à partir de classe livre\n",
    "livre_1 = Livre(\"100 exercices python pour s'entrainer\", \"Laurentine K.Masson\", 10.99)\n",
    "\n",
    "## Appel de methode pour  afficher les informations du livre\n",
    "livre_1.afficher_information()"
   ]
  },
  {
   "cell_type": "code",
   "execution_count": 42,
   "id": "3a8341fd-b446-40db-b27d-8f0deb0630a0",
   "metadata": {},
   "outputs": [
    {
     "name": "stdout",
     "output_type": "stream",
     "text": [
      "L'etudiant(e) Julien a réussi(e)\n"
     ]
    }
   ],
   "source": [
    "# Exercice 3: \n",
    "\n",
    "class Note:\n",
    "    def __init__(self,note,nomEtudiant):\n",
    "        ## Initialisation des attributs de classe Note\n",
    "        self.note = note\n",
    "        self.nomEtudiant = nomEtudiant\n",
    "\n",
    "    def a_reussi(self):\n",
    "        \"\"\"\n",
    "        Cette methode permet de verifier si un etudiant a reussi ou echouer.\n",
    "        La note seuil pour reussir est de 75\n",
    "        Si la note de l'eleve dépasse 75, alors l\"eleve a reussi\n",
    "        Sinon il a échoué\n",
    "        \"\"\"\n",
    "        if self.note > 75:\n",
    "            print(f\"L'etudiant(e) {self.nomEtudiant} a réussi(e)\")\n",
    "        else:\n",
    "            print(f\"L'etudiant(e) {self.nomEtudiant} a échoué(e)\")\n",
    "\n",
    "## Exemples de tests / Cas d'usages\n",
    "## Creation d'une instance\n",
    "note_1 = Note(80, \"Julien\")\n",
    "## Appel de méthodes\n",
    "note_1.a_reussi()\n",
    "        "
   ]
  },
  {
   "cell_type": "code",
   "execution_count": 44,
   "id": "4b744ecb-e7f1-41b8-8ca1-6b49d31ba266",
   "metadata": {},
   "outputs": [
    {
     "name": "stdout",
     "output_type": "stream",
     "text": [
      "La note obtenue par Amelie lors de la premiere correction est : 35\n"
     ]
    }
   ],
   "source": [
    "# Autre exemple:\n",
    "note_2 = Note(35,\"Amelie\")\n",
    "\n",
    "## Pour acceder à l'attribut d'une instance, il suffit d'ecrire nominstance.nomAttribut\n",
    "print(f\"La note obtenue par {note_2.nomEtudiant} lors de la premiere correction est : {note_2.note}\")\n"
   ]
  },
  {
   "cell_type": "code",
   "execution_count": 48,
   "id": "9d947662-9850-4ac3-9ddc-f5f82d9da34f",
   "metadata": {},
   "outputs": [
    {
     "name": "stdout",
     "output_type": "stream",
     "text": [
      "Apres une deuxieme correction, la note d'Amelie est égal à 70\n",
      "L'etudiant(e) Amelie a échoué(e)\n"
     ]
    }
   ],
   "source": [
    "## Modification de l'attribut \"note\" de l'instance note_2\n",
    "note_2.note = 70\n",
    "print(f\"Apres une deuxieme correction, la note d'{note_2.nomEtudiant} est égal à {note_2.note}\")\n",
    "note_2.a_reussi()"
   ]
  },
  {
   "cell_type": "code",
   "execution_count": null,
   "id": "55cfd941-99ee-4efe-bb2a-53bd6e0da861",
   "metadata": {},
   "outputs": [],
   "source": []
  }
 ],
 "metadata": {
  "kernelspec": {
   "display_name": "Python [conda env:base] *",
   "language": "python",
   "name": "conda-base-py"
  },
  "language_info": {
   "codemirror_mode": {
    "name": "ipython",
    "version": 3
   },
   "file_extension": ".py",
   "mimetype": "text/x-python",
   "name": "python",
   "nbconvert_exporter": "python",
   "pygments_lexer": "ipython3",
   "version": "3.11.5"
  }
 },
 "nbformat": 4,
 "nbformat_minor": 5
}
