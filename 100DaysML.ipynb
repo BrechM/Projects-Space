{
 "cells": [
  {
   "cell_type": "markdown",
   "id": "f242d7d0-365c-4714-a315-5758abaa5ed2",
   "metadata": {},
   "source": [
    "### 1. Installation et chargement de Numpy "
   ]
  },
  {
   "cell_type": "code",
   "execution_count": 3,
   "id": "04a6c646-1072-48d1-97af-d97715ea8458",
   "metadata": {},
   "outputs": [
    {
     "name": "stdout",
     "output_type": "stream",
     "text": [
      "Requirement already satisfied: numpy in c:\\users\\brech\\anaconda3\\lib\\site-packages (1.24.3)\n"
     ]
    }
   ],
   "source": [
    "!pip install numpy\n",
    "import numpy as np"
   ]
  },
  {
   "cell_type": "markdown",
   "id": "289bbb87-cdcd-4017-8fc0-8c58e1deff70",
   "metadata": {},
   "source": [
    "### 2. Creation des données (ou tableau) avec numpy"
   ]
  },
  {
   "cell_type": "markdown",
   "id": "276d61ac-b8b8-43ed-a822-1a60b0b662d8",
   "metadata": {},
   "source": [
    "#### 2.1 Créer un numpy array avec une liste/lise de liste (matrice)"
   ]
  },
  {
   "cell_type": "code",
   "execution_count": 13,
   "id": "e0afcbcd-77be-435b-8e10-b3ba9e1ffa17",
   "metadata": {},
   "outputs": [
    {
     "name": "stdout",
     "output_type": "stream",
     "text": [
      "[1 2 3 4 5]\n"
     ]
    }
   ],
   "source": [
    "# Creation à partir d'une liste\n",
    "liste=[1,2, 3, 4, 5] # definition de la liste\n",
    "array_with_liste = np.array(liste)\n",
    "print(array_with_liste)"
   ]
  },
  {
   "cell_type": "markdown",
   "id": "b31e6280-7c06-4bf3-a7cf-b5f63c7f248c",
   "metadata": {},
   "source": [
    "### Creation à partir d'une matrice"
   ]
  },
  {
   "cell_type": "code",
   "execution_count": 17,
   "id": "9a493f31-2f32-43a8-bd24-ab40f80ab624",
   "metadata": {},
   "outputs": [
    {
     "name": "stdout",
     "output_type": "stream",
     "text": [
      "[[1 2 3]\n",
      " [4 5 6]\n",
      " [7 8 9]]\n"
     ]
    }
   ],
   "source": [
    "# Creation d'un numpy array à partir d'une liste de listes (matrices)\n",
    "matrice = [[1, 2, 3], [4, 5, 6], [7, 8, 9]]\n",
    "array_with_matrice = np.array(matrice)\n",
    "print(array_with_matrice)"
   ]
  },
  {
   "cell_type": "markdown",
   "id": "05e78e24-f518-4d12-b091-6fc6ac6e361b",
   "metadata": {},
   "source": [
    "### 2.2 Creer un numpy array à partir des onctions intégrées"
   ]
  },
  {
   "cell_type": "code",
   "execution_count": 21,
   "id": "49262ea1-e2e5-4888-8302-7c6decc831cc",
   "metadata": {},
   "outputs": [
    {
     "name": "stdout",
     "output_type": "stream",
     "text": [
      "[[0. 0. 0.]\n",
      " [0. 0. 0.]\n",
      " [0. 0. 0.]]\n"
     ]
    }
   ],
   "source": [
    "# Creer un numpy array à partir de la fonction zeros\n",
    "array_zeros = np.zeros((3,3))\n",
    "print(array_zeros)"
   ]
  },
  {
   "cell_type": "code",
   "execution_count": 23,
   "id": "06e1e77a-0530-4963-b018-83cf58162204",
   "metadata": {},
   "outputs": [
    {
     "name": "stdout",
     "output_type": "stream",
     "text": [
      "[[1. 1.]\n",
      " [1. 1.]\n",
      " [1. 1.]\n",
      " [1. 1.]]\n"
     ]
    }
   ],
   "source": [
    "# Creer un numpy array a a partir de la fonction ones\n",
    "array_ones = np.ones((4,2))\n",
    "print(array_ones)"
   ]
  },
  {
   "cell_type": "code",
   "execution_count": 26,
   "id": "6c2cdc78-6f77-49ac-b390-153ed414a448",
   "metadata": {},
   "outputs": [
    {
     "data": {
      "text/plain": [
       "array([[1., 0., 0., 0., 0., 0.],\n",
       "       [0., 1., 0., 0., 0., 0.],\n",
       "       [0., 0., 1., 0., 0., 0.],\n",
       "       [0., 0., 0., 1., 0., 0.],\n",
       "       [0., 0., 0., 0., 1., 0.],\n",
       "       [0., 0., 0., 0., 0., 1.]])"
      ]
     },
     "execution_count": 26,
     "metadata": {},
     "output_type": "execute_result"
    }
   ],
   "source": [
    "# Creer un numpy arry avec la fonction eye\n",
    "array_eye = np.eye(6) # pour creer la matrice identité de dimension 6\n",
    "array_eye"
   ]
  },
  {
   "cell_type": "code",
   "execution_count": 33,
   "id": "ebd1c153-1996-410d-ac7c-ff93d39486f6",
   "metadata": {},
   "outputs": [
    {
     "data": {
      "text/plain": [
       "array([ 0,  2,  4,  6,  8, 10])"
      ]
     },
     "execution_count": 33,
     "metadata": {},
     "output_type": "execute_result"
    }
   ],
   "source": [
    "# Creer un numpay array avec la fonction arange: pour creer des nombres entre entre le minimum et le maximum avec un pas\n",
    "array_arange = np.arange(0, 11, 2) # 2 etant le pas \n",
    "array_arange"
   ]
  },
  {
   "cell_type": "code",
   "execution_count": 37,
   "id": "f85818cf-dcd1-4163-a299-f31e761fa18c",
   "metadata": {},
   "outputs": [
    {
     "data": {
      "text/plain": [
       "array([0.  , 0.25, 0.5 , 0.75, 1.  ])"
      ]
     },
     "execution_count": 37,
     "metadata": {},
     "output_type": "execute_result"
    }
   ],
   "source": [
    "# Creer un numpy array avec la fonction linspace # generer une sequence de nombre entre deux valeurs données\n",
    "# avec un nombre de points  données\n",
    "array_linspace = np.linspace(0, 1, 5) # tres utile pour les graphiques\n",
    "array_linspace # Creer des points equidistants entre 0 et 1"
   ]
  },
  {
   "cell_type": "code",
   "execution_count": 43,
   "id": "5d75cd25-0faf-47a2-9f6b-6efb5c2ae348",
   "metadata": {},
   "outputs": [
    {
     "name": "stdout",
     "output_type": "stream",
     "text": [
      "[[0.84191836 0.55851081 0.23637749]\n",
      " [0.83299482 0.8582512  0.28096214]\n",
      " [0.97244011 0.08524444 0.70554034]\n",
      " [0.60477313 0.70218439 0.91513696]]\n"
     ]
    }
   ],
   "source": [
    "# Creer un numpy array de valeurs aléatoires avec la fonction random\n",
    "array_random =np.random.random((4,3)) # utile pour initialiser les poids dans les reseaux de neurones, génerer des données\n",
    "print(array_random) # me geere un tableau de données de 4 lignes et 3 colonnes\n",
    "# si c'est un vecteur de talle taille  3, On aura (3) , une matrice de taille 2x2, on aura (2,2)"
   ]
  },
  {
   "cell_type": "markdown",
   "id": "dc8257cb-8dcd-46b1-a54d-3f96c24cce4e",
   "metadata": {},
   "source": [
    "### 3 Fonctions mathématiques et statistiques avec numpy"
   ]
  },
  {
   "cell_type": "code",
   "execution_count": null,
   "id": "3f6fb8ff-c7d7-4e6b-9256-9bb2bbad763d",
   "metadata": {},
   "outputs": [],
   "source": [
    "# Fonctions mathématiques basiques\n",
    "arrayl= array_wise_liste\n",
    "array_sum = np.sum(arrayl)\n",
    "array_mean = np.mean(arrayl)\n",
    "array_std = np.std(arrayl)\n",
    "array_min = np.min(arrayl)\n",
    "array_max = np.max(arrayl)\n",
    "array_sqrt = np.sqrt(arrayl)\n",
    "array_abs =np.abs(arrayl)\n",
    "array_power = np.power(arrayl)\n",
    "array_exp = np.exp(arrayl)\n",
    "array_log = np.log(arrayl)\n",
    "array_sin = np.sin(arrayl)\n",
    "array_median = np.median(arrayl)\n",
    "array_sum"
   ]
  },
  {
   "cell_type": "markdown",
   "id": "5d442484-a783-43e6-8e8c-d3f15b5c3506",
   "metadata": {},
   "source": [
    "### 4 Manipulation des matrices avec Numpy"
   ]
  },
  {
   "cell_type": "code",
   "execution_count": 49,
   "id": "cf39b5df-df91-4701-a631-68eb051c3783",
   "metadata": {},
   "outputs": [
    {
     "name": "stdout",
     "output_type": "stream",
     "text": [
      "[[ 30  36  42]\n",
      " [ 66  81  96]\n",
      " [102 126 150]]\n"
     ]
    }
   ],
   "source": [
    "# Produit matriciel\n",
    "matrice = [[1, 2, 3], [4, 5, 6], [7, 8, 9]]\n",
    "array_with_matrice = np.array(matrice)\n",
    "produit_matriciel = np.dot(array_with_matrice, array_with_matrice)\n",
    "print(produit_matriciel)"
   ]
  },
  {
   "cell_type": "code",
   "execution_count": 51,
   "id": "21a2f997-8cf0-41e0-a1d9-94bc509f02e4",
   "metadata": {},
   "outputs": [
    {
     "name": "stdout",
     "output_type": "stream",
     "text": [
      "[[1 4 7]\n",
      " [2 5 8]\n",
      " [3 6 9]]\n"
     ]
    }
   ],
   "source": [
    "# Transposée\n",
    "transpose = np.transpose(array_with_matrice)\n",
    "print(transpose)"
   ]
  },
  {
   "cell_type": "code",
   "execution_count": 55,
   "id": "b7500fa9-8021-4d52-8736-8fe1764ab340",
   "metadata": {},
   "outputs": [
    {
     "name": "stdout",
     "output_type": "stream",
     "text": [
      "[[ 1.  0.  0.  0.  0.  0.]\n",
      " [ 0.  1.  0.  0.  0.  0.]\n",
      " [ 0.  0.  1.  0.  0.  0.]\n",
      " [-0. -0. -0.  1. -0. -0.]\n",
      " [ 0.  0.  0.  0.  1.  0.]\n",
      " [ 0.  0.  0.  0.  0.  1.]]\n"
     ]
    }
   ],
   "source": [
    "# Inversion (pour les matrices carrées non singulieres)\n",
    "inverse = np.linalg.inv(array_eye)\n",
    "print(inverse)"
   ]
  },
  {
   "cell_type": "code",
   "execution_count": 59,
   "id": "97d42fc3-8950-4247-a413-ef2b6dba6853",
   "metadata": {},
   "outputs": [
    {
     "name": "stdout",
     "output_type": "stream",
     "text": [
      "1.0\n"
     ]
    }
   ],
   "source": [
    "# Detreminant\n",
    "determinant = np.linalg.det(array_eye)\n",
    "print(determinant)"
   ]
  },
  {
   "cell_type": "markdown",
   "id": "5d2d0d1e-e0ad-44f1-ae0d-0070576285b2",
   "metadata": {},
   "source": [
    "### 4 Acceder aux elements, selectionner, modifier et mettre à jour un numpy array"
   ]
  },
  {
   "cell_type": "code",
   "execution_count": 64,
   "id": "94f48519-db98-44d1-b08a-efbf2a125210",
   "metadata": {},
   "outputs": [
    {
     "name": "stdout",
     "output_type": "stream",
     "text": [
      "1\n"
     ]
    }
   ],
   "source": [
    "# Acces aux elements\n",
    "arrayl = np.array([1,2,3,4,5])\n",
    "premier_element = arrayl[0]\n",
    "print(premier_element)\n",
    "# pour accerder au dernier element, ce sera arrayl[-1]"
   ]
  },
  {
   "cell_type": "code",
   "execution_count": 68,
   "id": "46596f63-87e5-4783-8211-9f91449fa5f2",
   "metadata": {},
   "outputs": [
    {
     "name": "stdout",
     "output_type": "stream",
     "text": [
      "[10  2  3  4  5]\n"
     ]
    }
   ],
   "source": [
    "# Modification d'un element\n",
    "arrayl[0] = 10\n",
    "print(arrayl)"
   ]
  },
  {
   "cell_type": "code",
   "execution_count": 78,
   "id": "2694799a-b9a7-4f54-a494-b22ea91e494b",
   "metadata": {},
   "outputs": [
    {
     "data": {
      "text/plain": [
       "array([10])"
      ]
     },
     "execution_count": 78,
     "metadata": {},
     "output_type": "execute_result"
    }
   ],
   "source": [
    "# Selection des elements qui respectent une condition\n",
    "condition = arrayl > 5\n",
    "elements_respectant_condition = arrayl[condition]\n",
    "elements_respectant_condition"
   ]
  },
  {
   "cell_type": "code",
   "execution_count": 84,
   "id": "bd6b4122-40e9-49b4-bcfe-024864c70abe",
   "metadata": {},
   "outputs": [
    {
     "data": {
      "text/plain": [
       "(array([0, 3, 4], dtype=int64),)"
      ]
     },
     "execution_count": 84,
     "metadata": {},
     "output_type": "execute_result"
    }
   ],
   "source": [
    "condition = arrayl > 3\n",
    "condition\n",
    "indices = np.where(arrayl > 3) # revoie les indices des elements superieurs à 3\n",
    "indices"
   ]
  },
  {
   "cell_type": "code",
   "execution_count": 86,
   "id": "1fbfa715-fdae-4300-b2e3-ec95bf14336e",
   "metadata": {},
   "outputs": [
    {
     "data": {
      "text/plain": [
       "array([ True, False, False,  True,  True])"
      ]
     },
     "execution_count": 86,
     "metadata": {},
     "output_type": "execute_result"
    }
   ],
   "source": [
    "arrayl > 3"
   ]
  },
  {
   "cell_type": "code",
   "execution_count": 92,
   "id": "16415293-4815-42d1-accc-d0aa0ca2aac1",
   "metadata": {},
   "outputs": [
    {
     "name": "stdout",
     "output_type": "stream",
     "text": [
      "[10]\n"
     ]
    }
   ],
   "source": [
    "# Utilisation de np.where qui permet de faire des filtres\n",
    "indices = np.where(arrayl > 5)\n",
    "elements_respectant_condition_np_where = arrayl[indices]\n",
    "print(elements_respectant_condition_np_where)"
   ]
  },
  {
   "cell_type": "code",
   "execution_count": 96,
   "id": "0c74f7c8-6d24-4630-98d5-aeacfe8c4b67",
   "metadata": {},
   "outputs": [
    {
     "name": "stdout",
     "output_type": "stream",
     "text": [
      "[0 2 3 0 0]\n"
     ]
    }
   ],
   "source": [
    "# Mise à jour d'un numpy array\n",
    "arrayl[condition]=0 # avec condition = arrayl > 3 , permet donc de remplacer par des 0 tous les elements > 3\n",
    "print(arrayl)"
   ]
  },
  {
   "cell_type": "code",
   "execution_count": 102,
   "id": "ed113688-48fb-4caf-ad23-aae1c7a1b513",
   "metadata": {},
   "outputs": [
    {
     "data": {
      "text/plain": [
       "array([1, 2, 3])"
      ]
     },
     "execution_count": 102,
     "metadata": {},
     "output_type": "execute_result"
    }
   ],
   "source": [
    "# Slicing et indexaction avncée\n",
    "array6 = np.array([[1, 2, 3], [4, 5, 6], [7, 8, 9]])\n",
    "# Slicing\n",
    "premiere_ligne = array6[0, :] # pour recuperer la premiere ligne (indice 0)\n",
    "premiere_ligne"
   ]
  },
  {
   "cell_type": "code",
   "execution_count": 104,
   "id": "746de477-b992-4791-8af5-db5d60e86eb3",
   "metadata": {},
   "outputs": [
    {
     "data": {
      "text/plain": [
       "array([1, 4, 7])"
      ]
     },
     "execution_count": 104,
     "metadata": {},
     "output_type": "execute_result"
    }
   ],
   "source": [
    "# prepiere colonne\n",
    "premiere_colonne = array6[:,0]\n",
    "premiere_colonne"
   ]
  },
  {
   "cell_type": "code",
   "execution_count": 108,
   "id": "3b32bb3a-2ef8-4928-8407-96364acbfa1a",
   "metadata": {},
   "outputs": [
    {
     "data": {
      "text/plain": [
       "array([[5, 6],\n",
       "       [8, 9]])"
      ]
     },
     "execution_count": 108,
     "metadata": {},
     "output_type": "execute_result"
    }
   ],
   "source": [
    "# Sous matrice\n",
    "sous_matrice = array6[1:3,1:3] # [1:3] pour les lignes prend 1 à 2 uniquement, et pour les colonnes prend 2 à 3 uniquement\n",
    "sous_matrice"
   ]
  },
  {
   "cell_type": "code",
   "execution_count": 110,
   "id": "792ef462-86d6-424a-b5c3-0a8fe5c72a8c",
   "metadata": {},
   "outputs": [
    {
     "data": {
      "text/plain": [
       "array([2, 6])"
      ]
     },
     "execution_count": 110,
     "metadata": {},
     "output_type": "execute_result"
    }
   ],
   "source": [
    "# Indexation avancée\n",
    "lignes = [0, 1] #  toutjours decaler de 1 pour identifier les valeurs\n",
    "colonnes =[1, 2] # declaler egalement de 1\n",
    "elements_selectionnes = array6[lignes, colonnes]\n",
    "elements_selectionnes"
   ]
  },
  {
   "cell_type": "code",
   "execution_count": 112,
   "id": "c7be3ce1-dafe-44bd-a5a0-a476a467da04",
   "metadata": {},
   "outputs": [
    {
     "data": {
      "text/plain": [
       "array([5, 7, 9])"
      ]
     },
     "execution_count": 112,
     "metadata": {},
     "output_type": "execute_result"
    }
   ],
   "source": [
    "# Operations elementaires et diffusion (broacasting)\n",
    "array7 =np.array([1,2,3])\n",
    "array8 = np.array([4, 5, 6])\n",
    "\n",
    "# Addition elementaire\n",
    "array_addition = array7 + array8\n",
    "array_addition"
   ]
  },
  {
   "cell_type": "code",
   "execution_count": 116,
   "id": "3dffade3-4537-4205-970e-5469648888d3",
   "metadata": {},
   "outputs": [
    {
     "data": {
      "text/plain": [
       "array([ 4, 10, 18])"
      ]
     },
     "execution_count": 116,
     "metadata": {},
     "output_type": "execute_result"
    }
   ],
   "source": [
    "# Multiplication elementaire\n",
    "array_multiplication = array7 * array8\n",
    "array_multiplication"
   ]
  },
  {
   "cell_type": "code",
   "execution_count": 118,
   "id": "8397752b-0d73-4907-95dd-afcfcb21ef33",
   "metadata": {},
   "outputs": [
    {
     "data": {
      "text/plain": [
       "array([[ 2,  4,  6],\n",
       "       [ 5,  7,  9],\n",
       "       [ 8, 10, 12]])"
      ]
     },
     "execution_count": 118,
     "metadata": {},
     "output_type": "execute_result"
    }
   ],
   "source": [
    "# Diffusion (broadcasting)\n",
    "array9 = np.array([[1, 2, 3], [4, 5, 6], [7, 8, 9]])\n",
    "array10 = np.array([1, 2, 3])\n",
    "array9 + array10"
   ]
  },
  {
   "cell_type": "markdown",
   "id": "f44d323b-9cea-493d-a392-c473c00ca04e",
   "metadata": {},
   "source": [
    "### 6 Redimensionnement, append, type de données taille etc"
   ]
  },
  {
   "cell_type": "code",
   "execution_count": 121,
   "id": "192c3c2b-8abb-4bf4-8635-93ae5d1a6f79",
   "metadata": {},
   "outputs": [
    {
     "name": "stdout",
     "output_type": "stream",
     "text": [
      "[[0 1 2]\n",
      " [3 4 5]\n",
      " [6 7 8]]\n"
     ]
    }
   ],
   "source": [
    "# r redimensionné le numpy array\n",
    "array3 = np.arange(9)\n",
    "array3_redimensionne = array3.reshape((3, 3))\n",
    "print(array3_redimensionne)"
   ]
  },
  {
   "cell_type": "code",
   "execution_count": 125,
   "id": "b77069a0-cc6f-47a7-b725-06decf3924e9",
   "metadata": {},
   "outputs": [
    {
     "name": "stdout",
     "output_type": "stream",
     "text": [
      "[0 2 3 0 0 6 7 8]\n"
     ]
    }
   ],
   "source": [
    "# Ajouter des elemnts dans un numpy array\n",
    "arrayl_allonge = np.append(arrayl, [6, 7, 8])\n",
    "print(arrayl_allonge)"
   ]
  },
  {
   "cell_type": "code",
   "execution_count": 128,
   "id": "7fd9d0f5-6e95-46bf-bc7b-8ba271217461",
   "metadata": {},
   "outputs": [
    {
     "data": {
      "text/plain": [
       "(3, 3)"
      ]
     },
     "execution_count": 128,
     "metadata": {},
     "output_type": "execute_result"
    }
   ],
   "source": [
    "# Connaitre les caracteristiques d'un numpy array\n",
    "array_with_matrice.shape # dimension de l'array"
   ]
  },
  {
   "cell_type": "code",
   "execution_count": 132,
   "id": "7f48a9e3-7c89-4f51-89ad-fb55e24f8439",
   "metadata": {},
   "outputs": [
    {
     "data": {
      "text/plain": [
       "numpy.ndarray"
      ]
     },
     "execution_count": 132,
     "metadata": {},
     "output_type": "execute_result"
    }
   ],
   "source": [
    "# connaitre le type d'objet\n",
    "type(array_with_matrice) # type de l'objet"
   ]
  },
  {
   "cell_type": "code",
   "execution_count": 134,
   "id": "5a984539-204c-4019-a4f1-1a443657a518",
   "metadata": {},
   "outputs": [
    {
     "data": {
      "text/plain": [
       "dtype('int32')"
      ]
     },
     "execution_count": 134,
     "metadata": {},
     "output_type": "execute_result"
    }
   ],
   "source": [
    "# Connaitre le type des él\n",
    "arrayl.dtype # type des objets"
   ]
  },
  {
   "cell_type": "code",
   "execution_count": 136,
   "id": "f8b5bc34-823b-499b-b6a6-e12c41e392fb",
   "metadata": {},
   "outputs": [
    {
     "data": {
      "text/plain": [
       "dtype('<U1')"
      ]
     },
     "execution_count": 136,
     "metadata": {},
     "output_type": "execute_result"
    }
   ],
   "source": [
    "array7 = np.array(['1', '2', '3'])\n",
    "array7.dtype"
   ]
  },
  {
   "cell_type": "code",
   "execution_count": null,
   "id": "1fa08555-d39f-42d6-9458-e0c4d9a71c4c",
   "metadata": {},
   "outputs": [],
   "source": []
  }
 ],
 "metadata": {
  "kernelspec": {
   "display_name": "Python [conda env:base] *",
   "language": "python",
   "name": "conda-base-py"
  },
  "language_info": {
   "codemirror_mode": {
    "name": "ipython",
    "version": 3
   },
   "file_extension": ".py",
   "mimetype": "text/x-python",
   "name": "python",
   "nbconvert_exporter": "python",
   "pygments_lexer": "ipython3",
   "version": "3.11.5"
  }
 },
 "nbformat": 4,
 "nbformat_minor": 5
}
