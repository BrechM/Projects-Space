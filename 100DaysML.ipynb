{
 "cells": [
  {
   "cell_type": "markdown",
   "id": "f242d7d0-365c-4714-a315-5758abaa5ed2",
   "metadata": {},
   "source": [
    "### 1. Installation et chargement de Numpy "
   ]
  },
  {
   "cell_type": "code",
   "execution_count": 3,
   "id": "04a6c646-1072-48d1-97af-d97715ea8458",
   "metadata": {},
   "outputs": [
    {
     "name": "stdout",
     "output_type": "stream",
     "text": [
      "Requirement already satisfied: numpy in c:\\users\\brech\\anaconda3\\lib\\site-packages (1.24.3)\n"
     ]
    }
   ],
   "source": [
    "!pip install numpy\n",
    "import numpy as np"
   ]
  },
  {
   "cell_type": "markdown",
   "id": "289bbb87-cdcd-4017-8fc0-8c58e1deff70",
   "metadata": {},
   "source": [
    "### 2. Creation des données (ou tableau) avec numpy"
   ]
  },
  {
   "cell_type": "markdown",
   "id": "276d61ac-b8b8-43ed-a822-1a60b0b662d8",
   "metadata": {},
   "source": [
    "#### 2.1 Créer un numpy array avec une liste/lise de liste (matrice)"
   ]
  },
  {
   "cell_type": "code",
   "execution_count": 13,
   "id": "e0afcbcd-77be-435b-8e10-b3ba9e1ffa17",
   "metadata": {},
   "outputs": [
    {
     "name": "stdout",
     "output_type": "stream",
     "text": [
      "[1 2 3 4 5]\n"
     ]
    }
   ],
   "source": [
    "# Creation à partir d'une liste\n",
    "liste=[1,2, 3, 4, 5] # definition de la liste\n",
    "array_with_liste = np.array(liste)\n",
    "print(array_with_liste)"
   ]
  },
  {
   "cell_type": "markdown",
   "id": "b31e6280-7c06-4bf3-a7cf-b5f63c7f248c",
   "metadata": {},
   "source": [
    "### Creation à partir d'une matrice"
   ]
  },
  {
   "cell_type": "code",
   "execution_count": 17,
   "id": "9a493f31-2f32-43a8-bd24-ab40f80ab624",
   "metadata": {},
   "outputs": [
    {
     "name": "stdout",
     "output_type": "stream",
     "text": [
      "[[1 2 3]\n",
      " [4 5 6]\n",
      " [7 8 9]]\n"
     ]
    }
   ],
   "source": [
    "# Creation d'un numpy array à partir d'une liste de listes (matrices)\n",
    "matrice = [[1, 2, 3], [4, 5, 6], [7, 8, 9]]\n",
    "array_with_matrice = np.array(matrice)\n",
    "print(array_with_matrice)"
   ]
  },
  {
   "cell_type": "markdown",
   "id": "05e78e24-f518-4d12-b091-6fc6ac6e361b",
   "metadata": {},
   "source": [
    "### 2.2 Creer un numpy array à partir des onctions intégrées"
   ]
  },
  {
   "cell_type": "code",
   "execution_count": 21,
   "id": "49262ea1-e2e5-4888-8302-7c6decc831cc",
   "metadata": {},
   "outputs": [
    {
     "name": "stdout",
     "output_type": "stream",
     "text": [
      "[[0. 0. 0.]\n",
      " [0. 0. 0.]\n",
      " [0. 0. 0.]]\n"
     ]
    }
   ],
   "source": [
    "# Creer un numpy array à partir de la fonction zeros\n",
    "array_zeros = np.zeros((3,3))\n",
    "print(array_zeros)"
   ]
  },
  {
   "cell_type": "code",
   "execution_count": 23,
   "id": "06e1e77a-0530-4963-b018-83cf58162204",
   "metadata": {},
   "outputs": [
    {
     "name": "stdout",
     "output_type": "stream",
     "text": [
      "[[1. 1.]\n",
      " [1. 1.]\n",
      " [1. 1.]\n",
      " [1. 1.]]\n"
     ]
    }
   ],
   "source": [
    "# Creer un numpy array a a partir de la fonction ones\n",
    "array_ones = np.ones((4,2))\n",
    "print(array_ones)"
   ]
  },
  {
   "cell_type": "code",
   "execution_count": 26,
   "id": "6c2cdc78-6f77-49ac-b390-153ed414a448",
   "metadata": {},
   "outputs": [
    {
     "data": {
      "text/plain": [
       "array([[1., 0., 0., 0., 0., 0.],\n",
       "       [0., 1., 0., 0., 0., 0.],\n",
       "       [0., 0., 1., 0., 0., 0.],\n",
       "       [0., 0., 0., 1., 0., 0.],\n",
       "       [0., 0., 0., 0., 1., 0.],\n",
       "       [0., 0., 0., 0., 0., 1.]])"
      ]
     },
     "execution_count": 26,
     "metadata": {},
     "output_type": "execute_result"
    }
   ],
   "source": [
    "# Creer un numpy arry avec la fonction eye\n",
    "array_eye = np.eye(6) # pour creer la matrice identité de dimension 6\n",
    "array_eye"
   ]
  },
  {
   "cell_type": "code",
   "execution_count": 33,
   "id": "ebd1c153-1996-410d-ac7c-ff93d39486f6",
   "metadata": {},
   "outputs": [
    {
     "data": {
      "text/plain": [
       "array([ 0,  2,  4,  6,  8, 10])"
      ]
     },
     "execution_count": 33,
     "metadata": {},
     "output_type": "execute_result"
    }
   ],
   "source": [
    "# Creer un numpay array avec la fonction arange: pour creer des nombres entre entre le minimum et le maximum avec un pas\n",
    "array_arange = np.arange(0, 11, 2) # 2 etant le pas \n",
    "array_arange"
   ]
  },
  {
   "cell_type": "code",
   "execution_count": null,
   "id": "f85818cf-dcd1-4163-a299-f31e761fa18c",
   "metadata": {},
   "outputs": [],
   "source": [
    "# Creer un numpy array avec la fonction linspace # generer une sequence de nombre entre deux valeurs données\n",
    "# avec un nombre de points  données\n",
    "array_linspace ) np.linspace(0, 1, 5) # tres utile pour les graphiques\n",
    "array_linspace"
   ]
  },
  {
   "cell_type": "code",
   "execution_count": null,
   "id": "5d75cd25-0faf-47a2-9f6b-6efb5c2ae348",
   "metadata": {},
   "outputs": [],
   "source": []
  }
 ],
 "metadata": {
  "kernelspec": {
   "display_name": "Python [conda env:base] *",
   "language": "python",
   "name": "conda-base-py"
  },
  "language_info": {
   "codemirror_mode": {
    "name": "ipython",
    "version": 3
   },
   "file_extension": ".py",
   "mimetype": "text/x-python",
   "name": "python",
   "nbconvert_exporter": "python",
   "pygments_lexer": "ipython3",
   "version": "3.11.5"
  }
 },
 "nbformat": 4,
 "nbformat_minor": 5
}
