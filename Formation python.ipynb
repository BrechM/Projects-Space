{
 "cells": [
  {
   "cell_type": "code",
   "execution_count": 4,
   "id": "9169b13e",
   "metadata": {},
   "outputs": [
    {
     "name": "stdout",
     "output_type": "stream",
     "text": [
      "Bonjour mad\n"
     ]
    }
   ],
   "source": [
    "print(\"Bonjour mad\")\n"
   ]
  },
  {
   "cell_type": "code",
   "execution_count": 7,
   "id": "979ecdce",
   "metadata": {},
   "outputs": [],
   "source": [
    "# création d'un booleen\n",
    "temp=True"
   ]
  },
  {
   "cell_type": "code",
   "execution_count": 8,
   "id": "75ff49f4",
   "metadata": {},
   "outputs": [
    {
     "data": {
      "text/plain": [
       "bool"
      ]
     },
     "execution_count": 8,
     "metadata": {},
     "output_type": "execute_result"
    }
   ],
   "source": [
    "type(temp)"
   ]
  },
  {
   "cell_type": "code",
   "execution_count": 9,
   "id": "5d1dc642",
   "metadata": {},
   "outputs": [
    {
     "data": {
      "text/plain": [
       "bool"
      ]
     },
     "execution_count": 9,
     "metadata": {},
     "output_type": "execute_result"
    }
   ],
   "source": [
    "temp1=False\n",
    "type(temp1)"
   ]
  },
  {
   "cell_type": "code",
   "execution_count": 10,
   "id": "8aaf5409",
   "metadata": {},
   "outputs": [
    {
     "data": {
      "text/plain": [
       "'False'"
      ]
     },
     "execution_count": 10,
     "metadata": {},
     "output_type": "execute_result"
    }
   ],
   "source": [
    "str(temp1)"
   ]
  },
  {
   "cell_type": "code",
   "execution_count": 18,
   "id": "70e51651",
   "metadata": {},
   "outputs": [
    {
     "name": "stdout",
     "output_type": "stream",
     "text": [
      "5\n"
     ]
    }
   ],
   "source": [
    "# operation entre les variables\n",
    "x=2\n",
    "y=3\n",
    "z=x+y\n",
    "print(z)"
   ]
  },
  {
   "cell_type": "code",
   "execution_count": 12,
   "id": "1173385d",
   "metadata": {},
   "outputs": [
    {
     "name": "stdout",
     "output_type": "stream",
     "text": [
      "255\n"
     ]
    }
   ],
   "source": [
    "# multiplication\n",
    "z=x*y\n",
    "print(z)"
   ]
  },
  {
   "cell_type": "code",
   "execution_count": 20,
   "id": "d9b7c3ee",
   "metadata": {},
   "outputs": [
    {
     "name": "stdout",
     "output_type": "stream",
     "text": [
      "0\n"
     ]
    }
   ],
   "source": [
    "# recuperer la partie entiere d'une division\n",
    "z=x//y\n",
    "print(z)"
   ]
  },
  {
   "cell_type": "code",
   "execution_count": 22,
   "id": "e23e7d3d",
   "metadata": {},
   "outputs": [
    {
     "name": "stdout",
     "output_type": "stream",
     "text": [
      "2\n"
     ]
    }
   ],
   "source": [
    "# recuperer le reste de la division euclidienne\n",
    "z=x%y\n",
    "print(z)"
   ]
  },
  {
   "cell_type": "code",
   "execution_count": 21,
   "id": "316556ac",
   "metadata": {},
   "outputs": [
    {
     "data": {
      "text/plain": [
       "8"
      ]
     },
     "execution_count": 21,
     "metadata": {},
     "output_type": "execute_result"
    }
   ],
   "source": [
    "# ici on a 2 expo 3\n",
    "z=x**y\n",
    "z"
   ]
  },
  {
   "cell_type": "markdown",
   "id": "670f7a98",
   "metadata": {},
   "source": [
    "#### opérations avancées: Division entiere //, modulo %, et exponentiation **"
   ]
  },
  {
   "cell_type": "markdown",
   "id": "1b8d2a50",
   "metadata": {},
   "source": [
    "# Condition logique simple en python"
   ]
  },
  {
   "cell_type": "markdown",
   "id": "33374ad1",
   "metadata": {},
   "source": [
    "### Opérateurs logiques: and, or, not\n",
    "### pour les comparaisons: ==, !=, >,<, >=,<="
   ]
  },
  {
   "cell_type": "code",
   "execution_count": 23,
   "id": "048af724",
   "metadata": {},
   "outputs": [
    {
     "data": {
      "text/plain": [
       "False"
      ]
     },
     "execution_count": 23,
     "metadata": {},
     "output_type": "execute_result"
    }
   ],
   "source": [
    "x=True\n",
    "y=False\n",
    "z=x and y # on peut utiliser & a la place du and\n",
    "z"
   ]
  },
  {
   "cell_type": "code",
   "execution_count": 25,
   "id": "d9b8f917",
   "metadata": {},
   "outputs": [
    {
     "data": {
      "text/plain": [
       "True"
      ]
     },
     "execution_count": 25,
     "metadata": {},
     "output_type": "execute_result"
    }
   ],
   "source": [
    "z=x or y\n",
    "z"
   ]
  },
  {
   "cell_type": "code",
   "execution_count": 26,
   "id": "633cb052",
   "metadata": {},
   "outputs": [
    {
     "data": {
      "text/plain": [
       "False"
      ]
     },
     "execution_count": 26,
     "metadata": {},
     "output_type": "execute_result"
    }
   ],
   "source": [
    "z= not x\n",
    "z"
   ]
  },
  {
   "cell_type": "code",
   "execution_count": 27,
   "id": "678d7d79",
   "metadata": {},
   "outputs": [
    {
     "data": {
      "text/plain": [
       "24"
      ]
     },
     "execution_count": 27,
     "metadata": {},
     "output_type": "execute_result"
    }
   ],
   "source": [
    "age=24\n",
    "age"
   ]
  },
  {
   "cell_type": "code",
   "execution_count": 29,
   "id": "5fc410cb",
   "metadata": {},
   "outputs": [
    {
     "data": {
      "text/plain": [
       "True"
      ]
     },
     "execution_count": 29,
     "metadata": {},
     "output_type": "execute_result"
    }
   ],
   "source": [
    "## tester si l'age est egale à 24 ans\n",
    "age==24"
   ]
  },
  {
   "cell_type": "code",
   "execution_count": 30,
   "id": "3d6fd482",
   "metadata": {},
   "outputs": [
    {
     "data": {
      "text/plain": [
       "False"
      ]
     },
     "execution_count": 30,
     "metadata": {},
     "output_type": "execute_result"
    }
   ],
   "source": [
    "age<24"
   ]
  },
  {
   "cell_type": "code",
   "execution_count": 31,
   "id": "7541fc48",
   "metadata": {},
   "outputs": [
    {
     "data": {
      "text/plain": [
       "False"
      ]
     },
     "execution_count": 31,
     "metadata": {},
     "output_type": "execute_result"
    }
   ],
   "source": [
    "age>24"
   ]
  },
  {
   "cell_type": "code",
   "execution_count": 32,
   "id": "97a9a953",
   "metadata": {},
   "outputs": [
    {
     "data": {
      "text/plain": [
       "False"
      ]
     },
     "execution_count": 32,
     "metadata": {},
     "output_type": "execute_result"
    }
   ],
   "source": [
    "## tester la difference\n",
    "age !=24"
   ]
  },
  {
   "cell_type": "code",
   "execution_count": 33,
   "id": "48cafb5a",
   "metadata": {},
   "outputs": [],
   "source": [
    "# On peut egalement tester si l'age est <= ou >= "
   ]
  },
  {
   "cell_type": "markdown",
   "id": "36a727db",
   "metadata": {},
   "source": [
    "# Création des fonctions en python"
   ]
  },
  {
   "cell_type": "markdown",
   "id": "973f5a07",
   "metadata": {},
   "source": [
    "### Fonction lambda: création de fonctions simples ave c une seule ligne"
   ]
  },
  {
   "cell_type": "code",
   "execution_count": 38,
   "id": "ae872fbe",
   "metadata": {},
   "outputs": [],
   "source": [
    "addition=lambda x,y, z:x+y+z # On peut rajouter autant de parametres"
   ]
  },
  {
   "cell_type": "code",
   "execution_count": 39,
   "id": "f79c2a67",
   "metadata": {},
   "outputs": [
    {
     "data": {
      "text/plain": [
       "35"
      ]
     },
     "execution_count": 39,
     "metadata": {},
     "output_type": "execute_result"
    }
   ],
   "source": [
    "temp=addition(x=5, y=10,z=20)\n",
    "temp"
   ]
  },
  {
   "cell_type": "markdown",
   "id": "e741d04c",
   "metadata": {},
   "source": [
    "# Création fonction classique"
   ]
  },
  {
   "cell_type": "code",
   "execution_count": 41,
   "id": "5920b34e",
   "metadata": {},
   "outputs": [],
   "source": [
    "def addition(a,b,c):\n",
    "    resultat=a+b+c\n",
    "    \n",
    "    return resultat"
   ]
  },
  {
   "cell_type": "code",
   "execution_count": 42,
   "id": "5db0359e",
   "metadata": {},
   "outputs": [
    {
     "data": {
      "text/plain": [
       "9"
      ]
     },
     "execution_count": 42,
     "metadata": {},
     "output_type": "execute_result"
    }
   ],
   "source": [
    "addition(a=2,b=3,c=4)"
   ]
  },
  {
   "cell_type": "code",
   "execution_count": null,
   "id": "a809248b",
   "metadata": {},
   "outputs": [],
   "source": [
    "def addition(a,b,c):\n",
    "    resultat=a+b\n",
    "    resultat=resultat+c\n",
    "    \n",
    "    return resultat"
   ]
  },
  {
   "cell_type": "markdown",
   "id": "bd61edcb",
   "metadata": {},
   "source": [
    "### Multiplication"
   ]
  },
  {
   "cell_type": "code",
   "execution_count": 43,
   "id": "3b4b374f",
   "metadata": {},
   "outputs": [],
   "source": [
    "def multiplication(a,b,c):\n",
    "    resultat=a*b\n",
    "    resultat=resultat*c\n",
    "    \n",
    "    return resultat"
   ]
  },
  {
   "cell_type": "code",
   "execution_count": 44,
   "id": "3f2ca61d",
   "metadata": {},
   "outputs": [
    {
     "data": {
      "text/plain": [
       "24"
      ]
     },
     "execution_count": 44,
     "metadata": {},
     "output_type": "execute_result"
    }
   ],
   "source": [
    "multiplication(a=2,b=3,c=4)"
   ]
  },
  {
   "cell_type": "markdown",
   "id": "2a7d7a85",
   "metadata": {},
   "source": [
    "### NB: une variable definie dans une fonction n'est accessible que dans cette fonction"
   ]
  },
  {
   "cell_type": "code",
   "execution_count": 45,
   "id": "98d78c66",
   "metadata": {},
   "outputs": [],
   "source": [
    "def multiplication(a,b,c):\n",
    "    \"\"\"\"\n",
    "    expliquer la fonction\n",
    "    param\n",
    "    return\n",
    "    \"\"\"\"\n",
    "    d=5\n",
    "    resultat=a*b #commmenter les fonctions\n",
    "    resultat=resultat*c*d\n",
    "    \n",
    "    return resultat\n",
    "## avec des valeurs par defauts, il est possible de taper juste multiplication()"
   ]
  },
  {
   "cell_type": "markdown",
   "id": "b5bc1b37",
   "metadata": {},
   "source": [
    "###  exemple d'application"
   ]
  },
  {
   "cell_type": "code",
   "execution_count": 46,
   "id": "2cd7050e",
   "metadata": {},
   "outputs": [],
   "source": [
    "mutliplication=lambda x,y:x*y"
   ]
  },
  {
   "cell_type": "code",
   "execution_count": 47,
   "id": "d2cd7302",
   "metadata": {},
   "outputs": [
    {
     "data": {
      "text/plain": [
       "20"
      ]
     },
     "execution_count": 47,
     "metadata": {},
     "output_type": "execute_result"
    }
   ],
   "source": [
    "mutliplication(5,4)"
   ]
  },
  {
   "cell_type": "code",
   "execution_count": 48,
   "id": "2623c0f6",
   "metadata": {},
   "outputs": [
    {
     "data": {
      "text/plain": [
       "35.6"
      ]
     },
     "execution_count": 48,
     "metadata": {},
     "output_type": "execute_result"
    }
   ],
   "source": [
    "### creation d'une fonction par def\n",
    "def celsius_to_fahrenheit(celsius):\n",
    "    fahrenheit=(celsius*9/5)+32\n",
    "    return fahrenheit\n",
    "celsius_to_fahrenheit(2)\n"
   ]
  },
  {
   "cell_type": "markdown",
   "id": "e572ee8c",
   "metadata": {},
   "source": [
    "# Partie2: Structures de controle\n",
    "   ### if: comment prendre des decisions dans vos programmes\n",
    "     "
   ]
  },
  {
   "cell_type": "code",
   "execution_count": 52,
   "id": "7666b696",
   "metadata": {},
   "outputs": [],
   "source": [
    "# decisions simples \n",
    "temperature = 6\n",
    "if temperature > 30:\n",
    "    print(\"il fait chaud\")"
   ]
  },
  {
   "cell_type": "code",
   "execution_count": 53,
   "id": "bab092f0",
   "metadata": {},
   "outputs": [
    {
     "name": "stdout",
     "output_type": "stream",
     "text": [
      "il fait chaud\n"
     ]
    }
   ],
   "source": [
    "## pour temp = 6 il n'y aura pas de reponse car temp = 6, en changeant cette valeur temp=35\n",
    "temperature = 35\n",
    "if temperature > 30:\n",
    "    print(\"il fait chaud\")"
   ]
  },
  {
   "cell_type": "code",
   "execution_count": 54,
   "id": "d535b2e9",
   "metadata": {},
   "outputs": [
    {
     "name": "stdout",
     "output_type": "stream",
     "text": [
      "il fait chaud\n"
     ]
    }
   ],
   "source": [
    "## Autres possibilités\n",
    "temperatue = 35\n",
    "if True:\n",
    "    print(\"il fait chaud\")"
   ]
  },
  {
   "cell_type": "code",
   "execution_count": 55,
   "id": "0378fa7e",
   "metadata": {},
   "outputs": [
    {
     "name": "stdout",
     "output_type": "stream",
     "text": [
      "il fait chaud\n"
     ]
    }
   ],
   "source": [
    "# decison avec alternative(Else)\n",
    "temperature = 35\n",
    "if temperature > 30:\n",
    "    print(\"il fait chaud\")\n",
    "else:\n",
    "    print(\"il fait froid\")\n",
    "    "
   ]
  },
  {
   "cell_type": "code",
   "execution_count": 58,
   "id": "886e870b",
   "metadata": {},
   "outputs": [
    {
     "name": "stdout",
     "output_type": "stream",
     "text": [
      "A améliorer\n"
     ]
    }
   ],
   "source": [
    "# Decision avec multiples alternatives (Elif)\n",
    "note = \"A\" ## on peut toujours changer la note A, B, C,...,Z\n",
    "if note ==\"A\":\n",
    "    print(\"Excellent\")\n",
    "elif note == \"B\":\n",
    "    print(\"Bien\")\n",
    "elif note == \"C\":\n",
    "    print(\"Moyen\")\n",
    "else:\n",
    "    print(\"A améliorer\")"
   ]
  },
  {
   "cell_type": "code",
   "execution_count": 59,
   "id": "ba729782",
   "metadata": {},
   "outputs": [
    {
     "name": "stdout",
     "output_type": "stream",
     "text": [
      "Bourse acceptée\n"
     ]
    }
   ],
   "source": [
    "# Conditions multiples conditions\n",
    "note = 17 ## possibilité de modifié la note\n",
    "age = 18 # et ici l'age\n",
    "\n",
    "if (note >= 16) and (age <= 20): # on peut utiliser and, or\n",
    "    print(\"Bourse acceptée\")\n",
    "else :\n",
    "    print(\"Pas de Bourse\")"
   ]
  },
  {
   "cell_type": "code",
   "execution_count": 61,
   "id": "76a96a25",
   "metadata": {},
   "outputs": [
    {
     "name": "stdout",
     "output_type": "stream",
     "text": [
      "bourse acceptée\n"
     ]
    }
   ],
   "source": [
    "# Conditions imbriquées\n",
    "if age <=20 :\n",
    "    if note >16:\n",
    "        print(\"bourse acceptée\")\n",
    "    else:\n",
    "        print(\"Pas de bourse\")\n",
    "else:\n",
    "    print(\"Dossier à retraiter\")"
   ]
  },
  {
   "cell_type": "code",
   "execution_count": 62,
   "id": "2fea4d95",
   "metadata": {},
   "outputs": [
    {
     "data": {
      "text/plain": [
       "'Enfant'"
      ]
     },
     "execution_count": 62,
     "metadata": {},
     "output_type": "execute_result"
    }
   ],
   "source": [
    "# Exemple: Creation d'une fonction\n",
    "\n",
    "def classer_age(x):\n",
    "    if x<=12:\n",
    "        resultat = \"Enfant\"\n",
    "    elif (x>12) & (x<=17):\n",
    "        resultat= \"Adolescent\"\n",
    "    elif (x>=18) & (x<=59):\n",
    "        resultat = \"Adulte\"\n",
    "    elif (x>=60):\n",
    "        resultat = \"Senior\"\n",
    "    else: \n",
    "        resultat = \"Age invalide\"\n",
    "    return resultat\n",
    "classer_age(12)"
   ]
  },
  {
   "cell_type": "markdown",
   "id": "05226d54",
   "metadata": {},
   "source": [
    "### Présentation de la boucle for for simple"
   ]
  },
  {
   "cell_type": "code",
   "execution_count": 64,
   "id": "7cd0d39a",
   "metadata": {},
   "outputs": [
    {
     "name": "stdout",
     "output_type": "stream",
     "text": [
      "0\n",
      "1\n",
      "2\n",
      "3\n",
      "4\n",
      "5\n",
      "6\n",
      "7\n",
      "8\n",
      "9\n"
     ]
    }
   ],
   "source": [
    "for i in range(0,10,1): # 0=min, 10=max, et 1=le pas\n",
    "    print(i)\n",
    "range?? ## pour detailler la fonction (pour voir les fonctions natives en python)"
   ]
  },
  {
   "cell_type": "code",
   "execution_count": 65,
   "id": "e1404f28",
   "metadata": {},
   "outputs": [
    {
     "name": "stdout",
     "output_type": "stream",
     "text": [
      "10\n",
      "9\n",
      "8\n",
      "7\n",
      "6\n",
      "5\n",
      "4\n",
      "3\n",
      "2\n",
      "1\n"
     ]
    }
   ],
   "source": [
    "for i in range(10,0,-1): \n",
    "    print(i)"
   ]
  },
  {
   "cell_type": "code",
   "execution_count": 66,
   "id": "6f7256b2",
   "metadata": {},
   "outputs": [
    {
     "data": {
      "text/plain": [
       "range(10, 0, -1)"
      ]
     },
     "execution_count": 66,
     "metadata": {},
     "output_type": "execute_result"
    }
   ],
   "source": [
    "range(10,0,-1)"
   ]
  },
  {
   "cell_type": "code",
   "execution_count": 67,
   "id": "a1927145",
   "metadata": {},
   "outputs": [
    {
     "name": "stdout",
     "output_type": "stream",
     "text": [
      "10 est un nombre pair\n",
      "9 est un nombre impair\n",
      "8 est un nombre pair\n",
      "7 est un nombre impair\n",
      "6 est un nombre pair\n",
      "5 est un nombre impair\n",
      "4 est un nombre pair\n",
      "3 est un nombre impair\n",
      "2 est un nombre pair\n",
      "1 est un nombre impair\n"
     ]
    }
   ],
   "source": [
    "# for avec une condition if\n",
    "\n",
    "for i in range(10,0,-1):\n",
    "    if i % 2 == 0:\n",
    "        print(i, \"est un nombre pair\")\n",
    "    else :\n",
    "        print(i, \"est un nombre impair\")"
   ]
  },
  {
   "cell_type": "markdown",
   "id": "faf654fb",
   "metadata": {},
   "source": [
    "### While (tant que) : executer des instructions de maniere répétée"
   ]
  },
  {
   "cell_type": "code",
   "execution_count": 68,
   "id": "6ee1da8a",
   "metadata": {},
   "outputs": [
    {
     "name": "stdout",
     "output_type": "stream",
     "text": [
      "2\n",
      "3\n",
      "4\n",
      "5\n",
      "6\n",
      "7\n",
      "8\n",
      "9\n",
      "10\n"
     ]
    }
   ],
   "source": [
    "# while de base\n",
    "compteur = 1\n",
    "\n",
    "while compteur < 10:\n",
    "    compteur += 1 # compteur = compteur + 1\n",
    "    print(compteur)"
   ]
  },
  {
   "cell_type": "code",
   "execution_count": 69,
   "id": "7745f61e",
   "metadata": {},
   "outputs": [
    {
     "name": "stdout",
     "output_type": "stream",
     "text": [
      "1\n",
      "2\n",
      "3\n",
      "4\n",
      "5\n",
      "6\n",
      "7\n",
      "8\n",
      "9\n"
     ]
    }
   ],
   "source": [
    "compteur = 1\n",
    "\n",
    "while compteur < 10:\n",
    "    print(compteur)\n",
    "    compteur += 1 # compteur = compteur + 1"
   ]
  },
  {
   "cell_type": "code",
   "execution_count": 72,
   "id": "181dede6",
   "metadata": {},
   "outputs": [
    {
     "name": "stdout",
     "output_type": "stream",
     "text": [
      "1\n",
      "2\n",
      "3\n",
      "4\n"
     ]
    }
   ],
   "source": [
    "# Boucle infinie ave While et l'instruction brak\n",
    "compteur=1\n",
    "while True:\n",
    "    print(compteur)\n",
    "    compteur +=1 # compteur = compteur + 1\n",
    "    if compteur == 5:\n",
    "       break"
   ]
  },
  {
   "cell_type": "markdown",
   "id": "9bf5b2ad",
   "metadata": {},
   "source": [
    "# Types de données en Python"
   ]
  },
  {
   "cell_type": "markdown",
   "id": "ab7a5a52",
   "metadata": {},
   "source": [
    "## Listes"
   ]
  },
  {
   "cell_type": "code",
   "execution_count": 73,
   "id": "4d9e423a",
   "metadata": {},
   "outputs": [
    {
     "name": "stdout",
     "output_type": "stream",
     "text": [
      "[15, 17, 23, 29, 45, 50, 45, 67]\n"
     ]
    },
    {
     "data": {
      "text/plain": [
       "list"
      ]
     },
     "execution_count": 73,
     "metadata": {},
     "output_type": "execute_result"
    }
   ],
   "source": [
    "# Liste de nombre\n",
    "liste_age =[15, 17, 23, 29, 45, 50, 45, 67]\n",
    "print(liste_age)\n",
    "type(liste_age)"
   ]
  },
  {
   "cell_type": "code",
   "execution_count": 74,
   "id": "01b926b7",
   "metadata": {},
   "outputs": [
    {
     "data": {
      "text/plain": [
       "8"
      ]
     },
     "execution_count": 74,
     "metadata": {},
     "output_type": "execute_result"
    }
   ],
   "source": [
    "# Taille des élements d'une liste\n",
    "len(liste_age)"
   ]
  },
  {
   "cell_type": "code",
   "execution_count": 77,
   "id": "3bc3d8b7",
   "metadata": {},
   "outputs": [
    {
     "name": "stdout",
     "output_type": "stream",
     "text": [
      "['MAD', 'STAT', 'ANGLAIS', 'PROB']\n"
     ]
    }
   ],
   "source": [
    "# liste de chaine de caracteres\n",
    "liste_nom = [\"MAD\", \"STAT\", \"ANGLAIS\",\"PROB\"]\n",
    "print(liste_nom)"
   ]
  },
  {
   "cell_type": "code",
   "execution_count": 76,
   "id": "58f85488",
   "metadata": {},
   "outputs": [
    {
     "data": {
      "text/plain": [
       "4"
      ]
     },
     "execution_count": 76,
     "metadata": {},
     "output_type": "execute_result"
    }
   ],
   "source": [
    "# taille de cet objet\n",
    "len(liste_nom)"
   ]
  },
  {
   "cell_type": "code",
   "execution_count": 80,
   "id": "244e52bd",
   "metadata": {},
   "outputs": [
    {
     "name": "stdout",
     "output_type": "stream",
     "text": [
      "[[15, 17, 23, 29, 45, 50, 45, 67], ['MAD', 'STAT', 'ANGLAIS', 'PROB']]\n"
     ]
    },
    {
     "data": {
      "text/plain": [
       "list"
      ]
     },
     "execution_count": 80,
     "metadata": {},
     "output_type": "execute_result"
    }
   ],
   "source": [
    "# Liste de listes\n",
    "liste =[ liste_age,liste_nom]\n",
    "print(liste)\n",
    "type(liste)"
   ]
  },
  {
   "cell_type": "code",
   "execution_count": 81,
   "id": "f48f0fdd",
   "metadata": {},
   "outputs": [
    {
     "data": {
      "text/plain": [
       "2"
      ]
     },
     "execution_count": 81,
     "metadata": {},
     "output_type": "execute_result"
    }
   ],
   "source": [
    "# Taille\n",
    "len(liste)"
   ]
  },
  {
   "cell_type": "markdown",
   "id": "0f028891",
   "metadata": {},
   "source": [
    "## Read"
   ]
  },
  {
   "cell_type": "code",
   "execution_count": 82,
   "id": "665cc841",
   "metadata": {},
   "outputs": [
    {
     "data": {
      "text/plain": [
       "15"
      ]
     },
     "execution_count": 82,
     "metadata": {},
     "output_type": "execute_result"
    }
   ],
   "source": [
    "# lire un element au debut\n",
    "# liste de nombre\n",
    "liste_age=[15, 17, 23, 29, 45, 50, 45, 67]\n",
    "liste_age[0]"
   ]
  },
  {
   "cell_type": "code",
   "execution_count": 83,
   "id": "2a563066",
   "metadata": {},
   "outputs": [
    {
     "data": {
      "text/plain": [
       "67"
      ]
     },
     "execution_count": 83,
     "metadata": {},
     "output_type": "execute_result"
    }
   ],
   "source": [
    "# lire le dernier element\n",
    "liste_age[-1]"
   ]
  },
  {
   "cell_type": "code",
   "execution_count": 84,
   "id": "81f44847",
   "metadata": {},
   "outputs": [
    {
     "data": {
      "text/plain": [
       "67"
      ]
     },
     "execution_count": 84,
     "metadata": {},
     "output_type": "execute_result"
    }
   ],
   "source": [
    "# récupération d'un élément sur la liste\n",
    "liste_age[len(liste_age)-1]"
   ]
  },
  {
   "cell_type": "code",
   "execution_count": 85,
   "id": "3eb4b271",
   "metadata": {},
   "outputs": [
    {
     "data": {
      "text/plain": [
       "23"
      ]
     },
     "execution_count": 85,
     "metadata": {},
     "output_type": "execute_result"
    }
   ],
   "source": [
    "# lire une position quelconque\n",
    "liste_age[2] # element de la liste de la quatrieme position"
   ]
  },
  {
   "cell_type": "code",
   "execution_count": null,
   "id": "117b48d5",
   "metadata": {},
   "outputs": [],
   "source": [
    "# premier élement de la premiere liste\n",
    "liste[0][0]"
   ]
  },
  {
   "cell_type": "code",
   "execution_count": 86,
   "id": "d877cb23",
   "metadata": {},
   "outputs": [
    {
     "data": {
      "text/plain": [
       "[15, 17, 23]"
      ]
     },
     "execution_count": 86,
     "metadata": {},
     "output_type": "execute_result"
    }
   ],
   "source": [
    "# liste sur plusieurs positions qui se suivent\n",
    "liste_age[0:3] # on peut choisir n'imporet quel élement"
   ]
  },
  {
   "cell_type": "code",
   "execution_count": 87,
   "id": "919c840c",
   "metadata": {},
   "outputs": [
    {
     "data": {
      "text/plain": [
       "[17, 23, 29]"
      ]
     },
     "execution_count": 87,
     "metadata": {},
     "output_type": "execute_result"
    }
   ],
   "source": [
    "liste_age[1:4]"
   ]
  },
  {
   "cell_type": "code",
   "execution_count": 90,
   "id": "a7f2d5eb",
   "metadata": {},
   "outputs": [
    {
     "name": "stdout",
     "output_type": "stream",
     "text": [
      "MAD\n",
      "STAT\n",
      "ANGLAIS\n",
      "PROB\n"
     ]
    }
   ],
   "source": [
    "# faire une boucle sur une liste\n",
    "for nom in liste_nom :\n",
    "    print(nom)"
   ]
  },
  {
   "cell_type": "markdown",
   "id": "b55d68c1",
   "metadata": {},
   "source": [
    "## Update"
   ]
  },
  {
   "cell_type": "code",
   "execution_count": 93,
   "id": "07eed677",
   "metadata": {},
   "outputs": [
    {
     "name": "stdout",
     "output_type": "stream",
     "text": [
      "['MAD', 'fin', 'ANGLAIS', 'PROB']\n"
     ]
    }
   ],
   "source": [
    "# Modification direct à partir d'un index\n",
    "liste_nom[1] = \"fin\"\n",
    "print(liste_nom)"
   ]
  },
  {
   "cell_type": "code",
   "execution_count": 94,
   "id": "e1457f23",
   "metadata": {},
   "outputs": [
    {
     "data": {
      "text/plain": [
       "['MAD', 'fin', 'ANGLAIS', 'PROB', 'GLM']"
      ]
     },
     "execution_count": 94,
     "metadata": {},
     "output_type": "execute_result"
    }
   ],
   "source": [
    "# Ajouter un element à la fin de la liste\n",
    "liste_nom.append(\"GLM\")\n",
    "liste_nom"
   ]
  },
  {
   "cell_type": "code",
   "execution_count": 95,
   "id": "44b60d6d",
   "metadata": {},
   "outputs": [
    {
     "data": {
      "text/plain": [
       "['MAD', 'chimie', 'fin', 'ANGLAIS', 'PROB', 'GLM']"
      ]
     },
     "execution_count": 95,
     "metadata": {},
     "output_type": "execute_result"
    }
   ],
   "source": [
    "# ajouter un element àune position précise (insert)\n",
    "liste_nom.insert(1,\"chimie\")\n",
    "liste_nom"
   ]
  },
  {
   "cell_type": "markdown",
   "id": "32252e84",
   "metadata": {},
   "source": [
    "## Delete"
   ]
  },
  {
   "cell_type": "code",
   "execution_count": 97,
   "id": "a1ff3a63",
   "metadata": {},
   "outputs": [
    {
     "data": {
      "text/plain": [
       "['MAD', 'chimie', 'fin', 'GLM']"
      ]
     },
     "execution_count": 97,
     "metadata": {},
     "output_type": "execute_result"
    }
   ],
   "source": [
    "# Supprimer l'élément à un index spécifique (del liste[index])\n",
    "del liste_nom[3] # supprime ici \"l'anglais\"\n",
    "liste_nom"
   ]
  },
  {
   "cell_type": "code",
   "execution_count": 98,
   "id": "bd8ba2a7",
   "metadata": {},
   "outputs": [],
   "source": [
    "# Supprimer la premiere occurence de l'element (remove)\n",
    "liste_age = [15, 17, 23, 29, 45, 50, 45, 67] # supprime le premier element de la liste\n",
    "liste_age.remove(15)"
   ]
  },
  {
   "cell_type": "code",
   "execution_count": 99,
   "id": "50469fea",
   "metadata": {},
   "outputs": [
    {
     "data": {
      "text/plain": [
       "[17, 23, 29, 45, 50, 45, 67]"
      ]
     },
     "execution_count": 99,
     "metadata": {},
     "output_type": "execute_result"
    }
   ],
   "source": [
    "liste_age"
   ]
  },
  {
   "cell_type": "code",
   "execution_count": 100,
   "id": "57e2b86a",
   "metadata": {},
   "outputs": [
    {
     "data": {
      "text/plain": [
       "17"
      ]
     },
     "execution_count": 100,
     "metadata": {},
     "output_type": "execute_result"
    }
   ],
   "source": [
    "# supprimer et retourner l'element à l'index  donné pop\n",
    "liste_age.pop(0)"
   ]
  },
  {
   "cell_type": "code",
   "execution_count": 101,
   "id": "ee8fee9e",
   "metadata": {},
   "outputs": [
    {
     "data": {
      "text/plain": [
       "[23, 29, 45, 50, 45, 67]"
      ]
     },
     "execution_count": 101,
     "metadata": {},
     "output_type": "execute_result"
    }
   ],
   "source": [
    "liste_age"
   ]
  },
  {
   "cell_type": "markdown",
   "id": "1f4b78d8",
   "metadata": {},
   "source": [
    "## String"
   ]
  },
  {
   "cell_type": "code",
   "execution_count": 102,
   "id": "fe2ba15f",
   "metadata": {},
   "outputs": [],
   "source": [
    "nom= \"Brech\""
   ]
  },
  {
   "cell_type": "code",
   "execution_count": 105,
   "id": "abedd913",
   "metadata": {},
   "outputs": [
    {
     "data": {
      "text/plain": [
       "'Bre'"
      ]
     },
     "execution_count": 105,
     "metadata": {},
     "output_type": "execute_result"
    }
   ],
   "source": [
    "nom[:3] # permet de deonner les trois premires lettres dela chaine de caractere et pour le dernier nom[-1]"
   ]
  },
  {
   "cell_type": "markdown",
   "id": "9804d2b8",
   "metadata": {},
   "source": [
    "###  Tuples"
   ]
  },
  {
   "cell_type": "code",
   "execution_count": 106,
   "id": "d5f95d6a",
   "metadata": {},
   "outputs": [],
   "source": [
    "# un tuple est une collection d'éléments ordonnée et immuable en python\n",
    "# Avantage: moins d'espace mémoire que les listes"
   ]
  },
  {
   "cell_type": "code",
   "execution_count": 107,
   "id": "75a23e12",
   "metadata": {},
   "outputs": [
    {
     "data": {
      "text/plain": [
       "(3, 6, 7, 8)"
      ]
     },
     "execution_count": 107,
     "metadata": {},
     "output_type": "execute_result"
    }
   ],
   "source": [
    "# Create\n",
    "mon_tuple =(3, 6, 7, 8)\n",
    "mon_tuple"
   ]
  },
  {
   "cell_type": "code",
   "execution_count": 108,
   "id": "c4325d91",
   "metadata": {},
   "outputs": [
    {
     "data": {
      "text/plain": [
       "6"
      ]
     },
     "execution_count": 108,
     "metadata": {},
     "output_type": "execute_result"
    }
   ],
   "source": [
    "# Read\n",
    "mon_tuple[0] # premier élément\n",
    "mon_tuple[-1] # dernier element\n",
    "\n",
    "mon_tuple[1]\n"
   ]
  },
  {
   "cell_type": "code",
   "execution_count": 109,
   "id": "66c66573",
   "metadata": {},
   "outputs": [
    {
     "data": {
      "text/plain": [
       "(3, 6, 7, 8, 3, 5)"
      ]
     },
     "execution_count": 109,
     "metadata": {},
     "output_type": "execute_result"
    }
   ],
   "source": [
    "# update\n",
    "# on ne peut pas modifier les tuples comme sur les listes, on peut par contre rajouter des élements\n",
    "mon_tuple + (3,5)"
   ]
  },
  {
   "cell_type": "code",
   "execution_count": 110,
   "id": "bd1e1c43",
   "metadata": {},
   "outputs": [],
   "source": [
    "# delete\n",
    "del mon_tuple"
   ]
  },
  {
   "cell_type": "markdown",
   "id": "18e82442",
   "metadata": {},
   "source": [
    "# Sets"
   ]
  },
  {
   "cell_type": "markdown",
   "id": "27a352dd",
   "metadata": {},
   "source": [
    "- 1) Un set est une collection d'elements non ordonnée, modifiable et unique en Python. Chaque element dans un set est distinct et ne peut apparaitre qu'une seule fois.\n",
    "- 2) Avantage: les Sets sont optimisées pour vérifier rapidement si un element est present dans la collection, ce qui le rend ideaux pour les operations comme les unionsn intersection, et les differences d'ensembles."
   ]
  },
  {
   "cell_type": "code",
   "execution_count": 111,
   "id": "e1368386",
   "metadata": {},
   "outputs": [
    {
     "data": {
      "text/plain": [
       "{4, 5, 6, 7}"
      ]
     },
     "execution_count": 111,
     "metadata": {},
     "output_type": "execute_result"
    }
   ],
   "source": [
    "# Create\n",
    "mon_set={4, 5, 7, 7, 7, 6, 6}\n",
    "mon_set"
   ]
  },
  {
   "cell_type": "code",
   "execution_count": 113,
   "id": "28db7fb6",
   "metadata": {},
   "outputs": [
    {
     "name": "stdout",
     "output_type": "stream",
     "text": [
      "4\n",
      "5\n",
      "6\n",
      "7\n"
     ]
    }
   ],
   "source": [
    "# Read (for)\n",
    "for element in mon_set:\n",
    "    print(element)"
   ]
  },
  {
   "cell_type": "code",
   "execution_count": 114,
   "id": "d8b130e2",
   "metadata": {},
   "outputs": [
    {
     "name": "stdout",
     "output_type": "stream",
     "text": [
      "3 est disponible\n"
     ]
    }
   ],
   "source": [
    "# Read if pour verifier la présence\n",
    "if 4 in mon_set:\n",
    "    print(\"3 est disponible\")\n",
    "else:\n",
    "    print(\"3 est non disponible\")"
   ]
  },
  {
   "cell_type": "markdown",
   "id": "4f319120",
   "metadata": {},
   "source": [
    "# Partie 3:"
   ]
  },
  {
   "cell_type": "markdown",
   "id": "9c226275",
   "metadata": {},
   "source": [
    "### Corriger exercice sur les listes"
   ]
  },
  {
   "cell_type": "code",
   "execution_count": 125,
   "id": "237b2879",
   "metadata": {},
   "outputs": [
    {
     "name": "stdout",
     "output_type": "stream",
     "text": [
      "Liste avant remplacement [12, 35, 12, 9, 56, 24, 35, 12, 89, 24, 35, 12]\n",
      "liste apres remplacement [100, 35, 100, 9, 56, 24, 35, 100, 89, 24, 35, 100]\n"
     ]
    }
   ],
   "source": [
    "# Premiere Solution\n",
    "\n",
    "liste_nombre = [12, 35, 12, 9, 56, 24, 35, 12, 89, 24, 35, 12]\n",
    "nombre_cherche = 12\n",
    "nombre_remplace = 100\n",
    "\n",
    "print(\"Liste avant remplacement\", liste_nombre)\n",
    "\n",
    "for i in range(len(liste_nombre)):\n",
    "    if liste_nombre[i] == nombre_cherche:\n",
    "        liste_nombre[i] = nombre_remplace \n",
    "\n",
    "print(\"liste apres remplacement\", liste_nombre)"
   ]
  },
  {
   "cell_type": "code",
   "execution_count": 127,
   "id": "063830cb",
   "metadata": {},
   "outputs": [
    {
     "name": "stdout",
     "output_type": "stream",
     "text": [
      "liste avant remplacement [12, 35, 12, 9, 56, 24, 35, 12, 89, 24, 35, 12]\n",
      "liste apres remplacement [100, 35, 100, 9, 56, 24, 35, 100, 89, 24, 35, 100]\n"
     ]
    }
   ],
   "source": [
    "# deuxieme solution\n",
    "\n",
    "liste_nombre = [12, 35, 12, 9, 56, 24, 35, 12, 89, 24, 35, 12]\n",
    "nombre_cherche = 12\n",
    "nombre_remplace = 100\n",
    "\n",
    "liste_apres=liste_nombre\n",
    "\n",
    "print(\"liste avant remplacement\", liste_nombre)\n",
    "\n",
    "compteur = 0\n",
    "for i in liste_apres:\n",
    "    if i==nombre_cherche :\n",
    "        liste_apres[compteur] = nombre_remplace\n",
    "    compteur += 1 # equivalent à compteur = compteur + 1\n",
    "\n",
    "print(\"liste apres remplacement\", liste_apres)"
   ]
  },
  {
   "cell_type": "code",
   "execution_count": 128,
   "id": "13411bec",
   "metadata": {},
   "outputs": [
    {
     "name": "stdout",
     "output_type": "stream",
     "text": [
      "liste apres remplacement [100, 35, 100, 9, 56, 24, 35, 100, 89, 24, 35, 100]\n"
     ]
    }
   ],
   "source": [
    "# troisieme possibilité\n",
    "def remplacer (liste_nombre, nombre_cherche, nombre_remplace):\n",
    "    for i in range(len(liste_nombre)):\n",
    "        if liste_nombre[i] == nombre_cherche:\n",
    "            liste_nombre[i] = nombre_remplace\n",
    "    return liste_nombre\n",
    "print(\"liste apres remplacement\", liste_nombre)"
   ]
  },
  {
   "cell_type": "markdown",
   "id": "54da2a0f",
   "metadata": {},
   "source": [
    "# Les dictionnaires"
   ]
  },
  {
   "cell_type": "markdown",
   "id": "9e022337",
   "metadata": {},
   "source": [
    "- a) Un dictionnaire en Python est une collection d'elements non ordonnées, modifiables et indexés. chaque élement dans un dictionnaire est une paire clé-valeur, ou chaque clé est unique.\n",
    "- b) Avantage: les dictionnaires sont optimisés pour recuper rapidement  des valeurs lorsque vous connaissez la clé, ce qui les rend idéaux pour stocker des données qu'il est necessaire de recuperer efficacement."
   ]
  },
  {
   "cell_type": "markdown",
   "id": "5a9a59a0",
   "metadata": {},
   "source": [
    "## Create"
   ]
  },
  {
   "cell_type": "code",
   "execution_count": 129,
   "id": "5bc7f600",
   "metadata": {},
   "outputs": [],
   "source": [
    "# Création d'un dictionnaire"
   ]
  },
  {
   "cell_type": "code",
   "execution_count": 166,
   "id": "eac215ce",
   "metadata": {},
   "outputs": [
    {
     "data": {
      "text/plain": [
       "{'loyer': 500, 'divertissement': 200, 'sante': 100, 'transport': 20}"
      ]
     },
     "execution_count": 166,
     "metadata": {},
     "output_type": "execute_result"
    }
   ],
   "source": [
    "depense_mensuelle = {\"loyer\": 500, \n",
    "                    \"divertissement\": 200,\n",
    "                    \"sante\": 100,\n",
    "                    \"transport\": 20}\n",
    "depense_mensuelle"
   ]
  },
  {
   "cell_type": "code",
   "execution_count": 132,
   "id": "5d3c50a2",
   "metadata": {},
   "outputs": [
    {
     "data": {
      "text/plain": [
       "dict"
      ]
     },
     "execution_count": 132,
     "metadata": {},
     "output_type": "execute_result"
    }
   ],
   "source": [
    "# type\n",
    "\n",
    "type(depense_mensuelle)"
   ]
  },
  {
   "cell_type": "code",
   "execution_count": 167,
   "id": "d4d99435",
   "metadata": {},
   "outputs": [
    {
     "data": {
      "text/plain": [
       "{'loyer': 500, 'divertissement': 200, 'sante': 20, 'transport': 20}"
      ]
     },
     "execution_count": 167,
     "metadata": {},
     "output_type": "execute_result"
    }
   ],
   "source": [
    "# impossible d'avoir deux clés identiques\n",
    "\n",
    "depense_mensuelle = {\"loyer\": 500, \n",
    "                    \"divertissement\": 200,\n",
    "                    \"sante\": 100,\n",
    "                    \"transport\": 20,\n",
    "                    \"sante\":20}\n",
    "depense_mensuelle\n",
    "\n",
    "## recupere juste la deuxieme valeur de sante, On s'assure juste que la clé soit unique"
   ]
  },
  {
   "cell_type": "code",
   "execution_count": 138,
   "id": "2b93dbe7",
   "metadata": {},
   "outputs": [
    {
     "data": {
      "text/plain": [
       "4"
      ]
     },
     "execution_count": 138,
     "metadata": {},
     "output_type": "execute_result"
    }
   ],
   "source": [
    "len(depense_mensuelle)"
   ]
  },
  {
   "cell_type": "code",
   "execution_count": null,
   "id": "905dea1b",
   "metadata": {},
   "outputs": [],
   "source": [
    "# utilisation en machine learning\n",
    "\n",
    "param = {\"nb_iteration\": 500, \n",
    "                    \"nbr_variable\": 200,\n",
    "                    \"sante\": 100,\n",
    "                    \"transport\": 20,\n",
    "                    \"sante\":20}"
   ]
  },
  {
   "cell_type": "code",
   "execution_count": 168,
   "id": "d9176dcc",
   "metadata": {},
   "outputs": [
    {
     "name": "stdout",
     "output_type": "stream",
     "text": [
      "{'janvier': {'loyer': 500, 'divertissement': 200, 'sante': 20, 'transport': 20}, 'fevrier': {'loyer': 400, 'divertissement': 300, 'sante': 30, 'transport': 20}}\n"
     ]
    }
   ],
   "source": [
    "# Possibilibité de creer des dictionnaires de dictionnaires\n",
    "depense_janvier = {\"loyer\": 500, \n",
    "                    \"divertissement\": 200,\n",
    "                    \"sante\": 100,\n",
    "                    \"transport\": 20,\n",
    "                    \"sante\":20}\n",
    "\n",
    "depense_fevrier = {\"loyer\": 400, \n",
    "                    \"divertissement\": 300,\n",
    "                    \"sante\": 400,\n",
    "                    \"transport\": 20,\n",
    "                    \"sante\":30}\n",
    "depense_annuelle={\"janvier\": depense_janvier,\n",
    "                 \"fevrier\": depense_fevrier}\n",
    "\n",
    "print(depense_annuelle)"
   ]
  },
  {
   "cell_type": "code",
   "execution_count": 137,
   "id": "37f4fa95",
   "metadata": {},
   "outputs": [
    {
     "data": {
      "text/plain": [
       "2"
      ]
     },
     "execution_count": 137,
     "metadata": {},
     "output_type": "execute_result"
    }
   ],
   "source": [
    "len(depense_annuelle)"
   ]
  },
  {
   "cell_type": "markdown",
   "id": "02e8ef21",
   "metadata": {},
   "source": [
    "## Read"
   ]
  },
  {
   "cell_type": "code",
   "execution_count": 140,
   "id": "8a2388ab",
   "metadata": {},
   "outputs": [
    {
     "name": "stdout",
     "output_type": "stream",
     "text": [
      "500\n"
     ]
    }
   ],
   "source": [
    "# lire une clé\n",
    "loyer=depense_mensuelle[\"loyer\"]\n",
    "print(loyer)"
   ]
  },
  {
   "cell_type": "code",
   "execution_count": 143,
   "id": "62e03270",
   "metadata": {},
   "outputs": [
    {
     "name": "stdout",
     "output_type": "stream",
     "text": [
      "None\n"
     ]
    }
   ],
   "source": [
    "# tester une autre clé\n",
    "# depense_mensuelle.get??\n",
    "\n",
    "temp=depense_mensuelle.get(\"loisir\")\n",
    "print(temp)"
   ]
  },
  {
   "cell_type": "code",
   "execution_count": 146,
   "id": "d849c277",
   "metadata": {},
   "outputs": [
    {
     "data": {
      "text/plain": [
       "200"
      ]
     },
     "execution_count": 146,
     "metadata": {},
     "output_type": "execute_result"
    }
   ],
   "source": [
    "# Obtenir toutes les clés  disponibles\n",
    "depense_mensuelle.keys()\n",
    "depense_mensuelle['divertissement']"
   ]
  },
  {
   "cell_type": "code",
   "execution_count": 169,
   "id": "fb5bfffc",
   "metadata": {},
   "outputs": [
    {
     "data": {
      "text/plain": [
       "dict_keys(['loyer', 'divertissement', 'sante', 'transport'])"
      ]
     },
     "execution_count": 169,
     "metadata": {},
     "output_type": "execute_result"
    }
   ],
   "source": [
    "depense_mensuelle.keys()"
   ]
  },
  {
   "cell_type": "code",
   "execution_count": 148,
   "id": "29b16a08",
   "metadata": {},
   "outputs": [
    {
     "data": {
      "text/plain": [
       "200"
      ]
     },
     "execution_count": 148,
     "metadata": {},
     "output_type": "execute_result"
    }
   ],
   "source": [
    "# Acceder à une clé specifique\n",
    "depense_mensuelle[list(depense_mensuelle.keys())[1]] # on transforme d'abord en liste depense_mensuelle qui est un dict"
   ]
  },
  {
   "cell_type": "code",
   "execution_count": 170,
   "id": "a70b5aed",
   "metadata": {},
   "outputs": [
    {
     "data": {
      "text/plain": [
       "dict_values([500, 200, 20, 20])"
      ]
     },
     "execution_count": 170,
     "metadata": {},
     "output_type": "execute_result"
    }
   ],
   "source": [
    "# Obtenir les valeurs\n",
    "depense_mensuelle.values()"
   ]
  },
  {
   "cell_type": "code",
   "execution_count": 171,
   "id": "92acde16",
   "metadata": {},
   "outputs": [
    {
     "data": {
      "text/plain": [
       "dict_items([('loyer', 500), ('divertissement', 200), ('sante', 20), ('transport', 20)])"
      ]
     },
     "execution_count": 171,
     "metadata": {},
     "output_type": "execute_result"
    }
   ],
   "source": [
    "# obtenir les items\n",
    "depense_mensuelle.items()"
   ]
  },
  {
   "cell_type": "code",
   "execution_count": 151,
   "id": "d1c5e8fe",
   "metadata": {},
   "outputs": [
    {
     "data": {
      "text/plain": [
       "4"
      ]
     },
     "execution_count": 151,
     "metadata": {},
     "output_type": "execute_result"
    }
   ],
   "source": [
    "# taille su dictionnaire\n",
    "len(depense_mensuelle)"
   ]
  },
  {
   "cell_type": "markdown",
   "id": "4aefe782",
   "metadata": {},
   "source": [
    "## Update"
   ]
  },
  {
   "cell_type": "code",
   "execution_count": 172,
   "id": "ac62f913",
   "metadata": {},
   "outputs": [
    {
     "name": "stdout",
     "output_type": "stream",
     "text": [
      "{'loyer': 600, 'divertissement': 200, 'sante': 20, 'transport': 20}\n"
     ]
    }
   ],
   "source": [
    "# mettre à jour la valeur d'une clé dans le dictionnaire\n",
    "\n",
    "depense_mensuelle['loyer'] = 600\n",
    "print(depense_mensuelle)"
   ]
  },
  {
   "cell_type": "code",
   "execution_count": 173,
   "id": "0d2a2751",
   "metadata": {},
   "outputs": [
    {
     "name": "stdout",
     "output_type": "stream",
     "text": [
      "{'loyer': 600, 'divertissement': 200, 'sante': 20, 'transport': 20, 'vetement': 200}\n"
     ]
    }
   ],
   "source": [
    "# Ajouter un nouvel élement dans le dictionnaire\n",
    "depense_mensuelle[\"vetement\"]=200\n",
    "print(depense_mensuelle)"
   ]
  },
  {
   "cell_type": "markdown",
   "id": "290e6838",
   "metadata": {},
   "source": [
    "## Delete"
   ]
  },
  {
   "cell_type": "code",
   "execution_count": 174,
   "id": "d559d748",
   "metadata": {},
   "outputs": [
    {
     "name": "stdout",
     "output_type": "stream",
     "text": [
      "{'loyer': 600, 'divertissement': 200, 'sante': 20, 'transport': 20}\n"
     ]
    }
   ],
   "source": [
    "# supprimer une clé (del)\n",
    "del depense_mensuelle[\"vetement\"]\n",
    "print(depense_mensuelle)"
   ]
  },
  {
   "cell_type": "code",
   "execution_count": 175,
   "id": "a0fcc5d7",
   "metadata": {},
   "outputs": [],
   "source": [
    "# methode pop\n",
    "transport = depense_mensuelle.pop('transport')\n"
   ]
  },
  {
   "cell_type": "code",
   "execution_count": 176,
   "id": "103b55e3",
   "metadata": {},
   "outputs": [
    {
     "name": "stdout",
     "output_type": "stream",
     "text": [
      "20\n",
      "{'loyer': 600, 'divertissement': 200, 'sante': 20}\n"
     ]
    }
   ],
   "source": [
    "print(transport)\n",
    "print(depense_mensuelle)"
   ]
  },
  {
   "cell_type": "markdown",
   "id": "99354ec6",
   "metadata": {},
   "source": [
    "## Utilisation des dictionnaires dans les boucles for"
   ]
  },
  {
   "cell_type": "code",
   "execution_count": 177,
   "id": "9d4b4271",
   "metadata": {},
   "outputs": [
    {
     "name": "stdout",
     "output_type": "stream",
     "text": [
      "loyer\n",
      "divertissement\n",
      "sante\n"
     ]
    }
   ],
   "source": [
    "# for avec les clés\n",
    "for keys in depense_mensuelle.keys(): #  le nom que l'on met dans le for n'a pas trop d'importance, on peut remplacer keys=k=v\n",
    "    print(keys) "
   ]
  },
  {
   "cell_type": "code",
   "execution_count": 179,
   "id": "87e1a636",
   "metadata": {},
   "outputs": [
    {
     "name": "stdout",
     "output_type": "stream",
     "text": [
      "600\n",
      "200\n",
      "20\n"
     ]
    }
   ],
   "source": [
    "# for avec les values\n",
    "for val in depense_mensuelle.values():\n",
    "    print(val)"
   ]
  },
  {
   "cell_type": "code",
   "execution_count": 182,
   "id": "8789a2cb",
   "metadata": {},
   "outputs": [
    {
     "name": "stdout",
     "output_type": "stream",
     "text": [
      "Ceci est la clé janvier\n",
      "Ceci est la clé fevrier\n"
     ]
    }
   ],
   "source": [
    "# for avec les clés et les valeurs\n",
    "\n",
    "for k,v in depense_annuelle.items():\n",
    "    print(\"Ceci est la clé\", k)"
   ]
  },
  {
   "cell_type": "code",
   "execution_count": 183,
   "id": "dab64357",
   "metadata": {},
   "outputs": [
    {
     "name": "stdout",
     "output_type": "stream",
     "text": [
      "loyer 400\n",
      "divertissement 300\n",
      "sante 30\n",
      "transport 20\n"
     ]
    }
   ],
   "source": [
    "for i,j in v.items(): ## le dictionnaire affiché est celui de fevrier \n",
    "        print(i,j)"
   ]
  },
  {
   "cell_type": "code",
   "execution_count": 181,
   "id": "807427c2",
   "metadata": {},
   "outputs": [
    {
     "name": "stdout",
     "output_type": "stream",
     "text": [
      "Ceci est la clé janvier\n",
      "loyer 500\n",
      "divertissement 200\n",
      "sante 20\n",
      "transport 20\n",
      "Ceci est la clé fevrier\n",
      "loyer 400\n",
      "divertissement 300\n",
      "sante 30\n",
      "transport 20\n"
     ]
    }
   ],
   "source": [
    "# for avec les clés et les valeurs\n",
    "\n",
    "for k,v in depense_annuelle.items():\n",
    "    print(\"Ceci est la clé\", k)\n",
    "    for i,j in v.items():\n",
    "        print(i,j)"
   ]
  },
  {
   "cell_type": "code",
   "execution_count": 180,
   "id": "fa4fbc37",
   "metadata": {},
   "outputs": [
    {
     "name": "stdout",
     "output_type": "stream",
     "text": [
      "ceci est la clé  loyer ceci est la valeur 600\n",
      "ceci est la clé  divertissement ceci est la valeur 200\n",
      "ceci est la clé  sante ceci est la valeur 20\n"
     ]
    }
   ],
   "source": [
    "# for avec les clés et les valeurs\n",
    "for k,v in depense_mensuelle.items():\n",
    "    print(\"ceci est la clé \",k, \"ceci est la valeur\",v)"
   ]
  },
  {
   "cell_type": "markdown",
   "id": "2fd0d3e9",
   "metadata": {},
   "source": [
    "### listes en comprehension"
   ]
  },
  {
   "cell_type": "code",
   "execution_count": 187,
   "id": "985c0078",
   "metadata": {},
   "outputs": [],
   "source": [
    "# creer la liste des carrés de 0 à 99"
   ]
  },
  {
   "cell_type": "code",
   "execution_count": 188,
   "id": "cfa44712",
   "metadata": {},
   "outputs": [
    {
     "name": "stdout",
     "output_type": "stream",
     "text": [
      "[0, 1, 4, 9, 16, 25, 36, 49, 64, 81, 100, 121, 144, 169, 196, 225, 256, 289, 324, 361, 400, 441, 484, 529, 576, 625, 676, 729, 784, 841, 900, 961, 1024, 1089, 1156, 1225, 1296, 1369, 1444, 1521, 1600, 1681, 1764, 1849, 1936, 2025, 2116, 2209, 2304, 2401, 2500, 2601, 2704, 2809, 2916, 3025, 3136, 3249, 3364, 3481, 3600, 3721, 3844, 3969, 4096, 4225, 4356, 4489, 4624, 4761, 4900, 5041, 5184, 5329, 5476, 5625, 5776, 5929, 6084, 6241, 6400, 6561, 6724, 6889, 7056, 7225, 7396, 7569, 7744, 7921, 8100, 8281, 8464, 8649, 8836, 9025, 9216, 9409, 9604, 9801]\n"
     ]
    }
   ],
   "source": [
    "# Approche classique\n",
    "\n",
    "liste_carre = []\n",
    "for i in range(100):\n",
    "    liste_carre.append(i**2) # ajouter un element à la  derniere position d'une liste\n",
    "print(liste_carre)"
   ]
  },
  {
   "cell_type": "code",
   "execution_count": 189,
   "id": "0afd98e8",
   "metadata": {},
   "outputs": [
    {
     "name": "stdout",
     "output_type": "stream",
     "text": [
      "[0, 1, 4, 9, 16, 25, 36, 49, 64, 81, 100, 121, 144, 169, 196, 225, 256, 289, 324, 361, 400, 441, 484, 529, 576, 625, 676, 729, 784, 841, 900, 961, 1024, 1089, 1156, 1225, 1296, 1369, 1444, 1521, 1600, 1681, 1764, 1849, 1936, 2025, 2116, 2209, 2304, 2401, 2500, 2601, 2704, 2809, 2916, 3025, 3136, 3249, 3364, 3481, 3600, 3721, 3844, 3969, 4096, 4225, 4356, 4489, 4624, 4761, 4900, 5041, 5184, 5329, 5476, 5625, 5776, 5929, 6084, 6241, 6400, 6561, 6724, 6889, 7056, 7225, 7396, 7569, 7744, 7921, 8100, 8281, 8464, 8649, 8836, 9025, 9216, 9409, 9604]\n"
     ]
    }
   ],
   "source": [
    "# definition en comprehension\n",
    "liste_carre_com = [x ** 2 for x in range(99)]\n",
    "print(liste_carre_com)"
   ]
  },
  {
   "cell_type": "code",
   "execution_count": 191,
   "id": "a2875ce5",
   "metadata": {},
   "outputs": [
    {
     "name": "stdout",
     "output_type": "stream",
     "text": [
      "[0, 4, 16, 36, 64, 100, 144, 196, 256, 324, 400, 484, 576, 676, 784, 900, 1024, 1156, 1296, 1444, 1600, 1764, 1936, 2116, 2304, 2500, 2704, 2916, 3136, 3364, 3600, 3844, 4096, 4356, 4624, 4900, 5184, 5476, 5776, 6084, 6400, 6724, 7056, 7396, 7744, 8100, 8464, 8836, 9216, 9604]\n"
     ]
    },
    {
     "data": {
      "text/plain": [
       "list"
      ]
     },
     "execution_count": 191,
     "metadata": {},
     "output_type": "execute_result"
    }
   ],
   "source": [
    "# Filtrer une liste pour ne garder que les nombres  pairs\n",
    "liste_carre_com_pair = [x ** 2 for x in range(99) if x % 2 == 0] # la condition if pour montrer que le reste de la division=0\n",
    "print(liste_carre_com_pair)\n",
    "type(liste_carre_com_pair)"
   ]
  },
  {
   "cell_type": "code",
   "execution_count": 192,
   "id": "a4c048bc",
   "metadata": {},
   "outputs": [
    {
     "data": {
      "text/plain": [
       "['JEAN', 'PAUL', 'MARIE']"
      ]
     },
     "execution_count": 192,
     "metadata": {},
     "output_type": "execute_result"
    }
   ],
   "source": [
    "# Transformer des noms en majuscule\n",
    "liste_nom = [\"jean\", \"paul\", \"marie\"]\n",
    "liste_nom_majuscule = [x.upper() for x in liste_nom]\n",
    "liste_nom_majuscule"
   ]
  },
  {
   "cell_type": "markdown",
   "id": "243ca0e0",
   "metadata": {},
   "source": [
    "### Exercice en liste de comprehension "
   ]
  },
  {
   "cell_type": "code",
   "execution_count": 194,
   "id": "6e9da9b4",
   "metadata": {},
   "outputs": [
    {
     "data": {
      "text/plain": [
       "['Bonjour', 'monde', 'Python', 'est', 'génial']"
      ]
     },
     "execution_count": 194,
     "metadata": {},
     "output_type": "execute_result"
    }
   ],
   "source": [
    "mots=[\"Bonjour\", \"le\", \"monde\", \"Python\", \"est\", \"génial\"]\n",
    "\n",
    "mots_long=[x for x in mots if len(x)>=3] # le x entre for et in peut etre remplacé par n'importe quel lettre\n",
    "mots_long"
   ]
  },
  {
   "cell_type": "markdown",
   "id": "bf6948f5",
   "metadata": {},
   "source": [
    "### Dictionnaire en comprehension"
   ]
  },
  {
   "cell_type": "code",
   "execution_count": 195,
   "id": "a7490966",
   "metadata": {},
   "outputs": [
    {
     "name": "stdout",
     "output_type": "stream",
     "text": [
      "{0: 0, 1: 1, 2: 4, 3: 9, 4: 16, 5: 25, 6: 36, 7: 49, 8: 64, 9: 81, 10: 100, 11: 121, 12: 144, 13: 169, 14: 196, 15: 225, 16: 256, 17: 289, 18: 324, 19: 361, 20: 400, 21: 441, 22: 484, 23: 529, 24: 576, 25: 625, 26: 676, 27: 729, 28: 784, 29: 841, 30: 900, 31: 961, 32: 1024, 33: 1089, 34: 1156, 35: 1225, 36: 1296, 37: 1369, 38: 1444, 39: 1521, 40: 1600, 41: 1681, 42: 1764, 43: 1849, 44: 1936, 45: 2025, 46: 2116, 47: 2209, 48: 2304, 49: 2401, 50: 2500, 51: 2601, 52: 2704, 53: 2809, 54: 2916, 55: 3025, 56: 3136, 57: 3249, 58: 3364, 59: 3481, 60: 3600, 61: 3721, 62: 3844, 63: 3969, 64: 4096, 65: 4225, 66: 4356, 67: 4489, 68: 4624, 69: 4761, 70: 4900, 71: 5041, 72: 5184, 73: 5329, 74: 5476, 75: 5625, 76: 5776, 77: 5929, 78: 6084, 79: 6241, 80: 6400, 81: 6561, 82: 6724, 83: 6889, 84: 7056, 85: 7225, 86: 7396, 87: 7569, 88: 7744, 89: 7921, 90: 8100, 91: 8281, 92: 8464, 93: 8649, 94: 8836, 95: 9025, 96: 9216, 97: 9409, 98: 9604}\n"
     ]
    }
   ],
   "source": [
    "# dictionnaire avec les nombres au carré de 0 à 99\n",
    "dict_carre = {k:k**2 for k in range(0,99)}\n",
    "print(dict_carre)"
   ]
  },
  {
   "cell_type": "code",
   "execution_count": 196,
   "id": "8afebbb1",
   "metadata": {},
   "outputs": [
    {
     "name": "stdout",
     "output_type": "stream",
     "text": [
      "{0: 0, 2: 4, 4: 16, 6: 36, 8: 64, 10: 100, 12: 144, 14: 196, 16: 256, 18: 324, 20: 400, 22: 484, 24: 576, 26: 676, 28: 784, 30: 900, 32: 1024, 34: 1156, 36: 1296, 38: 1444, 40: 1600, 42: 1764, 44: 1936, 46: 2116, 48: 2304, 50: 2500, 52: 2704, 54: 2916, 56: 3136, 58: 3364, 60: 3600, 62: 3844, 64: 4096, 66: 4356, 68: 4624, 70: 4900, 72: 5184, 74: 5476, 76: 5776, 78: 6084, 80: 6400, 82: 6724, 84: 7056, 86: 7396, 88: 7744, 90: 8100, 92: 8464, 94: 8836, 96: 9216, 98: 9604}\n"
     ]
    }
   ],
   "source": [
    "# dictionnaire uniquement avec les nombres pairs\n",
    "\n",
    "dict_carre_pair = {k:k**2 for k in range(0,99) if k % 2 ==0}\n",
    "print(dict_carre_pair)"
   ]
  },
  {
   "cell_type": "markdown",
   "id": "aed04a64",
   "metadata": {},
   "source": [
    "# Exercice\n",
    "Considerer le dictionnaire suivant inventaire = {'pomme':30, 'bananes':15, 'cerises': 20}\n",
    "\n",
    "creer un dictionnaire en comprehension qui va inverser les clés et les valeurs du dictionnaire inventaire"
   ]
  },
  {
   "cell_type": "code",
   "execution_count": 197,
   "id": "c94dee82",
   "metadata": {},
   "outputs": [
    {
     "data": {
      "text/plain": [
       "{30: 'pomme', 15: 'bananes', 20: 'cerises'}"
      ]
     },
     "execution_count": 197,
     "metadata": {},
     "output_type": "execute_result"
    }
   ],
   "source": [
    "inventaire = {'pomme':30, 'bananes':15, 'cerises': 20}\n",
    "dict_inverse = {v:k for k,v in inventaire.items()}\n",
    "dict_inverse"
   ]
  },
  {
   "cell_type": "markdown",
   "id": "3d8577f0",
   "metadata": {},
   "source": [
    "# fonctions natives en Python"
   ]
  },
  {
   "cell_type": "markdown",
   "id": "2b388ee5",
   "metadata": {},
   "source": [
    "### la documentation des fonctions  natives est disponible ici: https://docs.python.org/fr/3/library/functions.html"
   ]
  },
  {
   "cell_type": "code",
   "execution_count": null,
   "id": "4ce10d39",
   "metadata": {},
   "outputs": [],
   "source": [
    "# print\n",
    "print(\"Bonsoir\")"
   ]
  },
  {
   "cell_type": "code",
   "execution_count": 202,
   "id": "96f4fda4",
   "metadata": {},
   "outputs": [
    {
     "name": "stdout",
     "output_type": "stream",
     "text": [
      "La temperature à Brest est de 2\n"
     ]
    }
   ],
   "source": [
    "# format (à connaitre) # peut etre utiliser pour automatiser\n",
    "temperature = 2\n",
    "ville = \"Brest\"\n",
    "resultat = \"La temperature à {} est de {}\".format(ville,temperature)\n",
    "print(resultat)"
   ]
  },
  {
   "cell_type": "code",
   "execution_count": 203,
   "id": "46c1608c",
   "metadata": {},
   "outputs": [
    {
     "name": "stdout",
     "output_type": "stream",
     "text": [
      "La temperature à Brest est de 2\n"
     ]
    }
   ],
   "source": [
    "# autre possibilité\n",
    "resultatbis = f\"La temperature à {ville} est de {temperature}\"\n",
    "print(resultatbis)"
   ]
  },
  {
   "cell_type": "code",
   "execution_count": 204,
   "id": "a99dd6bd",
   "metadata": {},
   "outputs": [
    {
     "name": "stdout",
     "output_type": "stream",
     "text": [
      "quel est votre age?16\n"
     ]
    }
   ],
   "source": [
    "# input\n",
    "age = input(\"quel est votre age?\")"
   ]
  },
  {
   "cell_type": "code",
   "execution_count": 206,
   "id": "1c59c631",
   "metadata": {},
   "outputs": [
    {
     "name": "stdout",
     "output_type": "stream",
     "text": [
      "16\n"
     ]
    },
    {
     "data": {
      "text/plain": [
       "str"
      ]
     },
     "execution_count": 206,
     "metadata": {},
     "output_type": "execute_result"
    }
   ],
   "source": [
    "print(age)\n",
    "type (age)"
   ]
  },
  {
   "cell_type": "code",
   "execution_count": 207,
   "id": "4f88b42a",
   "metadata": {},
   "outputs": [
    {
     "data": {
      "text/plain": [
       "int"
      ]
     },
     "execution_count": 207,
     "metadata": {},
     "output_type": "execute_result"
    }
   ],
   "source": [
    "# transormer les string en interger\n",
    "age_int = int(age)\n",
    "type(age_int)"
   ]
  },
  {
   "cell_type": "code",
   "execution_count": 208,
   "id": "f59353e9",
   "metadata": {},
   "outputs": [
    {
     "data": {
      "text/plain": [
       "5"
      ]
     },
     "execution_count": 208,
     "metadata": {},
     "output_type": "execute_result"
    }
   ],
   "source": [
    "# abs\n",
    "x = -5\n",
    "abs(x)"
   ]
  },
  {
   "cell_type": "code",
   "execution_count": 209,
   "id": "bb6abb51",
   "metadata": {},
   "outputs": [
    {
     "data": {
      "text/plain": [
       "1"
      ]
     },
     "execution_count": 209,
     "metadata": {},
     "output_type": "execute_result"
    }
   ],
   "source": [
    "# round\n",
    "y = 1.4555\n",
    "round(y)\n"
   ]
  },
  {
   "cell_type": "code",
   "execution_count": 210,
   "id": "0458f051",
   "metadata": {},
   "outputs": [
    {
     "data": {
      "text/plain": [
       "377"
      ]
     },
     "execution_count": 210,
     "metadata": {},
     "output_type": "execute_result"
    }
   ],
   "source": [
    "# max (liste)\n",
    "liste_entier=[5, 4, 3, 6, 377]\n",
    "max(liste_entier)"
   ]
  },
  {
   "cell_type": "code",
   "execution_count": 211,
   "id": "cf6c0191",
   "metadata": {},
   "outputs": [
    {
     "data": {
      "text/plain": [
       "3"
      ]
     },
     "execution_count": 211,
     "metadata": {},
     "output_type": "execute_result"
    }
   ],
   "source": [
    "# min (liste)\n",
    "liste_entier=[5, 4, 3, 6, 377]\n",
    "min(liste_entier)"
   ]
  },
  {
   "cell_type": "code",
   "execution_count": 212,
   "id": "187ebdf8",
   "metadata": {},
   "outputs": [
    {
     "data": {
      "text/plain": [
       "395"
      ]
     },
     "execution_count": 212,
     "metadata": {},
     "output_type": "execute_result"
    }
   ],
   "source": [
    "# sum\n",
    "sum(liste_entier)"
   ]
  },
  {
   "cell_type": "code",
   "execution_count": 213,
   "id": "5895f259",
   "metadata": {},
   "outputs": [
    {
     "data": {
      "text/plain": [
       "True"
      ]
     },
     "execution_count": 213,
     "metadata": {},
     "output_type": "execute_result"
    }
   ],
   "source": [
    "# all (vrai ou different de zero)\n",
    "all(liste_entier) # tous les élements de la liste sont vrais , c'est a dire different de 0"
   ]
  },
  {
   "cell_type": "code",
   "execution_count": 214,
   "id": "9b57edcf",
   "metadata": {},
   "outputs": [
    {
     "data": {
      "text/plain": [
       "True"
      ]
     },
     "execution_count": 214,
     "metadata": {},
     "output_type": "execute_result"
    }
   ],
   "source": [
    "# any (vrai ou different de 0 )\n",
    "any(liste_entier)"
   ]
  },
  {
   "cell_type": "code",
   "execution_count": 215,
   "id": "74804ef8",
   "metadata": {},
   "outputs": [],
   "source": [
    "# range\n",
    "plage = range(0,199,3)"
   ]
  },
  {
   "cell_type": "code",
   "execution_count": 216,
   "id": "b6dc6ccd",
   "metadata": {},
   "outputs": [
    {
     "data": {
      "text/plain": [
       "list"
      ]
     },
     "execution_count": 216,
     "metadata": {},
     "output_type": "execute_result"
    }
   ],
   "source": [
    "# type\n",
    "type(liste_entier)"
   ]
  },
  {
   "cell_type": "code",
   "execution_count": 219,
   "id": "d08ca5d3",
   "metadata": {},
   "outputs": [
    {
     "data": {
      "text/plain": [
       "[0,\n",
       " 3,\n",
       " 6,\n",
       " 9,\n",
       " 12,\n",
       " 15,\n",
       " 18,\n",
       " 21,\n",
       " 24,\n",
       " 27,\n",
       " 30,\n",
       " 33,\n",
       " 36,\n",
       " 39,\n",
       " 42,\n",
       " 45,\n",
       " 48,\n",
       " 51,\n",
       " 54,\n",
       " 57,\n",
       " 60,\n",
       " 63,\n",
       " 66,\n",
       " 69,\n",
       " 72,\n",
       " 75,\n",
       " 78,\n",
       " 81,\n",
       " 84,\n",
       " 87,\n",
       " 90,\n",
       " 93,\n",
       " 96,\n",
       " 99,\n",
       " 102,\n",
       " 105,\n",
       " 108,\n",
       " 111,\n",
       " 114,\n",
       " 117,\n",
       " 120,\n",
       " 123,\n",
       " 126,\n",
       " 129,\n",
       " 132,\n",
       " 135,\n",
       " 138,\n",
       " 141,\n",
       " 144,\n",
       " 147,\n",
       " 150,\n",
       " 153,\n",
       " 156,\n",
       " 159,\n",
       " 162,\n",
       " 165,\n",
       " 168,\n",
       " 171,\n",
       " 174,\n",
       " 177,\n",
       " 180,\n",
       " 183,\n",
       " 186,\n",
       " 189,\n",
       " 192,\n",
       " 195,\n",
       " 198]"
      ]
     },
     "execution_count": 219,
     "metadata": {},
     "output_type": "execute_result"
    }
   ],
   "source": [
    "# conversion list, tuple, dictionnaire\n",
    "list(plage)\n",
    "trans_tuple = tuple(plage) # conversion de la liste en tuple\n"
   ]
  },
  {
   "cell_type": "code",
   "execution_count": null,
   "id": "8b57f1f5",
   "metadata": {},
   "outputs": [],
   "source": [
    "# conversion float, int, string"
   ]
  },
  {
   "cell_type": "code",
   "execution_count": 221,
   "id": "8dcd91d2",
   "metadata": {},
   "outputs": [
    {
     "data": {
      "text/plain": [
       "0.0"
      ]
     },
     "execution_count": 221,
     "metadata": {},
     "output_type": "execute_result"
    }
   ],
   "source": [
    "test = float(0)\n",
    "test"
   ]
  },
  {
   "cell_type": "markdown",
   "id": "f61ca1a7",
   "metadata": {},
   "source": [
    "# creation de packages"
   ]
  },
  {
   "cell_type": "code",
   "execution_count": 224,
   "id": "6fb1b498",
   "metadata": {},
   "outputs": [],
   "source": [
    "#  creation d'u  module\n",
    "# creation faite sur spyder du module"
   ]
  },
  {
   "cell_type": "code",
   "execution_count": 226,
   "id": "c0ef06de",
   "metadata": {},
   "outputs": [],
   "source": [
    "# Importer et renommer tout le module\n",
    "import mon_module as mod"
   ]
  },
  {
   "cell_type": "code",
   "execution_count": 227,
   "id": "14dfe583",
   "metadata": {},
   "outputs": [],
   "source": [
    "# creation de la liste\n",
    "chiffre_affaires= [3000, 5000, 4000, 8000, 10000]"
   ]
  },
  {
   "cell_type": "code",
   "execution_count": 229,
   "id": "c1f5a079",
   "metadata": {},
   "outputs": [
    {
     "data": {
      "text/plain": [
       "{'min': 3000, 'max': 10000, 'somme': 30000, 'moyenne': 6000.0}"
      ]
     },
     "execution_count": 229,
     "metadata": {},
     "output_type": "execute_result"
    }
   ],
   "source": [
    "# application de la fonction\n",
    "statdescr=mod.statdescriptive(chiffre_affaires)\n",
    "statdescr"
   ]
  },
  {
   "cell_type": "code",
   "execution_count": 230,
   "id": "2d454032",
   "metadata": {},
   "outputs": [
    {
     "data": {
      "text/plain": [
       "30000"
      ]
     },
     "execution_count": 230,
     "metadata": {},
     "output_type": "execute_result"
    }
   ],
   "source": [
    "# somme du chiffre d'affaire\n",
    "sommeca=mod.somme_element(chiffre_affaires)\n",
    "sommeca"
   ]
  },
  {
   "cell_type": "code",
   "execution_count": 232,
   "id": "d14075b5",
   "metadata": {},
   "outputs": [],
   "source": [
    "# importer une partie\n",
    "from mon_module import statdescriptive"
   ]
  },
  {
   "cell_type": "code",
   "execution_count": 233,
   "id": "84a3aac1",
   "metadata": {},
   "outputs": [
    {
     "data": {
      "text/plain": [
       "{'min': 3000, 'max': 10000, 'somme': 30000, 'moyenne': 6000.0}"
      ]
     },
     "execution_count": 233,
     "metadata": {},
     "output_type": "execute_result"
    }
   ],
   "source": [
    "statdescriptive(chiffre_affaires)"
   ]
  },
  {
   "cell_type": "code",
   "execution_count": 234,
   "id": "5d57e641",
   "metadata": {},
   "outputs": [],
   "source": [
    "# possibilite de faire ceci from mon_module import statdescriptive, somme_element lorsque on veut importer les deux modules"
   ]
  },
  {
   "cell_type": "markdown",
   "id": "66894a27",
   "metadata": {},
   "source": [
    "### modules externes"
   ]
  },
  {
   "cell_type": "markdown",
   "id": "63b967c4",
   "metadata": {},
   "source": [
    "exemple de structure : www.https://docs.python.org/fr/3/tutorial/modules.html"
   ]
  },
  {
   "cell_type": "markdown",
   "id": "830e96a4",
   "metadata": {},
   "source": [
    "ensemble des modules: https://docs.python.org/3/py-modindex.html"
   ]
  },
  {
   "cell_type": "code",
   "execution_count": 235,
   "id": "de3a41a4",
   "metadata": {},
   "outputs": [],
   "source": [
    "# exemple utilisation de math"
   ]
  },
  {
   "cell_type": "code",
   "execution_count": 236,
   "id": "9124bd03",
   "metadata": {},
   "outputs": [],
   "source": [
    "import math"
   ]
  },
  {
   "cell_type": "code",
   "execution_count": 237,
   "id": "b8cc61bd",
   "metadata": {},
   "outputs": [
    {
     "name": "stdout",
     "output_type": "stream",
     "text": [
      "Ecar-type: 2.0\n",
      "Cosinus: -0.4480736161291701\n",
      "Exponentiel: 1.2204032943178408e+39\n"
     ]
    }
   ],
   "source": [
    "print(\"Ecar-type:\", math.sqrt(4))\n",
    "print(\"Cosinus:\", math.cos(90))\n",
    "print(\"Exponentiel:\", math.exp(90))"
   ]
  },
  {
   "cell_type": "code",
   "execution_count": 239,
   "id": "c380fb70",
   "metadata": {},
   "outputs": [],
   "source": [
    "# exemple d'utilisation des modules statistiques\n",
    "import statistics as st"
   ]
  },
  {
   "cell_type": "code",
   "execution_count": 241,
   "id": "4c3e643c",
   "metadata": {},
   "outputs": [
    {
     "data": {
      "text/plain": [
       "30"
      ]
     },
     "execution_count": 241,
     "metadata": {},
     "output_type": "execute_result"
    }
   ],
   "source": [
    "st.mean([30, 40, 50])\n",
    "st.mode([30, 40, 50])"
   ]
  },
  {
   "cell_type": "code",
   "execution_count": 244,
   "id": "59e7142a",
   "metadata": {},
   "outputs": [],
   "source": [
    "# exemple d'utilisation de random (choice, seed, sample, randint, shuffle)\n",
    "import random"
   ]
  },
  {
   "cell_type": "code",
   "execution_count": 247,
   "id": "1c7cc163",
   "metadata": {},
   "outputs": [
    {
     "data": {
      "text/plain": [
       "'A'"
      ]
     },
     "execution_count": 247,
     "metadata": {},
     "output_type": "execute_result"
    }
   ],
   "source": [
    "## liste avec un certain nombre de prenoms et on choisit un des prenoms au hasard\n",
    "# choisir un element aleatoire dans une liste (liste de nom)\n",
    "\n",
    "liste_nom= [\"A\", \"B\", \"C\", \"D\", \"E\", \"F\", \"G\"]\n",
    "random.choice(liste_nom)"
   ]
  },
  {
   "cell_type": "code",
   "execution_count": 248,
   "id": "3e799045",
   "metadata": {},
   "outputs": [
    {
     "data": {
      "text/plain": [
       "'F'"
      ]
     },
     "execution_count": 248,
     "metadata": {},
     "output_type": "execute_result"
    }
   ],
   "source": [
    "liste_nom= [\"A\", \"B\", \"C\", \"D\", \"E\", \"F\", \"G\"]\n",
    "random.choice(liste_nom)"
   ]
  },
  {
   "cell_type": "code",
   "execution_count": 251,
   "id": "87d9c7af",
   "metadata": {},
   "outputs": [
    {
     "data": {
      "text/plain": [
       "['G', 'B', 'C']"
      ]
     },
     "execution_count": 251,
     "metadata": {},
     "output_type": "execute_result"
    }
   ],
   "source": [
    "# creer une ou des echantillons a partir de la liste\n",
    "random.sample(liste_nom, 3)"
   ]
  },
  {
   "cell_type": "code",
   "execution_count": 250,
   "id": "1d72a285",
   "metadata": {},
   "outputs": [
    {
     "data": {
      "text/plain": [
       "'B'"
      ]
     },
     "execution_count": 250,
     "metadata": {},
     "output_type": "execute_result"
    }
   ],
   "source": [
    "# fixer la graine (seed) # on fixe la graine pour controler l'alea\n",
    "# On fixe la graine\n",
    "random.seed(3333445)\n",
    "# choisr un element aleatoire dans une liste\n",
    "liste_nom= [\"A\", \"B\", \"C\", \"D\", \"E\", \"F\", \"G\"]\n",
    "random.choice(liste_nom)"
   ]
  },
  {
   "cell_type": "code",
   "execution_count": 252,
   "id": "3b624d70",
   "metadata": {},
   "outputs": [
    {
     "data": {
      "text/plain": [
       "0.7886954452021958"
      ]
     },
     "execution_count": 252,
     "metadata": {},
     "output_type": "execute_result"
    }
   ],
   "source": [
    "# aleatoire float (random.random) permet generer des sorties aleatoires entre 0 et 1\n",
    "random.random()"
   ]
  },
  {
   "cell_type": "code",
   "execution_count": 253,
   "id": "f44c0fde",
   "metadata": {},
   "outputs": [
    {
     "data": {
      "text/plain": [
       "99"
      ]
     },
     "execution_count": 253,
     "metadata": {},
     "output_type": "execute_result"
    }
   ],
   "source": [
    "# aleatoire integer\n",
    "random.randint(1,100)"
   ]
  },
  {
   "cell_type": "code",
   "execution_count": 254,
   "id": "2b93d543",
   "metadata": {},
   "outputs": [
    {
     "data": {
      "text/plain": [
       "['E', 'G', 'A', 'F', 'B', 'C', 'D']"
      ]
     },
     "execution_count": 254,
     "metadata": {},
     "output_type": "execute_result"
    }
   ],
   "source": [
    "# melanger aleatoirement des données dans une liste (shuffle)\n",
    "random.shuffle(liste_nom) # tres utile en deep learning\n",
    "liste_nom"
   ]
  },
  {
   "cell_type": "markdown",
   "id": "3e88273d",
   "metadata": {},
   "source": [
    "# les packages en python"
   ]
  },
  {
   "cell_type": "markdown",
   "id": "4275a18d",
   "metadata": {},
   "source": [
    "Trouver les packages disponibles ici: https://pypi.org/\n",
    "lien our en savoir plus\n",
    "https://packaging.python.org/en/latest/tutorials/packaging-projects/)"
   ]
  },
  {
   "cell_type": "markdown",
   "id": "f8b742e2",
   "metadata": {},
   "source": [
    "### utilisation de mon package"
   ]
  },
  {
   "cell_type": "code",
   "execution_count": null,
   "id": "95a20561",
   "metadata": {},
   "outputs": [],
   "source": [
    "# installer un package\n",
    "import monpackage.module as md\n",
    "\n",
    "# deuxieme possibilité\n",
    "\n",
    "from monpackage import module"
   ]
  },
  {
   "cell_type": "code",
   "execution_count": null,
   "id": "6405a432",
   "metadata": {},
   "outputs": [],
   "source": [
    "# pour avoir liste des packages disponibles\n",
    "\n",
    "!pip list"
   ]
  },
  {
   "cell_type": "code",
   "execution_count": null,
   "id": "d8b42754",
   "metadata": {},
   "outputs": [],
   "source": [
    "# pour installer un package\n",
    "!pip install dash # le package dash pour faire les data visualistions\n",
    "# pour innstaller le package dash (dask losqu'on travaille sur un groupe de données, flask pour les API,\n",
    "# seaborn pour faire des graphique de qualité)"
   ]
  },
  {
   "cell_type": "code",
   "execution_count": null,
   "id": "91f29e31",
   "metadata": {},
   "outputs": [],
   "source": [
    "# importer un package une fois qu'on l'a installé\n",
    "import numpy as np"
   ]
  },
  {
   "cell_type": "markdown",
   "id": "c278ca4e",
   "metadata": {},
   "source": [
    "## Open "
   ]
  },
  {
   "cell_type": "code",
   "execution_count": 257,
   "id": "0d70d4b8",
   "metadata": {},
   "outputs": [],
   "source": [
    "# Ecrire dansle fichier et créer le fichier (premiere approche)"
   ]
  },
  {
   "cell_type": "code",
   "execution_count": 258,
   "id": "495bbfc7",
   "metadata": {},
   "outputs": [],
   "source": [
    "f=open(\"resultat.txt\", \"w\")\n",
    "f.write(\"Bonjour\")\n",
    "f.close()"
   ]
  },
  {
   "cell_type": "code",
   "execution_count": 259,
   "id": "a6e63e46",
   "metadata": {},
   "outputs": [
    {
     "data": {
      "text/plain": [
       "'Bonjour'"
      ]
     },
     "execution_count": 259,
     "metadata": {},
     "output_type": "execute_result"
    }
   ],
   "source": [
    "f = open(\"resultat.txt\", \"r\")\n",
    "f.read()"
   ]
  },
  {
   "cell_type": "code",
   "execution_count": 262,
   "id": "fade7677",
   "metadata": {},
   "outputs": [],
   "source": [
    "# lecture en premiere approche\n",
    "with open(\"resultat.txt\", \"w\") as f:\n",
    "    for i in range(0,10):\n",
    "        f.write(f\"la valeur est {i}\\n\") # \\n pour mettre de l'espace dans ma sortie\n",
    "        "
   ]
  },
  {
   "cell_type": "code",
   "execution_count": 263,
   "id": "ffc7e33e",
   "metadata": {},
   "outputs": [
    {
     "data": {
      "text/plain": [
       "['la valeur est 0\\n',\n",
       " 'la valeur est 1\\n',\n",
       " 'la valeur est 2\\n',\n",
       " 'la valeur est 3\\n',\n",
       " 'la valeur est 4\\n',\n",
       " 'la valeur est 5\\n',\n",
       " 'la valeur est 6\\n',\n",
       " 'la valeur est 7\\n',\n",
       " 'la valeur est 8\\n',\n",
       " 'la valeur est 9\\n']"
      ]
     },
     "execution_count": 263,
     "metadata": {},
     "output_type": "execute_result"
    }
   ],
   "source": [
    "# lecture deuxieme approche (readlines et read().splitlines())\n",
    "with open(\"resultat.txt\", \"r\") as f:\n",
    "    resultat = f.readlines()\n",
    "resultat"
   ]
  },
  {
   "cell_type": "markdown",
   "id": "630a851f",
   "metadata": {},
   "source": [
    "# apprentissage de Numpy"
   ]
  },
  {
   "cell_type": "markdown",
   "id": "3a69604c",
   "metadata": {},
   "source": [
    "### Bien demarrer avec une dimension (create)"
   ]
  },
  {
   "cell_type": "code",
   "execution_count": 265,
   "id": "803a9afb",
   "metadata": {},
   "outputs": [],
   "source": [
    "# importation\n",
    "import numpy as np"
   ]
  },
  {
   "cell_type": "code",
   "execution_count": 266,
   "id": "969c92c2",
   "metadata": {},
   "outputs": [
    {
     "data": {
      "text/plain": [
       "array([33,  4,  4,  5,  6,  4])"
      ]
     },
     "execution_count": 266,
     "metadata": {},
     "output_type": "execute_result"
    }
   ],
   "source": [
    "# creation d'un nd array a une dimension partir d'une liste\n",
    "tableau_dim1 = np.array([33, 4, 4, 5, 6,4])\n",
    "tableau_dim1"
   ]
  },
  {
   "cell_type": "code",
   "execution_count": 267,
   "id": "5a974370",
   "metadata": {},
   "outputs": [
    {
     "data": {
      "text/plain": [
       "(6,)"
      ]
     },
     "execution_count": 267,
     "metadata": {},
     "output_type": "execute_result"
    }
   ],
   "source": [
    "tableau_dim1.shape"
   ]
  },
  {
   "cell_type": "code",
   "execution_count": 268,
   "id": "1b3b4734",
   "metadata": {},
   "outputs": [
    {
     "data": {
      "text/plain": [
       "6"
      ]
     },
     "execution_count": 268,
     "metadata": {},
     "output_type": "execute_result"
    }
   ],
   "source": [
    "tableau_dim1.size"
   ]
  },
  {
   "cell_type": "markdown",
   "id": "1c8b9b48",
   "metadata": {},
   "source": [
    "## Creer un numpy array a partir des fonctions integrées "
   ]
  },
  {
   "cell_type": "code",
   "execution_count": 269,
   "id": "9ef44ca3",
   "metadata": {},
   "outputs": [
    {
     "data": {
      "text/plain": [
       "array([[0., 0.],\n",
       "       [0., 0.]])"
      ]
     },
     "execution_count": 269,
     "metadata": {},
     "output_type": "execute_result"
    }
   ],
   "source": [
    "# tableau avec des zeros (np.zeros)\n",
    "np.zeros??\n",
    "tableau_zero = np.zeros((2,2))\n",
    "tableau_zero"
   ]
  },
  {
   "cell_type": "code",
   "execution_count": 272,
   "id": "306fae42",
   "metadata": {},
   "outputs": [
    {
     "data": {
      "text/plain": [
       "array([[1., 1.],\n",
       "       [1., 1.]])"
      ]
     },
     "execution_count": 272,
     "metadata": {},
     "output_type": "execute_result"
    }
   ],
   "source": [
    "# tableau avec des uns (np.ones)\n",
    "tableau_one = np.ones((2,2)) # creer une matrice avec des 1 partout\n",
    "tableau_one"
   ]
  },
  {
   "cell_type": "code",
   "execution_count": 275,
   "id": "ce7c1ae5",
   "metadata": {},
   "outputs": [
    {
     "data": {
      "text/plain": [
       "array([[1., 0., 0.],\n",
       "       [0., 1., 0.],\n",
       "       [0., 0., 1.]])"
      ]
     },
     "execution_count": 275,
     "metadata": {},
     "output_type": "execute_result"
    }
   ],
   "source": [
    "# creer une matrice identité avec np.eye()\n",
    "tableau_eye = np.eye(3) # \n",
    "tableau_eye"
   ]
  },
  {
   "cell_type": "code",
   "execution_count": 277,
   "id": "ab6f9eb0",
   "metadata": {},
   "outputs": [
    {
     "data": {
      "text/plain": [
       "array([0, 1, 2, 3, 4, 5, 6, 7, 8, 9])"
      ]
     },
     "execution_count": 277,
     "metadata": {},
     "output_type": "execute_result"
    }
   ],
   "source": [
    "# creer un numpy array avec la fonction arrange: pour creer des nombres entre le minimum et le maximum avec un pas\n",
    "\n",
    "np.arange(0, 10, 1)"
   ]
  },
  {
   "cell_type": "code",
   "execution_count": 282,
   "id": "aa5cdca3",
   "metadata": {},
   "outputs": [
    {
     "data": {
      "text/plain": [
       "array([0.        , 0.02040816, 0.04081633, 0.06122449, 0.08163265,\n",
       "       0.10204082, 0.12244898, 0.14285714, 0.16326531, 0.18367347,\n",
       "       0.20408163, 0.2244898 , 0.24489796, 0.26530612, 0.28571429,\n",
       "       0.30612245, 0.32653061, 0.34693878, 0.36734694, 0.3877551 ,\n",
       "       0.40816327, 0.42857143, 0.44897959, 0.46938776, 0.48979592,\n",
       "       0.51020408, 0.53061224, 0.55102041, 0.57142857, 0.59183673,\n",
       "       0.6122449 , 0.63265306, 0.65306122, 0.67346939, 0.69387755,\n",
       "       0.71428571, 0.73469388, 0.75510204, 0.7755102 , 0.79591837,\n",
       "       0.81632653, 0.83673469, 0.85714286, 0.87755102, 0.89795918,\n",
       "       0.91836735, 0.93877551, 0.95918367, 0.97959184, 1.        ])"
      ]
     },
     "execution_count": 282,
     "metadata": {},
     "output_type": "execute_result"
    }
   ],
   "source": [
    "# creer un numpy array avec la fonction linspace # generer une sequence de nombre # tres uile pour les graphiques\n",
    "# entre deux valeurs données avec un nombre de points donnés\n",
    "np.linspace(0,1,50) # sors moi 50 chiffres entre 0 et 1"
   ]
  },
  {
   "cell_type": "markdown",
   "id": "616cf0e5",
   "metadata": {},
   "source": [
    "## acceder aux elements, selectionner (Read)"
   ]
  },
  {
   "cell_type": "code",
   "execution_count": 283,
   "id": "3b0eeec0",
   "metadata": {},
   "outputs": [
    {
     "data": {
      "text/plain": [
       "array([33,  4,  4,  5,  6,  4])"
      ]
     },
     "execution_count": 283,
     "metadata": {},
     "output_type": "execute_result"
    }
   ],
   "source": [
    "# acces aux elements\n",
    "tableau_dim1 = np.array([33, 4, 4, 5, 6,4])\n",
    "tableau_dim1"
   ]
  },
  {
   "cell_type": "code",
   "execution_count": null,
   "id": "b41872c2",
   "metadata": {},
   "outputs": [],
   "source": [
    "tableau_dim1[0] # pour acceder au premier élement\n",
    "tableau_dim1[-1] # pour acceder au dernier element"
   ]
  },
  {
   "cell_type": "code",
   "execution_count": null,
   "id": "a0ad6ca1",
   "metadata": {},
   "outputs": [],
   "source": [
    "# selection des elements suivant ou qui respectent une condition\n",
    "np.where(tableau_dim1>5)\n",
    "nb_superieur_5 = tableau_dim1(np.where(tableau_dim1>10))"
   ]
  }
 ],
 "metadata": {
  "celltoolbar": "Format de la Cellule Texte Brut",
  "kernelspec": {
   "display_name": "Python [conda env:base] *",
   "language": "python",
   "name": "conda-base-py"
  },
  "language_info": {
   "codemirror_mode": {
    "name": "ipython",
    "version": 3
   },
   "file_extension": ".py",
   "mimetype": "text/x-python",
   "name": "python",
   "nbconvert_exporter": "python",
   "pygments_lexer": "ipython3",
   "version": "3.11.5"
  }
 },
 "nbformat": 4,
 "nbformat_minor": 5
}
