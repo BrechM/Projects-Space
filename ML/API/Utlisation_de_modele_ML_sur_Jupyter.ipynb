{
 "cells": [
  {
   "cell_type": "code",
   "execution_count": null,
   "id": "4128e2df",
   "metadata": {},
   "outputs": [],
   "source": [
    "# On va utiliser Modele_ML_API\n",
    "\n",
    "# Base url de l'API\n",
    "url = \"\""
   ]
  }
 ],
 "metadata": {
  "language_info": {
   "name": "python"
  }
 },
 "nbformat": 4,
 "nbformat_minor": 5
}
