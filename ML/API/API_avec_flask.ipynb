{
 "cells": [
  {
   "cell_type": "code",
   "execution_count": 1,
   "id": "265dcb95",
   "metadata": {},
   "outputs": [],
   "source": [
    "from flask import Flask, jsonify\n",
    "import random\n"
   ]
  },
  {
   "cell_type": "code",
   "execution_count": 3,
   "id": "680ceaec",
   "metadata": {},
   "outputs": [],
   "source": [
    "app = Flask(__name__)"
   ]
  },
  {
   "cell_type": "code",
   "execution_count": 4,
   "id": "4a530df0",
   "metadata": {},
   "outputs": [],
   "source": [
    "@app.route('/')\n",
    "def accueil():\n",
    "    return jsonify({\"Message\": \"Bienvenue sur notre API de génération de nombres aleatoires!\"})"
   ]
  },
  {
   "cell_type": "code",
   "execution_count": 5,
   "id": "9c03db64",
   "metadata": {},
   "outputs": [],
   "source": [
    "@app.route('/nombre_aleatoire')\n",
    "def generer_nombre():\n",
    "    \"\"\" Génere un nombre aléatoire entre 0 et 100. \"\"\"\n",
    "    return jsonify({\"nombre_aleatoire\": random.randint(0, 100)})\n"
   ]
  },
  {
   "cell_type": "code",
   "execution_count": 6,
   "id": "19b8b5e1",
   "metadata": {},
   "outputs": [],
   "source": [
    "@app.route('/nombre_aleatoire/<int:min>_<int:max>')\n",
    "def generer_nombre_min_max(min, max):\n",
    "    \"\"\" génère un nombre aléatoire entre min et max. \"\"\"\n",
    "    return jsonify({\"nombre_aleatire\": random.randint(min, max)})"
   ]
  },
  {
   "cell_type": "code",
   "execution_count": 7,
   "id": "05cb9d9f",
   "metadata": {},
   "outputs": [
    {
     "name": "stdout",
     "output_type": "stream",
     "text": [
      " * Serving Flask app '__main__'\n",
      " * Debug mode: on\n"
     ]
    },
    {
     "name": "stderr",
     "output_type": "stream",
     "text": [
      "WARNING: This is a development server. Do not use it in a production deployment. Use a production WSGI server instead.\n",
      " * Running on http://127.0.0.1:5000\n",
      "Press CTRL+C to quit\n",
      " * Restarting with watchdog (windowsapi)\n"
     ]
    },
    {
     "ename": "SystemExit",
     "evalue": "1",
     "output_type": "error",
     "traceback": [
      "An exception has occurred, use %tb to see the full traceback.\n",
      "\u001b[1;31mSystemExit\u001b[0m\u001b[1;31m:\u001b[0m 1\n"
     ]
    },
    {
     "name": "stderr",
     "output_type": "stream",
     "text": [
      "c:\\Users\\brech\\anaconda3\\Lib\\site-packages\\IPython\\core\\interactiveshell.py:3534: UserWarning: To exit: use 'exit', 'quit', or Ctrl-D.\n",
      "  warn(\"To exit: use 'exit', 'quit', or Ctrl-D.\", stacklevel=1)\n"
     ]
    }
   ],
   "source": [
    "# if __name__ == '__main__':\n",
    "app.run(debug=True)"
   ]
  }
 ],
 "metadata": {
  "kernelspec": {
   "display_name": "base",
   "language": "python",
   "name": "python3"
  },
  "language_info": {
   "codemirror_mode": {
    "name": "ipython",
    "version": 3
   },
   "file_extension": ".py",
   "mimetype": "text/x-python",
   "name": "python",
   "nbconvert_exporter": "python",
   "pygments_lexer": "ipython3",
   "version": "3.11.5"
  }
 },
 "nbformat": 4,
 "nbformat_minor": 5
}
