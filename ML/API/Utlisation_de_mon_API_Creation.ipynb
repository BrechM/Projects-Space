{
 "cells": [
  {
   "cell_type": "code",
   "execution_count": null,
   "id": "6c951d4c",
   "metadata": {},
   "outputs": [],
   "source": [
    "# Utiliser l'api Creation\n",
    "\n",
    "import requests\n",
    "import pandas as pd\n"
   ]
  },
  {
   "cell_type": "code",
   "execution_count": 2,
   "id": "2cb9b934",
   "metadata": {},
   "outputs": [],
   "source": [
    "# Si vos executez l'API localement sur le port par defaut de FastApi, on utilise ceci:\n",
    "url = \"http://127.0.0.1:8000/\"\n"
   ]
  },
  {
   "cell_type": "code",
   "execution_count": 3,
   "id": "c8b971ea",
   "metadata": {},
   "outputs": [
    {
     "name": "stdout",
     "output_type": "stream",
     "text": [
      "{'Message': 'Bienvenu sur notre API de generation de nombre aleatoire'}\n"
     ]
    }
   ],
   "source": [
    "# Recuperer le message d'accueil\n",
    "response_accueil = requests.get(f\"{url}/\")\n",
    "print(response_accueil.json())"
   ]
  },
  {
   "cell_type": "code",
   "execution_count": null,
   "id": "ec8c219b",
   "metadata": {},
   "outputs": [
    {
     "name": "stdout",
     "output_type": "stream",
     "text": [
      "{'nombre_aleatoire': 259}\n"
     ]
    }
   ],
   "source": [
    "# Generer le nombre aleatoire \n",
    "response_nombre = requests.get(f\"{url}/nombre_aleatoire\")\n",
    "print(response_nombre.json())\n"
   ]
  },
  {
   "cell_type": "code",
   "execution_count": 7,
   "id": "700f30d6",
   "metadata": {},
   "outputs": [
    {
     "name": "stdout",
     "output_type": "stream",
     "text": [
      "   nombre_aleatoire\n",
      "0               254\n"
     ]
    }
   ],
   "source": [
    "# On peut transformer en DataFrame \n",
    "response_nombre = requests.get(f\"{url}/nombre_aleatoire\")\n",
    "df = pd.DataFrame([response_nombre.json()])\n",
    "print(df)\n"
   ]
  },
  {
   "cell_type": "code",
   "execution_count": 9,
   "id": "1a341f4d",
   "metadata": {},
   "outputs": [
    {
     "data": {
      "text/plain": [
       "{'nombre_aleatoire': 2608}"
      ]
     },
     "execution_count": 9,
     "metadata": {},
     "output_type": "execute_result"
    }
   ],
   "source": [
    "# Genere le nombre aleatoire entre le min et le max\n",
    "\n",
    "min_val = 1000\n",
    "max_val = 10000\n",
    "\n",
    "response_nb_minmax = requests.get(f\"{url}/nombre_aleatoire/{min_val}_{max_val}\")\n",
    "response_nb_minmax.json()"
   ]
  }
 ],
 "metadata": {
  "kernelspec": {
   "display_name": "base",
   "language": "python",
   "name": "python3"
  },
  "language_info": {
   "codemirror_mode": {
    "name": "ipython",
    "version": 3
   },
   "file_extension": ".py",
   "mimetype": "text/x-python",
   "name": "python",
   "nbconvert_exporter": "python",
   "pygments_lexer": "ipython3",
   "version": "3.11.5"
  }
 },
 "nbformat": 4,
 "nbformat_minor": 5
}
