{
 "cells": [
  {
   "cell_type": "code",
   "execution_count": 17,
   "id": "4128e2df",
   "metadata": {},
   "outputs": [],
   "source": [
    "# On va utiliser Modele_ML_API\n",
    "\n",
    "# Base url de l'API\n",
    "url = \"http://127.0.0.1:8000\"\n"
   ]
  },
  {
   "cell_type": "code",
   "execution_count": 18,
   "id": "46ed7e19",
   "metadata": {},
   "outputs": [
    {
     "name": "stdout",
     "output_type": "stream",
     "text": [
      "{'message': \"Bienvenue sur notre API de prédiction de la taille d'un enfant\"}\n"
     ]
    }
   ],
   "source": [
    "# Tester la route d'accueil\n",
    "import requests\n",
    "\n",
    "response = requests.get(f\"{url}/\")\n",
    "print(response.json())"
   ]
  },
  {
   "cell_type": "code",
   "execution_count": 19,
   "id": "96c9aac9",
   "metadata": {},
   "outputs": [
    {
     "data": {
      "text/html": [
       "<div>\n",
       "<style scoped>\n",
       "    .dataframe tbody tr th:only-of-type {\n",
       "        vertical-align: middle;\n",
       "    }\n",
       "\n",
       "    .dataframe tbody tr th {\n",
       "        vertical-align: top;\n",
       "    }\n",
       "\n",
       "    .dataframe thead th {\n",
       "        text-align: right;\n",
       "    }\n",
       "</style>\n",
       "<table border=\"1\" class=\"dataframe\">\n",
       "  <thead>\n",
       "    <tr style=\"text-align: right;\">\n",
       "      <th></th>\n",
       "      <th>message</th>\n",
       "    </tr>\n",
       "  </thead>\n",
       "  <tbody>\n",
       "    <tr>\n",
       "      <th>0</th>\n",
       "      <td>Bienvenue sur notre API de prédiction de la ta...</td>\n",
       "    </tr>\n",
       "  </tbody>\n",
       "</table>\n",
       "</div>"
      ],
      "text/plain": [
       "                                             message\n",
       "0  Bienvenue sur notre API de prédiction de la ta..."
      ]
     },
     "metadata": {},
     "output_type": "display_data"
    }
   ],
   "source": [
    "#  On va verifier que la requete a reussi avant de lire le json\n",
    "if response.status_code == 200:\n",
    "    data = response.json()\n",
    "    df_pred = pd.DataFrame([data])\n",
    "    display(df_pred)\n",
    "else:\n",
    "    print(f\"Erreur serveur : {response.status_code}\")\n",
    "    print(response.text)\n"
   ]
  },
  {
   "cell_type": "code",
   "execution_count": 20,
   "id": "b93b2028",
   "metadata": {},
   "outputs": [
    {
     "data": {
      "text/html": [
       "<div>\n",
       "<style scoped>\n",
       "    .dataframe tbody tr th:only-of-type {\n",
       "        vertical-align: middle;\n",
       "    }\n",
       "\n",
       "    .dataframe tbody tr th {\n",
       "        vertical-align: top;\n",
       "    }\n",
       "\n",
       "    .dataframe thead th {\n",
       "        text-align: right;\n",
       "    }\n",
       "</style>\n",
       "<table border=\"1\" class=\"dataframe\">\n",
       "  <thead>\n",
       "    <tr style=\"text-align: right;\">\n",
       "      <th></th>\n",
       "      <th>prediction</th>\n",
       "      <th>valeurs_shap</th>\n",
       "    </tr>\n",
       "  </thead>\n",
       "  <tbody>\n",
       "    <tr>\n",
       "      <th>0</th>\n",
       "      <td>154.57118</td>\n",
       "      <td>[9.4480074538068, 5.224518928358922]</td>\n",
       "    </tr>\n",
       "  </tbody>\n",
       "</table>\n",
       "</div>"
      ],
      "text/plain": [
       "   prediction                          valeurs_shap\n",
       "0   154.57118  [9.4480074538068, 5.224518928358922]"
      ]
     },
     "metadata": {},
     "output_type": "display_data"
    }
   ],
   "source": [
    "import pandas as pd\n",
    "# Tester la prediction avec une entrée\n",
    "data_pred = {\n",
    "    \"taille_pere\": 170,\n",
    "    \"taille_mere\": 160\n",
    "}\n",
    "response = requests.post(f\"{url}/predire/\", json=data_pred)\n",
    "\n",
    "df_pred = pd.DataFrame([response.json()])\n",
    "display(df_pred)"
   ]
  }
 ],
 "metadata": {
  "kernelspec": {
   "display_name": "base",
   "language": "python",
   "name": "python3"
  },
  "language_info": {
   "codemirror_mode": {
    "name": "ipython",
    "version": 3
   },
   "file_extension": ".py",
   "mimetype": "text/x-python",
   "name": "python",
   "nbconvert_exporter": "python",
   "pygments_lexer": "ipython3",
   "version": "3.11.5"
  }
 },
 "nbformat": 4,
 "nbformat_minor": 5
}
