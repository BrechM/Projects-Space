{
 "cells": [
  {
   "cell_type": "code",
   "execution_count": 2,
   "id": "4128e2df",
   "metadata": {},
   "outputs": [],
   "source": [
    "# On va utiliser Modele_ML_API\n",
    "\n",
    "# Base url de l'API\n",
    "url = \"http://127.0.0.1:8000\"\n"
   ]
  },
  {
   "cell_type": "code",
   "execution_count": 3,
   "id": "46ed7e19",
   "metadata": {},
   "outputs": [
    {
     "name": "stdout",
     "output_type": "stream",
     "text": [
      "{'message': \"Bienvenue sur notre API de prédiction de la taille d'un enfant\"}\n"
     ]
    }
   ],
   "source": [
    "# Tester la route d'accueil\n",
    "import requests\n",
    "response = requests.get(f\"{url}/\")\n",
    "print(response.json())"
   ]
  },
  {
   "cell_type": "code",
   "execution_count": 5,
   "id": "96c9aac9",
   "metadata": {},
   "outputs": [
    {
     "data": {
      "text/html": [
       "<div>\n",
       "<style scoped>\n",
       "    .dataframe tbody tr th:only-of-type {\n",
       "        vertical-align: middle;\n",
       "    }\n",
       "\n",
       "    .dataframe tbody tr th {\n",
       "        vertical-align: top;\n",
       "    }\n",
       "\n",
       "    .dataframe thead th {\n",
       "        text-align: right;\n",
       "    }\n",
       "</style>\n",
       "<table border=\"1\" class=\"dataframe\">\n",
       "  <thead>\n",
       "    <tr style=\"text-align: right;\">\n",
       "      <th></th>\n",
       "      <th>message</th>\n",
       "    </tr>\n",
       "  </thead>\n",
       "  <tbody>\n",
       "    <tr>\n",
       "      <th>0</th>\n",
       "      <td>Bienvenue sur notre API de prédiction de la ta...</td>\n",
       "    </tr>\n",
       "  </tbody>\n",
       "</table>\n",
       "</div>"
      ],
      "text/plain": [
       "                                             message\n",
       "0  Bienvenue sur notre API de prédiction de la ta..."
      ]
     },
     "metadata": {},
     "output_type": "display_data"
    }
   ],
   "source": [
    "import pandas as pd\n",
    "#  On va verifier que la requete a reussi avant de lire le json\n",
    "if response.status_code == 200:\n",
    "    data = response.json()\n",
    "    df_pred = pd.DataFrame([data])\n",
    "    display(df_pred)\n",
    "else:\n",
    "    print(f\"Erreur serveur : {response.status_code}\")\n",
    "    print(response.text)\n"
   ]
  },
  {
   "cell_type": "code",
   "execution_count": 13,
   "id": "b93b2028",
   "metadata": {},
   "outputs": [
    {
     "data": {
      "text/html": [
       "<div>\n",
       "<style scoped>\n",
       "    .dataframe tbody tr th:only-of-type {\n",
       "        vertical-align: middle;\n",
       "    }\n",
       "\n",
       "    .dataframe tbody tr th {\n",
       "        vertical-align: top;\n",
       "    }\n",
       "\n",
       "    .dataframe thead th {\n",
       "        text-align: right;\n",
       "    }\n",
       "</style>\n",
       "<table border=\"1\" class=\"dataframe\">\n",
       "  <thead>\n",
       "    <tr style=\"text-align: right;\">\n",
       "      <th></th>\n",
       "      <th>prediction</th>\n",
       "      <th>valeurs_shap</th>\n",
       "    </tr>\n",
       "  </thead>\n",
       "  <tbody>\n",
       "    <tr>\n",
       "      <th>0</th>\n",
       "      <td>155.269307</td>\n",
       "      <td>[9.397456496970712, 5.303198275851415]</td>\n",
       "    </tr>\n",
       "  </tbody>\n",
       "</table>\n",
       "</div>"
      ],
      "text/plain": [
       "   prediction                            valeurs_shap\n",
       "0  155.269307  [9.397456496970712, 5.303198275851415]"
      ]
     },
     "metadata": {},
     "output_type": "display_data"
    }
   ],
   "source": [
    "# Appel à l'API pour la prediction:\n",
    "import pandas as pd\n",
    "# Tester la prediction avec une entrée\n",
    "data_pred = {\n",
    "    \"taille_pere\": 170,\n",
    "    \"taille_mere\": 160\n",
    "}\n",
    "response = requests.post(f\"{url}/predire/\", json=data_pred)\n",
    "# ou response = requests.post(url + \"/predire/\", json= data_pred)\n",
    "\n",
    "df_pred = pd.DataFrame([response.json()])\n",
    "display(df_pred)"
   ]
  },
  {
   "cell_type": "code",
   "execution_count": 8,
   "id": "e626abea",
   "metadata": {},
   "outputs": [
    {
     "data": {
      "text/html": [
       "<div>\n",
       "<style scoped>\n",
       "    .dataframe tbody tr th:only-of-type {\n",
       "        vertical-align: middle;\n",
       "    }\n",
       "\n",
       "    .dataframe tbody tr th {\n",
       "        vertical-align: top;\n",
       "    }\n",
       "\n",
       "    .dataframe thead th {\n",
       "        text-align: right;\n",
       "    }\n",
       "</style>\n",
       "<table border=\"1\" class=\"dataframe\">\n",
       "  <thead>\n",
       "    <tr style=\"text-align: right;\">\n",
       "      <th></th>\n",
       "      <th>noms_variables</th>\n",
       "      <th>coefficients</th>\n",
       "      <th>p_valeurs</th>\n",
       "      <th>significativite</th>\n",
       "    </tr>\n",
       "  </thead>\n",
       "  <tbody>\n",
       "    <tr>\n",
       "      <th>0</th>\n",
       "      <td>Intercept</td>\n",
       "      <td>681.547309</td>\n",
       "      <td>0.097997</td>\n",
       "      <td>Non significatif</td>\n",
       "    </tr>\n",
       "    <tr>\n",
       "      <th>1</th>\n",
       "      <td>taille_pere</td>\n",
       "      <td>-2.258228</td>\n",
       "      <td>0.163752</td>\n",
       "      <td>Non significatif</td>\n",
       "    </tr>\n",
       "    <tr>\n",
       "      <th>2</th>\n",
       "      <td>taille_mere</td>\n",
       "      <td>-0.894234</td>\n",
       "      <td>0.595041</td>\n",
       "      <td>Non significatif</td>\n",
       "    </tr>\n",
       "  </tbody>\n",
       "</table>\n",
       "</div>"
      ],
      "text/plain": [
       "  noms_variables  coefficients  p_valeurs   significativite\n",
       "0      Intercept    681.547309   0.097997  Non significatif\n",
       "1    taille_pere     -2.258228   0.163752  Non significatif\n",
       "2    taille_mere     -0.894234   0.595041  Non significatif"
      ]
     },
     "metadata": {},
     "output_type": "display_data"
    },
    {
     "name": "stdout",
     "output_type": "stream",
     "text": [
      "R2: 0.021821347929197543\n"
     ]
    }
   ],
   "source": [
    "# Pour obtenir les parametres du modele\n",
    "response_params = requests.get(url + \"/parametres\")\n",
    "data_params = response_params.json()\n",
    "df_params = pd.DataFrame({\n",
    "    \"noms_variables\": data_params[\"noms_variables\"],\n",
    "    \"coefficients\": data_params[\"coefficients\"],\n",
    "    \"p_valeurs\": data_params[\"p_valeurs\"],\n",
    "    \"significativite\": data_params[\"significativite\"]\n",
    "})\n",
    "\n",
    "display(df_params)\n",
    "print(f\"R2: {data_params['r2']}\")"
   ]
  },
  {
   "cell_type": "code",
   "execution_count": 10,
   "id": "452c9faa",
   "metadata": {},
   "outputs": [
    {
     "data": {
      "text/html": [
       "<div>\n",
       "<style scoped>\n",
       "    .dataframe tbody tr th:only-of-type {\n",
       "        vertical-align: middle;\n",
       "    }\n",
       "\n",
       "    .dataframe tbody tr th {\n",
       "        vertical-align: top;\n",
       "    }\n",
       "\n",
       "    .dataframe thead th {\n",
       "        text-align: right;\n",
       "    }\n",
       "</style>\n",
       "<table border=\"1\" class=\"dataframe\">\n",
       "  <thead>\n",
       "    <tr style=\"text-align: right;\">\n",
       "      <th></th>\n",
       "      <th>noms_variables</th>\n",
       "      <th>coefficients</th>\n",
       "      <th>p_valeurs</th>\n",
       "      <th>significativite</th>\n",
       "    </tr>\n",
       "  </thead>\n",
       "  <tbody>\n",
       "    <tr>\n",
       "      <th>0</th>\n",
       "      <td>Intercept</td>\n",
       "      <td>682.346104</td>\n",
       "      <td>0.094405</td>\n",
       "      <td>Non significatif</td>\n",
       "    </tr>\n",
       "    <tr>\n",
       "      <th>1</th>\n",
       "      <td>taille_pere</td>\n",
       "      <td>-2.246145</td>\n",
       "      <td>0.161473</td>\n",
       "      <td>Non significatif</td>\n",
       "    </tr>\n",
       "    <tr>\n",
       "      <th>2</th>\n",
       "      <td>taille_mere</td>\n",
       "      <td>-0.907701</td>\n",
       "      <td>0.585461</td>\n",
       "      <td>Non significatif</td>\n",
       "    </tr>\n",
       "  </tbody>\n",
       "</table>\n",
       "</div>"
      ],
      "text/plain": [
       "  noms_variables  coefficients  p_valeurs   significativite\n",
       "0      Intercept    682.346104   0.094405  Non significatif\n",
       "1    taille_pere     -2.246145   0.161473  Non significatif\n",
       "2    taille_mere     -0.907701   0.585461  Non significatif"
      ]
     },
     "metadata": {},
     "output_type": "display_data"
    },
    {
     "name": "stdout",
     "output_type": "stream",
     "text": [
      "R2 mis à jour: 0.02167975842260983\n"
     ]
    }
   ],
   "source": [
    "# Ajouter de nouvelles données et mettre à jour le modele\n",
    "\n",
    "data_ajout = {\n",
    "    \"taille_pere\" : [178, 172],\n",
    "    \"taille_mere\": [162, 168],\n",
    "    \"taille_enfant\": [176, 170]\n",
    "}\n",
    "\n",
    "response_ajout = requests.post(url + \"/ajouter_donnees\", json=data_ajout)\n",
    "data_updated = response_ajout.json()[\"nouveaux_parametres\"]\n",
    "df_params_updated = pd.DataFrame({\n",
    "    \"noms_variables\":data_updated[\"noms_variables\"],\n",
    "    \"coefficients\": data_updated[\"coefficients\"],\n",
    "    \"p_valeurs\": data_updated[\"p_valeurs\"],\n",
    "    \"significativite\": data_updated[\"significativite\"]\n",
    "})\n",
    "display(df_params_updated)\n",
    "print(f\"R2 mis à jour: {data_updated['r2']}\")"
   ]
  },
  {
   "cell_type": "code",
   "execution_count": 11,
   "id": "c27564ae",
   "metadata": {},
   "outputs": [
    {
     "name": "stdout",
     "output_type": "stream",
     "text": [
      "{'noms_variables': ['Intercept', 'taille_pere', 'taille_mere'], 'coefficients': [682.3461039642933, -2.2461452240575572, -0.9077006795274628], 'r2': 0.02167975842260983, 'p_valeurs': [0.09440478949527659, 0.16147339876630945, 0.5854606250866674], 'significativite': ['Non significatif', 'Non significatif', 'Non significatif']}\n"
     ]
    }
   ],
   "source": [
    "print(data_updated)"
   ]
  }
 ],
 "metadata": {
  "kernelspec": {
   "display_name": "base",
   "language": "python",
   "name": "python3"
  },
  "language_info": {
   "codemirror_mode": {
    "name": "ipython",
    "version": 3
   },
   "file_extension": ".py",
   "mimetype": "text/x-python",
   "name": "python",
   "nbconvert_exporter": "python",
   "pygments_lexer": "ipython3",
   "version": "3.11.5"
  }
 },
 "nbformat": 4,
 "nbformat_minor": 5
}
