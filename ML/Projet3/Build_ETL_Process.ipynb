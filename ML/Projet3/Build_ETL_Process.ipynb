{
 "cells": [
  {
   "cell_type": "markdown",
   "id": "111e17a4",
   "metadata": {},
   "source": [
    "## Creation d'un processus ETL"
   ]
  },
  {
   "cell_type": "code",
   "execution_count": 1,
   "id": "5000dd2a",
   "metadata": {},
   "outputs": [],
   "source": [
    "import glob as f\n",
    "import pandas as pd\n",
    "from datetime import datetime"
   ]
  },
  {
   "cell_type": "markdown",
   "id": "f2cf9dc3",
   "metadata": {},
   "source": [
    "### Processus d'extraction"
   ]
  },
  {
   "cell_type": "code",
   "execution_count": 3,
   "id": "6ef8bf11",
   "metadata": {},
   "outputs": [],
   "source": [
    "# Fonction d'extraction de fichier csv\n",
    "def extract_from_csv(file):\n",
    "    df = pd.read_csv(file)\n",
    "    return df"
   ]
  },
  {
   "cell_type": "code",
   "execution_count": 4,
   "id": "0fcb7271",
   "metadata": {},
   "outputs": [],
   "source": [
    "# fonction d'extraction de fichier json\n",
    "def extract_from_json(file):\n",
    "    df = pd.read_json(file, lines = True)\n",
    "    return df"
   ]
  },
  {
   "cell_type": "code",
   "execution_count": 5,
   "id": "02265bea",
   "metadata": {},
   "outputs": [],
   "source": [
    "# On va combiner tout ceci dans une fonction extract\n",
    "def extract():\n",
    "    extrated_data = pd.DataFrame(columns=['car_model', 'year_of_manufacture', 'price', 'fuel'])\n",
    "\n",
    "    for i in g.glob(\"Raw_Data/*.csv\"):\n",
    "        extracted_data = extracted_data.append(extract_from_csv(i), ignore_index = True)\n",
    "\n",
    "    for i in g.glob(\"Raw_Data/*.json\"):\n",
    "        extracted_data = extracted_data.append(extract_from_csv(i), ignore_index = True)\n",
    "\n",
    "    return extracted_data\n",
    "                    "
   ]
  },
  {
   "cell_type": "markdown",
   "id": "977d947a",
   "metadata": {},
   "source": [
    "### Transformation"
   ]
  },
  {
   "cell_type": "code",
   "execution_count": 6,
   "id": "b049b28c",
   "metadata": {},
   "outputs": [],
   "source": [
    "# On va definir une fonction transformation\n",
    "def transform(data):\n",
    "    data['price'] = round(data['price'], 2)\n",
    "    data['car_age'] = datetime.today().year - data['year_of_manufacture']"
   ]
  },
  {
   "cell_type": "markdown",
   "id": "0aabeff9",
   "metadata": {},
   "source": [
    "### Chargement des données"
   ]
  },
  {
   "cell_type": "code",
   "execution_count": null,
   "id": "811941b3",
   "metadata": {},
   "outputs": [],
   "source": [
    "def load(targetfile, data_to_load):\n",
    "    data_to_load.to_csv(targetfile)"
   ]
  }
 ],
 "metadata": {
  "kernelspec": {
   "display_name": "base",
   "language": "python",
   "name": "python3"
  },
  "language_info": {
   "codemirror_mode": {
    "name": "ipython",
    "version": 3
   },
   "file_extension": ".py",
   "mimetype": "text/x-python",
   "name": "python",
   "nbconvert_exporter": "python",
   "pygments_lexer": "ipython3",
   "version": "3.11.5"
  }
 },
 "nbformat": 4,
 "nbformat_minor": 5
}
