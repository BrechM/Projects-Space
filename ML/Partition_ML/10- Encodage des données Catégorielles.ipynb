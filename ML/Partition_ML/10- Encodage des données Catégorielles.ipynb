{
 "cells": [
  {
   "cell_type": "markdown",
   "id": "ffdd2d10-eed3-443f-b5cb-cdfc949636f7",
   "metadata": {},
   "source": [
    "# 1 Encoding des variables categorielles"
   ]
  },
  {
   "cell_type": "markdown",
   "id": "be02ae78-ed78-4e73-95a8-bec48e624178",
   "metadata": {},
   "source": [
    "| Forme d'encodage | Definition | Avantages |Inconvenients |Conditions d'utilisation |\n",
    "| --- | --- | --- | --- | --- |\n",
    "| Label Encoding |Transformation des valeurs catégorielles en entiers | Facile à implémenter, adapté aux algorithmes de machine learning |Création d'une relation d'ordre artificielle entre les catégories, peut induire en erreur certains algorithmes |Les catégories doivent être ordonnées ou ne pas avoir de relation d'ordre | \n",
    "|One-Hot Encoding |Transformation des valeurs catégorielles en vecteurs binaires | Ne crée pas de relation d'ordre artificielle, adapté à de nombreux algorithmes de machine learning |Peut créer des colonnes redondantes et augmenter considérablement la taille des données |Les catégories ne doivent pas être trop nombreuses |"
   ]
  },
  {
   "cell_type": "code",
   "execution_count": 12,
   "id": "cbe91128-06c0-4385-ba92-7da5d6c9223d",
   "metadata": {},
   "outputs": [],
   "source": [
    "import seaborn as sns\n",
    "# Charger unexemple de dataset\n",
    "df = sns.load_dataset('iris')\n",
    "df.columns=['sepal_length','sepal_width','petal_length','petal_width','class']"
   ]
  },
  {
   "cell_type": "code",
   "execution_count": 14,
   "id": "b8ac99e0-28ba-4ba9-9bcb-c0656622131a",
   "metadata": {},
   "outputs": [
    {
     "name": "stdout",
     "output_type": "stream",
     "text": [
      "   sepal_length  sepal_width  petal_length  petal_width   class\n",
      "0           5.1          3.5           1.4          0.2  setosa\n",
      "1           4.9          3.0           1.4          0.2  setosa\n",
      "2           4.7          3.2           1.3          0.2  setosa\n",
      "3           4.6          3.1           1.5          0.2  setosa\n",
      "4           5.0          3.6           1.4          0.2  setosa\n"
     ]
    }
   ],
   "source": [
    "print(df.head())"
   ]
  },
  {
   "cell_type": "code",
   "execution_count": 23,
   "id": "8794e9b9-1f4e-4b13-a846-e5585eb354bb",
   "metadata": {},
   "outputs": [],
   "source": [
    "import pandas as pd\n",
    "from sklearn.preprocessing import (LabelEncoder, OrdinalEncoder, OneHotEncoder,\n",
    "                                    LabelBinarizer, MultiLabelBinarizer)"
   ]
  },
  {
   "cell_type": "markdown",
   "id": "15156906-0304-4fb5-a67d-c1c23a050629",
   "metadata": {},
   "source": [
    "## 2 Label Encoding\n",
    "\n",
    "Le Label Encoding est une technique de transformation de variables catégorielles en valeurs numériques ordinales. Chaque catégorie possible de la variable est remplacée par un entier unique, en fonction de l'ordre dans lequel les catégories apparaissent dans la variable.\n",
    "\n",
    "## Avantages\n",
    "Le Label Encoding présente plusieurs avantages :\n",
    "\n",
    "- Il est simple à mettre en œuvre et ne nécessite pas beaucoup de ressources.\n",
    "- Il préserve l'ordre des catégories si elle est importante pour l'analyse.\n",
    "\n",
    "## Conditions d'utilisation\n",
    "Le Label Encoding est adapté aux variables catégorielles qui ont une relation d'ordre naturelle et pour lesquelles l'interprétation en termes de valeurs numériques est pertinente. Cependant, il est important de prendre en compte les avantages, les inconvénients et les conditions d'utilisation de cette technique pour éviter des erreurs d'interprétation ou des problèmes d'analyse.\n",
    "\n",
    "En général, le Label Encoding est une technique simple et rapide pour encoder des variables catégorielles en valeurs numériques ordinales, mais il est important de bien comprendre ses limites et d'utiliser d'autres techniques d'encodage pour des analyses plus avancées ou pour des algorithmes de machine learning plus complexes.\n"
   ]
  },
  {
   "cell_type": "code",
   "execution_count": 29,
   "id": "c7d301a2-c43c-471c-aa42-fc11f62a4bb0",
   "metadata": {},
   "outputs": [
    {
     "name": "stdout",
     "output_type": "stream",
     "text": [
      "Label encoding : \n",
      "    class  class_le\n",
      "0  setosa         0\n",
      "1  setosa         0\n",
      "2  setosa         0\n",
      "3  setosa         0\n",
      "4  setosa         0\n",
      "Valeurs Unique\n",
      "[0 1 2]\n",
      "class     setosa  versicolor  virginica\n",
      "class_le                               \n",
      "0             50           0          0\n",
      "1              0          50          0\n",
      "2              0           0         50\n"
     ]
    }
   ],
   "source": [
    "# Label Encoding\n",
    "le = LabelEncoder()\n",
    "df['class_le'] = le.fit_transform(df['class'])\n",
    "print(\"Label encoding : \")\n",
    "print(df[['class', 'class_le']].head())\n",
    "print(\"Valeurs Unique\")\n",
    "print(df.class_le.unique())\n",
    "\n",
    "# Realisation de la table de contingence\n",
    "table = pd.crosstab(df['class_le'], df['class'])\n",
    "print(table)"
   ]
  },
  {
   "cell_type": "code",
   "execution_count": 31,
   "id": "8abd3d50-92e0-4ba6-8f2c-f77973f55b8b",
   "metadata": {},
   "outputs": [],
   "source": [
    "# On attrinut à chaque modalité de la variable, une valeur unique\n",
    "# NB: S'il n'a pas d'ordre naturel, eviter le label encoding"
   ]
  },
  {
   "cell_type": "markdown",
   "id": "4a9caccd-20e1-4ad8-ae2a-eb1295447c8a",
   "metadata": {},
   "source": [
    "# One-Hot Encoding\n",
    "Le One-Hot Encoding est une technique de transformation de variables catégorielles en vecteurs binaires. Chaque catégorie possible de la variable est représentée par une colonne binaire, et chaque observation est représentée par un vecteur binaire de la même dimension que le nombre de catégories possibles.\n",
    "\n",
    "## Avantages\n",
    "Le One-Hot Encoding présente plusieurs avantages :\n",
    "\n",
    "- Il ne crée pas de relation d'ordre artificielle entre les catégories.\n",
    "- Il est adapté à de nombreux algorithmes de machine learning, tels que les réseaux de neurones, les arbres de\n",
    "décision et les machines à vecteurs de support.\n",
    "- Il permet de prendre en compte des variables catégorielles avec un grand nombre de catégories.\n",
    "\n",
    "## Inconvénients\n",
    "Le One-Hot Encoding présente également quelques inconvénients :\n",
    "\n",
    "- Il peut créer des colonnes redondantes si une variable catégorielle a un grand nombre\n",
    "de catégories.\n",
    "- Il peut augmenter considérablement la taille des données si plusieurs variables catégorielles sont encodées de cette\n",
    "manière.\n",
    "\n",
    "## Conditions d'utilisation\n",
    "Le One-Hot Encoding est adapté aux variables catégorielles qui ne sont pas ordonnées et qui ont un nombre raisonnable de catégories possibles. Si une variable catégorielle a un grand nombre de catégories, il peut être préférable d'utiliser d'autres techniques d'encodage, telles que le Target Encoding ou le Binary Encoding.\n",
    "\n",
    "En général, le One-Hot Encoding est une technique efficace pour encoder des variables catégorielles et les utiliser dans des algorithmes de machine learning. Cependant, il est important de prendre en compte les avantages, les inconvénients et les conditions d'utilisation de cette technique pour éviter des problèmes de dimensionnalité ou des erreurs d'interprétation.\n",
    "\n"
   ]
  },
  {
   "cell_type": "code",
   "execution_count": 37,
   "id": "bc13e7b0-ea99-402d-b66e-dfc96d309680",
   "metadata": {},
   "outputs": [
    {
     "name": "stdout",
     "output_type": "stream",
     "text": [
      "One-hot encoding : \n",
      "     class_setosa  class_versicolor  class_virginica\n",
      "0             1.0               0.0              0.0\n",
      "1             1.0               0.0              0.0\n",
      "2             1.0               0.0              0.0\n",
      "3             1.0               0.0              0.0\n",
      "4             1.0               0.0              0.0\n",
      "..            ...               ...              ...\n",
      "145           0.0               0.0              1.0\n",
      "146           0.0               0.0              1.0\n",
      "147           0.0               0.0              1.0\n",
      "148           0.0               0.0              1.0\n",
      "149           0.0               0.0              1.0\n",
      "\n",
      "[150 rows x 3 columns]\n"
     ]
    }
   ],
   "source": [
    "# One_hot encoding\n",
    "ohe = OneHotEncoder(sparse_output=False)\n",
    "ohe_result = ohe.fit_transform(df[['class']])\n",
    "df_ohe = pd.DataFrame(ohe_result, columns=ohe.get_feature_names_out(['class']))\n",
    "print(\"One-hot encoding : \")\n",
    "print(df_ohe)"
   ]
  },
  {
   "cell_type": "markdown",
   "id": "6944e65c-9ec0-456c-b7ca-495aa29c7a5c",
   "metadata": {},
   "source": [
    "## Target Encoding\n",
    "Le Target Encoding est une technique de transformation de variables catégorielles en valeurs numériques en fonction de la variable cible. Chaque catégorie possible de la variable est remplacée par la moyenne, la médiane ou tout autre agrégat de la variable cible pour cette catégorie.\n",
    "\n",
    "## Avantages\n",
    "Le Target Encoding présente plusieurs avantages :\n",
    "\n",
    "- Il peut capturer des informations importantes sur la relation entre la variable catégorielle et la variable cible.\n",
    "- Il peut être adapté à des variables catégorielles avec un grand nombre de catégories ou des catégories rares.\n",
    "\n",
    "## Inconvénients\n",
    "Le Target Encoding présente également quelques inconvénients :\n",
    "\n",
    "- Il peut être sensible aux valeurs aberrantes et aux échantillons de petite taille.\n",
    "- Il peut surajuster les données d'entraînement s'il n'est pas utilisé avec prudence.\n",
    "\n",
    "## Conditions d'utilisation\n",
    "Le Target Encoding est adapté aux variables catégorielles pour lesquelles la relation avec la variable cible est importante pour l'analyse ou la prédiction. Il est important de prendre en compte les avantages et les inconvénients de cette technique pour éviter des erreurs d'interprétation ou des problèmes d'analyse.\n",
    "\n",
    "En général, le Target Encoding est une technique utile pour encoder des variables catégorielles en valeurs numériques en fonction de la variable cible, mais il est important de bien comprendre ses limites et d'utiliser d'autres techniques d'encodage pour des analyses plus avancées ou pour des algorithmes de machine learning plus complexes."
   ]
  },
  {
   "cell_type": "code",
   "execution_count": null,
   "id": "e3cf1afc-86b3-45dd-9063-c7a46f1a2ddd",
   "metadata": {},
   "outputs": [],
   "source": [
    "!pip install category-encoders\n",
    "import category_encoders as ce\n",
    "\n",
    "# Initialiser le Target Encoder\n",
    "target_encoder = ce.TargetEncoder(cols=['class'])\n",
    "\n",
    "# Appliquer l'encodage sur la variable catégorielle\n",
    "df['class_encoded'] = target_encoder.fit_transform(df['class'], df['target'])\n",
    "\n",
    "# Afficher le DataFrame encodé\n",
    "print(df)"
   ]
  }
 ],
 "metadata": {
  "kernelspec": {
   "display_name": "Python [conda env:base] *",
   "language": "python",
   "name": "conda-base-py"
  },
  "language_info": {
   "codemirror_mode": {
    "name": "ipython",
    "version": 3
   },
   "file_extension": ".py",
   "mimetype": "text/x-python",
   "name": "python",
   "nbconvert_exporter": "python",
   "pygments_lexer": "ipython3",
   "version": "3.11.5"
  }
 },
 "nbformat": 4,
 "nbformat_minor": 5
}
