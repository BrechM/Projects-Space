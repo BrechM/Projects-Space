{
  "nbformat": 4,
  "nbformat_minor": 0,
  "metadata": {
    "colab": {
      "provenance": []
    },
    "kernelspec": {
      "name": "python3",
      "display_name": "Python 3"
    },
    "language_info": {
      "name": "python"
    }
  },
  "cells": [
    {
      "cell_type": "markdown",
      "source": [
        "## Pyspark pour la manipulation et l'analyse de gros données\n",
        "\n"
      ],
      "metadata": {
        "id": "dnmTO4nh2-g5"
      }
    },
    {
      "cell_type": "code",
      "source": [
        "!pip install pyspark -q\n",
        "!pip install findspark -q"
      ],
      "metadata": {
        "id": "0VKryxVW5FXE"
      },
      "execution_count": 1,
      "outputs": []
    },
    {
      "cell_type": "code",
      "source": [
        "# Creation d'une session Spark\n",
        "from pyspark.sql import SparkSession\n",
        "spark = SparkSession.builder.appName(\"Final Project\").getOrCreate()"
      ],
      "metadata": {
        "id": "iPN0z1Cw3CmR"
      },
      "execution_count": 2,
      "outputs": []
    },
    {
      "cell_type": "code",
      "source": [
        "import os\n",
        "\n",
        "# Chemin absolu du dossier courant\n",
        "chemin_courant = os.getcwd()\n",
        "print(\"Chemin du dossier courant :\", chemin_courant)"
      ],
      "metadata": {
        "colab": {
          "base_uri": "https://localhost:8080/"
        },
        "id": "g8UPBF8y9EcY",
        "outputId": "0548ccb6-a964-4c1b-87ac-46e258b9b08f"
      },
      "execution_count": 3,
      "outputs": [
        {
          "output_type": "stream",
          "name": "stdout",
          "text": [
            "Chemin du dossier courant : /content\n"
          ]
        }
      ]
    },
    {
      "cell_type": "markdown",
      "source": [
        "#### Telechargement des données"
      ],
      "metadata": {
        "id": "tH4CRwxr6kTX"
      }
    },
    {
      "cell_type": "code",
      "source": [
        "# Importer depuis le local\n",
        "# from google.colab import files\n",
        "# uploaded = files.upload()"
      ],
      "metadata": {
        "id": "Yj2T_CfCg7y7"
      },
      "execution_count": null,
      "outputs": []
    },
    {
      "cell_type": "code",
      "source": [
        "!wget https://data.cityofchicago.org/api/views/ijzp-q8t2/rows.csv?accessType=DOWNLOAD"
      ],
      "metadata": {
        "colab": {
          "base_uri": "https://localhost:8080/"
        },
        "id": "l4GrDS7jguuP",
        "outputId": "b2c81750-9086-4474-8aa8-733f223b946e"
      },
      "execution_count": 3,
      "outputs": [
        {
          "output_type": "stream",
          "name": "stdout",
          "text": [
            "--2025-05-05 11:12:48--  https://data.cityofchicago.org/api/views/ijzp-q8t2/rows.csv?accessType=DOWNLOAD\n",
            "Resolving data.cityofchicago.org (data.cityofchicago.org)... 52.206.140.199, 52.206.140.205, 52.206.68.26\n",
            "Connecting to data.cityofchicago.org (data.cityofchicago.org)|52.206.140.199|:443... connected.\n",
            "HTTP request sent, awaiting response... 200 OK\n",
            "Length: unspecified [text/csv]\n",
            "Saving to: ‘rows.csv?accessType=DOWNLOAD’\n",
            "\n",
            "rows.csv?accessType     [              <=>   ]   1.83G  1.09MB/s    in 23m 51s \n",
            "\n",
            "2025-05-05 11:36:40 (1.31 MB/s) - ‘rows.csv?accessType=DOWNLOAD’ saved [1962797304]\n",
            "\n"
          ]
        }
      ]
    },
    {
      "cell_type": "code",
      "source": [
        "!mv rows.csv\\?accessType\\=DOWNLOAD reported-crimes.csv"
      ],
      "metadata": {
        "id": "0oEaNP9bha-n"
      },
      "execution_count": 4,
      "outputs": []
    },
    {
      "cell_type": "markdown",
      "source": [
        "#### Ingestion des données"
      ],
      "metadata": {
        "id": "wuAS11qBAqm3"
      }
    },
    {
      "cell_type": "code",
      "source": [
        "# Lecture du fichier\n",
        "df = spark.read.csv(\n",
        "    \"reported-crimes.csv\",\n",
        "    header = True\n",
        ")\n",
        "df.show(5)"
      ],
      "metadata": {
        "colab": {
          "base_uri": "https://localhost:8080/"
        },
        "id": "5mj_gLLYAu3E",
        "outputId": "ebe36277-0b9a-4471-ee21-910bb69bf39b"
      },
      "execution_count": 5,
      "outputs": [
        {
          "output_type": "stream",
          "name": "stdout",
          "text": [
            "+--------+-----------+--------------------+--------------------+----+--------------------+--------------------+--------------------+------+--------+----+--------+----+--------------+--------+------------+------------+----+--------------------+------------+-------------+--------------------+\n",
            "|      ID|Case Number|                Date|               Block|IUCR|        Primary Type|         Description|Location Description|Arrest|Domestic|Beat|District|Ward|Community Area|FBI Code|X Coordinate|Y Coordinate|Year|          Updated On|    Latitude|    Longitude|            Location|\n",
            "+--------+-----------+--------------------+--------------------+----+--------------------+--------------------+--------------------+------+--------+----+--------+----+--------------+--------+------------+------------+----+--------------------+------------+-------------+--------------------+\n",
            "|13311263|   JG503434|07/29/2022 03:39:...|     023XX S TROY ST|1582|OFFENSE INVOLVING...|   CHILD PORNOGRAPHY|           RESIDENCE|  true|   false|1033|     010|  25|            30|      17|        NULL|        NULL|2022|04/18/2024 03:40:...|        NULL|         NULL|                NULL|\n",
            "|13053066|   JG103252|01/03/2023 04:44:...|039XX W WASHINGTO...|2017|           NARCOTICS|MANUFACTURE / DEL...|            SIDEWALK|  true|   false|1122|     011|  28|            26|      18|        NULL|        NULL|2023|01/20/2024 03:41:...|        NULL|         NULL|                NULL|\n",
            "|11227634|   JB147599|08/26/2017 10:00:...| 001XX W RANDOLPH ST|0281| CRIM SEXUAL ASSAULT|      NON-AGGRAVATED|         HOTEL/MOTEL| false|   false|0122|     001|  42|            32|      02|        NULL|        NULL|2017|02/11/2018 03:57:...|        NULL|         NULL|                NULL|\n",
            "|13203321|   JG415333|09/06/2023 05:00:...|    002XX N Wells st|1320|     CRIMINAL DAMAGE|          TO VEHICLE|PARKING LOT / GAR...| false|   false|0122|     001|  42|            32|      14|     1174694|     1901831|2023|11/04/2023 03:40:...|41.886018055|-87.633937881|(41.886018055, -8...|\n",
            "|13204489|   JG416325|09/06/2023 11:00:...|      0000X E 8TH ST|0810|               THEFT|           OVER $500|PARKING LOT / GAR...| false|   false|0123|     001|   4|            32|      06|     1176857|     1896680|2023|11/04/2023 03:40:...|41.871834768| -87.62615082|(41.871834768, -8...|\n",
            "+--------+-----------+--------------------+--------------------+----+--------------------+--------------------+--------------------+------+--------+----+--------+----+--------------+--------+------------+------------+----+--------------------+------------+-------------+--------------------+\n",
            "only showing top 5 rows\n",
            "\n"
          ]
        }
      ]
    },
    {
      "cell_type": "code",
      "source": [
        "df.count()"
      ],
      "metadata": {
        "colab": {
          "base_uri": "https://localhost:8080/"
        },
        "id": "NNN334YDAIdf",
        "outputId": "c74bd57c-f343-430a-b4fc-8a505bdb499d"
      },
      "execution_count": null,
      "outputs": [
        {
          "output_type": "execute_result",
          "data": {
            "text/plain": [
              "8305598"
            ]
          },
          "metadata": {},
          "execution_count": 9
        }
      ]
    },
    {
      "cell_type": "code",
      "source": [
        "type(df)"
      ],
      "metadata": {
        "colab": {
          "base_uri": "https://localhost:8080/",
          "height": 186
        },
        "id": "9EpPsk13kOXt",
        "outputId": "eed77d82-4e8d-4c50-bf97-bb7e917da915"
      },
      "execution_count": null,
      "outputs": [
        {
          "output_type": "execute_result",
          "data": {
            "text/plain": [
              "pyspark.sql.dataframe.DataFrame"
            ],
            "text/html": [
              "<div style=\"max-width:800px; border: 1px solid var(--colab-border-color);\"><style>\n",
              "      pre.function-repr-contents {\n",
              "        overflow-x: auto;\n",
              "        padding: 8px 12px;\n",
              "        max-height: 500px;\n",
              "      }\n",
              "\n",
              "      pre.function-repr-contents.function-repr-contents-collapsed {\n",
              "        cursor: pointer;\n",
              "        max-height: 100px;\n",
              "      }\n",
              "    </style>\n",
              "    <pre style=\"white-space: initial; background:\n",
              "         var(--colab-secondary-surface-color); padding: 8px 12px;\n",
              "         border-bottom: 1px solid var(--colab-border-color);\"><b>pyspark.sql.dataframe.DataFrame</b><br/>def __init__(jdf: JavaObject, sql_ctx: Union[&#x27;SQLContext&#x27;, &#x27;SparkSession&#x27;])</pre><pre class=\"function-repr-contents function-repr-contents-collapsed\" style=\"\"><a class=\"filepath\" style=\"display:none\" href=\"#\">/usr/local/lib/python3.11/dist-packages/pyspark/sql/dataframe.py</a>A distributed collection of data grouped into named columns.\n",
              "\n",
              ".. versionadded:: 1.3.0\n",
              "\n",
              ".. versionchanged:: 3.4.0\n",
              "    Supports Spark Connect.\n",
              "\n",
              "Examples\n",
              "--------\n",
              "A :class:`DataFrame` is equivalent to a relational table in Spark SQL,\n",
              "and can be created using various functions in :class:`SparkSession`:\n",
              "\n",
              "&gt;&gt;&gt; people = spark.createDataFrame([\n",
              "...     {&quot;deptId&quot;: 1, &quot;age&quot;: 40, &quot;name&quot;: &quot;Hyukjin Kwon&quot;, &quot;gender&quot;: &quot;M&quot;, &quot;salary&quot;: 50},\n",
              "...     {&quot;deptId&quot;: 1, &quot;age&quot;: 50, &quot;name&quot;: &quot;Takuya Ueshin&quot;, &quot;gender&quot;: &quot;M&quot;, &quot;salary&quot;: 100},\n",
              "...     {&quot;deptId&quot;: 2, &quot;age&quot;: 60, &quot;name&quot;: &quot;Xinrong Meng&quot;, &quot;gender&quot;: &quot;F&quot;, &quot;salary&quot;: 150},\n",
              "...     {&quot;deptId&quot;: 3, &quot;age&quot;: 20, &quot;name&quot;: &quot;Haejoon Lee&quot;, &quot;gender&quot;: &quot;M&quot;, &quot;salary&quot;: 200}\n",
              "... ])\n",
              "\n",
              "Once created, it can be manipulated using the various domain-specific-language\n",
              "(DSL) functions defined in: :class:`DataFrame`, :class:`Column`.\n",
              "\n",
              "To select a column from the :class:`DataFrame`, use the apply method:\n",
              "\n",
              "&gt;&gt;&gt; age_col = people.age\n",
              "\n",
              "A more concrete example:\n",
              "\n",
              "&gt;&gt;&gt; # To create DataFrame using SparkSession\n",
              "... department = spark.createDataFrame([\n",
              "...     {&quot;id&quot;: 1, &quot;name&quot;: &quot;PySpark&quot;},\n",
              "...     {&quot;id&quot;: 2, &quot;name&quot;: &quot;ML&quot;},\n",
              "...     {&quot;id&quot;: 3, &quot;name&quot;: &quot;Spark SQL&quot;}\n",
              "... ])\n",
              "\n",
              "&gt;&gt;&gt; people.filter(people.age &gt; 30).join(\n",
              "...     department, people.deptId == department.id).groupBy(\n",
              "...     department.name, &quot;gender&quot;).agg({&quot;salary&quot;: &quot;avg&quot;, &quot;age&quot;: &quot;max&quot;}).show()\n",
              "+-------+------+-----------+--------+\n",
              "|   name|gender|avg(salary)|max(age)|\n",
              "+-------+------+-----------+--------+\n",
              "|     ML|     F|      150.0|      60|\n",
              "|PySpark|     M|       75.0|      50|\n",
              "+-------+------+-----------+--------+\n",
              "\n",
              "Notes\n",
              "-----\n",
              "A DataFrame should only be created as described above. It should not be directly\n",
              "created via using the constructor.</pre>\n",
              "      <script>\n",
              "      if (google.colab.kernel.accessAllowed && google.colab.files && google.colab.files.view) {\n",
              "        for (const element of document.querySelectorAll('.filepath')) {\n",
              "          element.style.display = 'block'\n",
              "          element.onclick = (event) => {\n",
              "            event.preventDefault();\n",
              "            event.stopPropagation();\n",
              "            google.colab.files.view(element.textContent, 80);\n",
              "          };\n",
              "        }\n",
              "      }\n",
              "      for (const element of document.querySelectorAll('.function-repr-contents')) {\n",
              "        element.onclick = (event) => {\n",
              "          event.preventDefault();\n",
              "          event.stopPropagation();\n",
              "          element.classList.toggle('function-repr-contents-collapsed');\n",
              "        };\n",
              "      }\n",
              "      </script>\n",
              "      </div>"
            ]
          },
          "metadata": {},
          "execution_count": 10
        }
      ]
    },
    {
      "cell_type": "code",
      "source": [
        "# Type des variables\n",
        "df.printSchema()"
      ],
      "metadata": {
        "colab": {
          "base_uri": "https://localhost:8080/"
        },
        "id": "OEce0ab0mFaY",
        "outputId": "1c83f468-717e-4dde-f5e2-90c0dee1e325"
      },
      "execution_count": null,
      "outputs": [
        {
          "output_type": "stream",
          "name": "stdout",
          "text": [
            "root\n",
            " |-- ID: string (nullable = true)\n",
            " |-- Case Number: string (nullable = true)\n",
            " |-- Date: string (nullable = true)\n",
            " |-- Block: string (nullable = true)\n",
            " |-- IUCR: string (nullable = true)\n",
            " |-- Primary Type: string (nullable = true)\n",
            " |-- Description: string (nullable = true)\n",
            " |-- Location Description: string (nullable = true)\n",
            " |-- Arrest: string (nullable = true)\n",
            " |-- Domestic: string (nullable = true)\n",
            " |-- Beat: string (nullable = true)\n",
            " |-- District: string (nullable = true)\n",
            " |-- Ward: string (nullable = true)\n",
            " |-- Community Area: string (nullable = true)\n",
            " |-- FBI Code: string (nullable = true)\n",
            " |-- X Coordinate: string (nullable = true)\n",
            " |-- Y Coordinate: string (nullable = true)\n",
            " |-- Year: string (nullable = true)\n",
            " |-- Updated On: string (nullable = true)\n",
            " |-- Latitude: string (nullable = true)\n",
            " |-- Longitude: string (nullable = true)\n",
            " |-- Location: string (nullable = true)\n",
            "\n"
          ]
        }
      ]
    },
    {
      "cell_type": "markdown",
      "source": [
        "#### Manipulation des données"
      ],
      "metadata": {
        "id": "HWmGb74Um1sJ"
      }
    },
    {
      "cell_type": "code",
      "source": [
        "from pyspark.sql.functions import to_timestamp, col\n",
        "df = df.withColumn(\n",
        "    'Date',\n",
        "    to_timestamp(col('Date'), 'MM/dd/yyyy hh:mm:ss a')\n",
        ")\n",
        "df.printSchema()"
      ],
      "metadata": {
        "colab": {
          "base_uri": "https://localhost:8080/"
        },
        "id": "yxCa9Gqwm6yg",
        "outputId": "fc653d08-b33c-4eb5-daad-cc659fd14d69"
      },
      "execution_count": null,
      "outputs": [
        {
          "output_type": "stream",
          "name": "stdout",
          "text": [
            "root\n",
            " |-- ID: string (nullable = true)\n",
            " |-- Case Number: string (nullable = true)\n",
            " |-- Date: timestamp (nullable = true)\n",
            " |-- Block: string (nullable = true)\n",
            " |-- IUCR: string (nullable = true)\n",
            " |-- Primary Type: string (nullable = true)\n",
            " |-- Description: string (nullable = true)\n",
            " |-- Location Description: string (nullable = true)\n",
            " |-- Arrest: string (nullable = true)\n",
            " |-- Domestic: string (nullable = true)\n",
            " |-- Beat: string (nullable = true)\n",
            " |-- District: string (nullable = true)\n",
            " |-- Ward: string (nullable = true)\n",
            " |-- Community Area: string (nullable = true)\n",
            " |-- FBI Code: string (nullable = true)\n",
            " |-- X Coordinate: string (nullable = true)\n",
            " |-- Y Coordinate: string (nullable = true)\n",
            " |-- Year: string (nullable = true)\n",
            " |-- Updated On: string (nullable = true)\n",
            " |-- Latitude: string (nullable = true)\n",
            " |-- Longitude: string (nullable = true)\n",
            " |-- Location: string (nullable = true)\n",
            "\n"
          ]
        }
      ]
    },
    {
      "cell_type": "code",
      "source": [
        "df.show(5)"
      ],
      "metadata": {
        "colab": {
          "base_uri": "https://localhost:8080/"
        },
        "id": "gxhOgJNopCPz",
        "outputId": "a382b7f8-1c1f-4a4b-85ef-497527fa5380"
      },
      "execution_count": null,
      "outputs": [
        {
          "output_type": "stream",
          "name": "stdout",
          "text": [
            "+--------+-----------+-------------------+--------------------+----+--------------------+--------------------+--------------------+------+--------+----+--------+----+--------------+--------+------------+------------+----+--------------------+------------+-------------+--------------------+\n",
            "|      ID|Case Number|               Date|               Block|IUCR|        Primary Type|         Description|Location Description|Arrest|Domestic|Beat|District|Ward|Community Area|FBI Code|X Coordinate|Y Coordinate|Year|          Updated On|    Latitude|    Longitude|            Location|\n",
            "+--------+-----------+-------------------+--------------------+----+--------------------+--------------------+--------------------+------+--------+----+--------+----+--------------+--------+------------+------------+----+--------------------+------------+-------------+--------------------+\n",
            "|13311263|   JG503434|2022-07-29 03:39:00|     023XX S TROY ST|1582|OFFENSE INVOLVING...|   CHILD PORNOGRAPHY|           RESIDENCE|  true|   false|1033|     010|  25|            30|      17|        NULL|        NULL|2022|04/18/2024 03:40:...|        NULL|         NULL|                NULL|\n",
            "|13053066|   JG103252|2023-01-03 16:44:00|039XX W WASHINGTO...|2017|           NARCOTICS|MANUFACTURE / DEL...|            SIDEWALK|  true|   false|1122|     011|  28|            26|      18|        NULL|        NULL|2023|01/20/2024 03:41:...|        NULL|         NULL|                NULL|\n",
            "|11227634|   JB147599|2017-08-26 10:00:00| 001XX W RANDOLPH ST|0281| CRIM SEXUAL ASSAULT|      NON-AGGRAVATED|         HOTEL/MOTEL| false|   false|0122|     001|  42|            32|      02|        NULL|        NULL|2017|02/11/2018 03:57:...|        NULL|         NULL|                NULL|\n",
            "|13203321|   JG415333|2023-09-06 17:00:00|    002XX N Wells st|1320|     CRIMINAL DAMAGE|          TO VEHICLE|PARKING LOT / GAR...| false|   false|0122|     001|  42|            32|      14|     1174694|     1901831|2023|11/04/2023 03:40:...|41.886018055|-87.633937881|(41.886018055, -8...|\n",
            "|13204489|   JG416325|2023-09-06 11:00:00|      0000X E 8TH ST|0810|               THEFT|           OVER $500|PARKING LOT / GAR...| false|   false|0123|     001|   4|            32|      06|     1176857|     1896680|2023|11/04/2023 03:40:...|41.871834768| -87.62615082|(41.871834768, -8...|\n",
            "+--------+-----------+-------------------+--------------------+----+--------------------+--------------------+--------------------+------+--------+----+--------+----+--------------+--------+------------+------------+----+--------------------+------------+-------------+--------------------+\n",
            "only showing top 5 rows\n",
            "\n"
          ]
        }
      ]
    },
    {
      "cell_type": "code",
      "source": [
        "df.columns"
      ],
      "metadata": {
        "colab": {
          "base_uri": "https://localhost:8080/"
        },
        "id": "6axgYGgmpqKJ",
        "outputId": "7b94a488-6175-401e-962d-029867932f43"
      },
      "execution_count": null,
      "outputs": [
        {
          "output_type": "execute_result",
          "data": {
            "text/plain": [
              "['ID',\n",
              " 'Case Number',\n",
              " 'Date',\n",
              " 'Block',\n",
              " 'IUCR',\n",
              " 'Primary Type',\n",
              " 'Description',\n",
              " 'Location Description',\n",
              " 'Arrest',\n",
              " 'Domestic',\n",
              " 'Beat',\n",
              " 'District',\n",
              " 'Ward',\n",
              " 'Community Area',\n",
              " 'FBI Code',\n",
              " 'X Coordinate',\n",
              " 'Y Coordinate',\n",
              " 'Year',\n",
              " 'Updated On',\n",
              " 'Latitude',\n",
              " 'Longitude',\n",
              " 'Location']"
            ]
          },
          "metadata": {},
          "execution_count": 14
        }
      ]
    },
    {
      "cell_type": "code",
      "source": [
        "df.select(col('Description')).show(5)"
      ],
      "metadata": {
        "colab": {
          "base_uri": "https://localhost:8080/"
        },
        "id": "6avmUGtlp8Us",
        "outputId": "59100376-2483-41cc-a9a8-2926dae422e7"
      },
      "execution_count": null,
      "outputs": [
        {
          "output_type": "stream",
          "name": "stdout",
          "text": [
            "+--------------------+\n",
            "|         Description|\n",
            "+--------------------+\n",
            "|   CHILD PORNOGRAPHY|\n",
            "|MANUFACTURE / DEL...|\n",
            "|      NON-AGGRAVATED|\n",
            "|          TO VEHICLE|\n",
            "|           OVER $500|\n",
            "+--------------------+\n",
            "only showing top 5 rows\n",
            "\n"
          ]
        }
      ]
    },
    {
      "cell_type": "code",
      "source": [
        "# Possibilité de selectionner plus d'une colonne\n",
        "df.select('Date','Description','Arrest').show(5)\n"
      ],
      "metadata": {
        "colab": {
          "base_uri": "https://localhost:8080/"
        },
        "id": "NOTZg4MMqJ46",
        "outputId": "51437075-1cdd-4ae4-be81-5f8e72767d21"
      },
      "execution_count": null,
      "outputs": [
        {
          "output_type": "stream",
          "name": "stdout",
          "text": [
            "+-------------------+--------------------+------+\n",
            "|               Date|         Description|Arrest|\n",
            "+-------------------+--------------------+------+\n",
            "|2022-07-29 03:39:00|   CHILD PORNOGRAPHY|  true|\n",
            "|2023-01-03 16:44:00|MANUFACTURE / DEL...|  true|\n",
            "|2017-08-26 10:00:00|      NON-AGGRAVATED| false|\n",
            "|2023-09-06 17:00:00|          TO VEHICLE| false|\n",
            "|2023-09-06 11:00:00|           OVER $500| false|\n",
            "+-------------------+--------------------+------+\n",
            "only showing top 5 rows\n",
            "\n"
          ]
        }
      ]
    },
    {
      "cell_type": "code",
      "source": [
        "# On va creer une nouvelle colonne dans notre DataFrame\n",
        "from pyspark.sql.functions import lit"
      ],
      "metadata": {
        "id": "smyayb7Orm4T"
      },
      "execution_count": null,
      "outputs": []
    },
    {
      "cell_type": "code",
      "source": [
        "df.withColumn('One', lit(1)).show(10)"
      ],
      "metadata": {
        "colab": {
          "base_uri": "https://localhost:8080/"
        },
        "id": "iMwg_L7Tr8SO",
        "outputId": "c12c1cd1-795b-44a7-c0d3-6d6a657a9ab1"
      },
      "execution_count": null,
      "outputs": [
        {
          "output_type": "stream",
          "name": "stdout",
          "text": [
            "+--------+-----------+-------------------+--------------------+----+--------------------+--------------------+--------------------+------+--------+----+--------+----+--------------+--------+------------+------------+----+--------------------+------------+-------------+--------------------+---+\n",
            "|      ID|Case Number|               Date|               Block|IUCR|        Primary Type|         Description|Location Description|Arrest|Domestic|Beat|District|Ward|Community Area|FBI Code|X Coordinate|Y Coordinate|Year|          Updated On|    Latitude|    Longitude|            Location|One|\n",
            "+--------+-----------+-------------------+--------------------+----+--------------------+--------------------+--------------------+------+--------+----+--------+----+--------------+--------+------------+------------+----+--------------------+------------+-------------+--------------------+---+\n",
            "|13311263|   JG503434|2022-07-29 03:39:00|     023XX S TROY ST|1582|OFFENSE INVOLVING...|   CHILD PORNOGRAPHY|           RESIDENCE|  true|   false|1033|     010|  25|            30|      17|        NULL|        NULL|2022|04/18/2024 03:40:...|        NULL|         NULL|                NULL|  1|\n",
            "|13053066|   JG103252|2023-01-03 16:44:00|039XX W WASHINGTO...|2017|           NARCOTICS|MANUFACTURE / DEL...|            SIDEWALK|  true|   false|1122|     011|  28|            26|      18|        NULL|        NULL|2023|01/20/2024 03:41:...|        NULL|         NULL|                NULL|  1|\n",
            "|11227634|   JB147599|2017-08-26 10:00:00| 001XX W RANDOLPH ST|0281| CRIM SEXUAL ASSAULT|      NON-AGGRAVATED|         HOTEL/MOTEL| false|   false|0122|     001|  42|            32|      02|        NULL|        NULL|2017|02/11/2018 03:57:...|        NULL|         NULL|                NULL|  1|\n",
            "|13203321|   JG415333|2023-09-06 17:00:00|    002XX N Wells st|1320|     CRIMINAL DAMAGE|          TO VEHICLE|PARKING LOT / GAR...| false|   false|0122|     001|  42|            32|      14|     1174694|     1901831|2023|11/04/2023 03:40:...|41.886018055|-87.633937881|(41.886018055, -8...|  1|\n",
            "|13204489|   JG416325|2023-09-06 11:00:00|      0000X E 8TH ST|0810|               THEFT|           OVER $500|PARKING LOT / GAR...| false|   false|0123|     001|   4|            32|      06|     1176857|     1896680|2023|11/04/2023 03:40:...|41.871834768| -87.62615082|(41.871834768, -8...|  1|\n",
            "|11695116|   JC272771|2019-05-21 08:20:00|018XX S CALIFORNI...|0620|            BURGLARY|      UNLAWFUL ENTRY|           RESIDENCE| false|   false|1023|     010|  25|            29|      05|     1157982|     1890961|2019|01/19/2024 03:40:...|41.856547057|-87.695604526|(41.856547057, -8...|  1|\n",
            "|12419690|   JE295655|2021-07-07 10:30:00|132XX S GREENWOOD...|1544|         SEX OFFENSE|SEXUAL EXPLOITATI...|           RESIDENCE| false|   false|0533|     005|  10|            54|      17|     1186051|     1817781|2021|01/19/2024 03:40:...| 41.65511579|-87.594883198|(41.65511579, -87...|  1|\n",
            "|12729745|   JF279458|2022-06-14 14:47:00| 035XX N CENTRAL AVE|0340|             ROBBERY|ATTEMPT STRONG AR...|                BANK|  true|   false|1633|     016|  30|            15|      03|     1138391|     1923142|2022|01/19/2024 03:40:...|41.945232412|-87.766734668|(41.945232412, -8...|  1|\n",
            "|12835559|   JF406130|2022-09-21 22:00:00|     004XX E 69TH ST|0910| MOTOR VEHICLE THEFT|          AUTOMOBILE|     OTHER (SPECIFY)|  true|   false|0322|     003|   6|            69|      07|     1180204|     1859359|2022|01/19/2024 03:40:...|41.769346711|-87.615008288|(41.769346711, -8...|  1|\n",
            "|13003649|   JG177593|2023-02-22 13:50:00|   070XX S CLYDE AVE|0610|            BURGLARY|      FORCIBLE ENTRY|RESIDENCE - PORCH...|  true|   false|0331|     003|   5|            43|      05|     1191427|     1858753|2023|01/19/2024 03:40:...|41.767419224|-87.573890196|(41.767419224, -8...|  1|\n",
            "+--------+-----------+-------------------+--------------------+----+--------------------+--------------------+--------------------+------+--------+----+--------+----+--------------+--------+------------+------------+----+--------------------+------------+-------------+--------------------+---+\n",
            "only showing top 10 rows\n",
            "\n"
          ]
        }
      ]
    },
    {
      "cell_type": "code",
      "source": [
        "# Crimes signalés le 25-12-2023\n",
        "one_day = df.filter(col('Date') == lit('2023-12-25'))\n",
        "one_day"
      ],
      "metadata": {
        "colab": {
          "base_uri": "https://localhost:8080/"
        },
        "id": "abA2BzP7s8zs",
        "outputId": "633af2be-9b71-4c81-d7fe-c20bad99f238"
      },
      "execution_count": null,
      "outputs": [
        {
          "output_type": "execute_result",
          "data": {
            "text/plain": [
              "DataFrame[ID: string, Case Number: string, Date: timestamp, Block: string, IUCR: string, Primary Type: string, Description: string, Location Description: string, Arrest: string, Domestic: string, Beat: string, District: string, Ward: string, Community Area: string, FBI Code: string, X Coordinate: string, Y Coordinate: string, Year: string, Updated On: string, Latitude: string, Longitude: string, Location: string]"
            ]
          },
          "metadata": {},
          "execution_count": 19
        }
      ]
    },
    {
      "cell_type": "code",
      "source": [
        "one_day.count()"
      ],
      "metadata": {
        "colab": {
          "base_uri": "https://localhost:8080/"
        },
        "id": "efGTyjdbtvoE",
        "outputId": "2a630526-9692-4550-89f7-50e2c0467598"
      },
      "execution_count": null,
      "outputs": [
        {
          "output_type": "execute_result",
          "data": {
            "text/plain": [
              "25"
            ]
          },
          "metadata": {},
          "execution_count": 20
        }
      ]
    },
    {
      "cell_type": "code",
      "source": [
        "one_day.show()"
      ],
      "metadata": {
        "colab": {
          "base_uri": "https://localhost:8080/"
        },
        "id": "Ea4St8mhtpkJ",
        "outputId": "5adebd60-76ae-4f34-daed-ea96da0afe93"
      },
      "execution_count": null,
      "outputs": [
        {
          "output_type": "stream",
          "name": "stdout",
          "text": [
            "+--------+-----------+-------------------+--------------------+----+--------------------+--------------------+--------------------+------+--------+----+--------+----+--------------+--------+------------+------------+----+--------------------+------------+-------------+--------------------+\n",
            "|      ID|Case Number|               Date|               Block|IUCR|        Primary Type|         Description|Location Description|Arrest|Domestic|Beat|District|Ward|Community Area|FBI Code|X Coordinate|Y Coordinate|Year|          Updated On|    Latitude|    Longitude|            Location|\n",
            "+--------+-----------+-------------------+--------------------+----+--------------------+--------------------+--------------------+------+--------+----+--------+----+--------------+--------+------------+------------+----+--------------------+------------+-------------+--------------------+\n",
            "|13318475|   JG553993|2023-12-25 00:00:00| 078XX S LANGLEY AVE|0810|               THEFT|           OVER $500|              STREET| false|   false|0624|     006|   6|            69|      06|     1182252|     1853243|2023|12/21/2024 03:40:...|41.752516599| -87.60769045|(41.752516599, -8...|\n",
            "|13321436|   JG554999|2023-12-25 00:00:00|  027XX W MEDILL AVE|0910| MOTOR VEHICLE THEFT|          AUTOMOBILE|              STREET| false|   false|1431|     014|   1|            22|      07|     1157667|     1915493|2023|12/21/2024 03:40:...|41.923871514|-87.696092023|(41.923871514, -8...|\n",
            "|13321988|   JG554563|2023-12-25 00:00:00|036XX N MAGNOLIA AVE|0930| MOTOR VEHICLE THEFT|THEFT / RECOVERY ...|              STREET| false|   false|1923|     019|  44|             6|      07|     1167308|     1924397|2023|12/21/2024 03:40:...|41.948102465|-87.660410519|(41.948102465, -8...|\n",
            "|13321425|   JG557395|2023-12-25 00:00:00|   019XX W OGDEN AVE|1220|  DECEPTIVE PRACTICE|THEFT OF LOST / M...|VEHICLE - OTHER R...| false|   false|1225|     012|  28|            28|      11|     1163673|     1897489|2023|12/21/2024 03:40:...|41.874342594|-87.674531651|(41.874342594, -8...|\n",
            "|13318703|   JG554228|2023-12-25 00:00:00|     035XX W 58TH ST|5001|       OTHER OFFENSE|OTHER CRIME INVOL...|           APARTMENT| false|   false|0822|     008|  14|            63|      26|     1153847|     1865929|2023|12/21/2024 03:40:...|41.787939234|-87.711447285|(41.787939234, -8...|\n",
            "|13320360|   JG555939|2023-12-25 00:00:00|  047XX N RACINE AVE|0265|CRIMINAL SEXUAL A...|  AGGRAVATED - OTHER|           APARTMENT| false|   false|1913|     019|  46|             3|      02|     1167458|     1931452|2023|12/21/2024 03:40:...|41.967458424|-87.659655286|(41.967458424, -8...|\n",
            "|13319398|   JG555051|2023-12-25 00:00:00|  030XX W JARLATH ST|0430|             BATTERY|AGGRAVATED - OTHE...|           RESIDENCE| false|   false|2411|     024|  50|             2|     04B|     1154979|     1947902|2023|12/21/2024 03:40:...|42.012858093|-87.705095615|(42.012858093, -8...|\n",
            "|13320136|   JG555955|2023-12-25 00:00:00|    059XX N NEVA AVE|0820|               THEFT|      $500 AND UNDER|              STREET| false|   false|1612|     016|  41|            10|      06|     1127703|     1939053|2023|12/21/2024 03:40:...|41.989081057|-87.805660262|(41.989081057, -8...|\n",
            "|13320187|   JG556018|2023-12-25 00:00:00|   010XX W TAYLOR ST|0820|               THEFT|      $500 AND UNDER|              STREET| false|   false|1232|     012|  34|            28|      06|     1169951|     1895772|2023|12/21/2024 03:40:...|41.869496477|-87.651531841|(41.869496477, -8...|\n",
            "|13318532|   JG554056|2023-12-25 00:00:00|   006XX W MONROE ST|1320|     CRIMINAL DAMAGE|          TO VEHICLE|              STREET| false|   false|0121|     001|  34|            28|      14|     1172243|     1899816|2023|12/21/2024 03:40:...|41.880543228|-87.642997936|(41.880543228, -8...|\n",
            "|13318884|   JG554431|2023-12-25 00:00:00|054XX W FULLERTON...|0560|             ASSAULT|              SIMPLE|           APARTMENT| false|    true|2515|     025|  31|            19|     08A|     1139841|     1915427|2023|12/21/2024 03:40:...|41.924035234|-87.761594059|(41.924035234, -8...|\n",
            "|13318892|   JG554441|2023-12-25 00:00:00|088XX S CARPENTER ST|0920| MOTOR VEHICLE THEFT|ATTEMPT - AUTOMOBILE|              STREET| false|   false|2222|     022|  21|            71|      07|     1170860|     1846267|2023|12/21/2024 03:40:...|41.733629585|-87.649640304|(41.733629585, -8...|\n",
            "|13318368|   JG553821|2023-12-25 00:00:00| 010XX N LA SALLE DR|0560|             ASSAULT|              SIMPLE|            SIDEWALK| false|   false|1824|     018|   2|             8|     08A|     1174943|     1907477|2023|12/21/2024 03:40:...|41.901505411| -87.63285424|(41.901505411, -8...|\n",
            "|13318726|   JG554241|2023-12-25 00:00:00|   020XX S MORGAN ST|0910| MOTOR VEHICLE THEFT|          AUTOMOBILE|              STREET| false|   false|1235|     012|  25|            31|      07|     1170010|     1890399|2023|12/21/2024 03:40:...|41.854751251|-87.651471903|(41.854751251, -8...|\n",
            "|13319432|   JG555008|2023-12-25 00:00:00|097XX S MICHIGAN AVE|0560|             ASSAULT|              SIMPLE|           RESIDENCE| false|    true|0511|     005|   9|            49|     08A|     1178864|     1840441|2023|12/21/2024 03:40:...|41.717464086|-87.620494507|(41.717464086, -8...|\n",
            "|13318458|   JG553938|2023-12-25 00:00:00|     027XX W 68TH ST|0460|             BATTERY|              SIMPLE|HOSPITAL BUILDING...| false|   false|0831|     008|  16|            66|     08B|     1159381|     1859440|2023|12/21/2024 03:40:...|41.770020864|  -87.6913338|(41.770020864, -8...|\n",
            "|13321478|   JG557372|2023-12-25 00:00:00| 077XX S ASHLAND AVE|1130|  DECEPTIVE PRACTICE|FRAUD OR CONFIDEN...|           APARTMENT| false|   false|0612|     006|  17|            71|      11|     1167016|     1853492|2023|12/21/2024 03:40:...|41.753538951|-87.663516805|(41.753538951, -8...|\n",
            "|13318663|   JG554118|2023-12-25 00:00:00| 004XX S FRANKLIN ST|0810|               THEFT|           OVER $500|PARKING LOT / GAR...| false|   false|0122|     001|  34|            32|      06|     1174386|     1898413|2023|12/21/2024 03:40:...|41.876645737|-87.635171022|(41.876645737, -8...|\n",
            "|13318496|   JG554028|2023-12-25 00:00:00|  002XX N WALLER AVE|0820|               THEFT|      $500 AND UNDER|              STREET| false|   false|1512|     015|  29|            25|      06|     1138112|     1901061|2023|12/21/2024 03:40:...|41.884644659|-87.768294892|(41.884644659, -8...|\n",
            "|13319146|   JG554711|2023-12-25 00:00:00|034XX W IRVING PA...|0920| MOTOR VEHICLE THEFT|ATTEMPT - AUTOMOBILE|              STREET| false|   false|1723|     017|  33|            16|      07|     1152802|     1926381|2023|12/21/2024 03:40:...| 41.95384684|-87.713678833|(41.95384684, -87...|\n",
            "+--------+-----------+-------------------+--------------------+----+--------------------+--------------------+--------------------+------+--------+----+--------+----+--------------+--------+------------+------------+----+--------------------+------------+-------------+--------------------+\n",
            "only showing top 20 rows\n",
            "\n"
          ]
        }
      ]
    },
    {
      "cell_type": "code",
      "source": [
        "# Pour verifier s'il y'a des duplications\n",
        "one_day.distinct().count()"
      ],
      "metadata": {
        "colab": {
          "base_uri": "https://localhost:8080/"
        },
        "id": "cSZoi9NuuGxx",
        "outputId": "53807c94-79e7-49b0-ee8a-74f6ae0a9153"
      },
      "execution_count": null,
      "outputs": [
        {
          "output_type": "execute_result",
          "data": {
            "text/plain": [
              "25"
            ]
          },
          "metadata": {},
          "execution_count": 24
        }
      ]
    },
    {
      "cell_type": "code",
      "source": [
        "df.distinct().count()"
      ],
      "metadata": {
        "colab": {
          "base_uri": "https://localhost:8080/"
        },
        "id": "bOsA_RRCufRw",
        "outputId": "8b9becb6-2783-48e1-f7b7-6c37712a45f5"
      },
      "execution_count": null,
      "outputs": [
        {
          "output_type": "execute_result",
          "data": {
            "text/plain": [
              "8305598"
            ]
          },
          "metadata": {},
          "execution_count": 25
        }
      ]
    },
    {
      "cell_type": "code",
      "source": [
        "# On va compter Primart Type suivant ses modalités\n",
        "df.groupBy('Primary Type').count().show()"
      ],
      "metadata": {
        "colab": {
          "base_uri": "https://localhost:8080/"
        },
        "id": "Dzx28d763r-K",
        "outputId": "a9731169-5958-4dc0-fb41-c19950997676"
      },
      "execution_count": null,
      "outputs": [
        {
          "output_type": "stream",
          "name": "stdout",
          "text": [
            "+--------------------+-------+\n",
            "|        Primary Type|  count|\n",
            "+--------------------+-------+\n",
            "|OFFENSE INVOLVING...|  59583|\n",
            "|CRIMINAL SEXUAL A...|  10554|\n",
            "|            STALKING|   5865|\n",
            "|PUBLIC PEACE VIOL...|  54232|\n",
            "|           OBSCENITY|    925|\n",
            "|               ARSON|  14235|\n",
            "|   DOMESTIC VIOLENCE|      1|\n",
            "|            GAMBLING|  14653|\n",
            "|   CRIMINAL TRESPASS| 224121|\n",
            "|             ASSAULT| 553315|\n",
            "|LIQUOR LAW VIOLATION|  15289|\n",
            "| MOTOR VEHICLE THEFT| 422248|\n",
            "|               THEFT|1760904|\n",
            "|             BATTERY|1513221|\n",
            "|             ROBBERY| 311585|\n",
            "|            HOMICIDE|  13741|\n",
            "|           RITUALISM|     24|\n",
            "|    PUBLIC INDECENCY|    214|\n",
            "| CRIM SEXUAL ASSAULT|  27330|\n",
            "|   HUMAN TRAFFICKING|    133|\n",
            "+--------------------+-------+\n",
            "only showing top 20 rows\n",
            "\n"
          ]
        }
      ]
    },
    {
      "cell_type": "code",
      "source": [
        "df.select(\"Arrest\").distinct().show()"
      ],
      "metadata": {
        "colab": {
          "base_uri": "https://localhost:8080/"
        },
        "id": "vgn_qVvl4OsJ",
        "outputId": "2b8db164-d0a8-476a-f0a4-4b7f763ba6fc"
      },
      "execution_count": null,
      "outputs": [
        {
          "output_type": "stream",
          "name": "stdout",
          "text": [
            "+------+\n",
            "|Arrest|\n",
            "+------+\n",
            "| false|\n",
            "|  true|\n",
            "+------+\n",
            "\n"
          ]
        }
      ]
    },
    {
      "cell_type": "code",
      "source": [
        "df.filter(col(\"Arrest\") == \"true\").count() / df.select(\"Arrest\").count()"
      ],
      "metadata": {
        "colab": {
          "base_uri": "https://localhost:8080/"
        },
        "id": "aQXJtk-N6Wnk",
        "outputId": "9b817f37-cd69-40ef-a105-5a9112dd5785"
      },
      "execution_count": null,
      "outputs": [
        {
          "output_type": "execute_result",
          "data": {
            "text/plain": [
              "0.25367950627998126"
            ]
          },
          "metadata": {},
          "execution_count": 29
        }
      ]
    },
    {
      "cell_type": "markdown",
      "source": [
        "25,36% des crimes signalés ont conduit à des arrestations"
      ],
      "metadata": {
        "id": "H7JnIry17Il_"
      }
    },
    {
      "cell_type": "code",
      "source": [
        "# Les 3 principaux lieux pour les crimes signalés\n",
        "n_location = df.groupBy(\"Location Description\").count()\n",
        "n_location.show()"
      ],
      "metadata": {
        "colab": {
          "base_uri": "https://localhost:8080/"
        },
        "id": "860kkEaP7UB0",
        "outputId": "5690cea9-98bb-48b0-b0df-6b964ce43c29"
      },
      "execution_count": null,
      "outputs": [
        {
          "output_type": "stream",
          "name": "stdout",
          "text": [
            "+--------------------+------+\n",
            "|Location Description| count|\n",
            "+--------------------+------+\n",
            "|   RAILROAD PROPERTY|    16|\n",
            "|SCHOOL - PRIVATE ...|  1403|\n",
            "|AIRPORT TERMINAL ...|  2633|\n",
            "|VEHICLE - COMMERCIAL|  1189|\n",
            "|EXPRESSWAY EMBANK...|     1|\n",
            "|RESIDENCE - YARD ...| 14329|\n",
            "|POLICE FACILITY/V...| 18560|\n",
            "|               MOTEL|     7|\n",
            "|CHA PARKING LOT /...|  2201|\n",
            "|            SIDEWALK|755787|\n",
            "|AIRPORT TERMINAL ...|   146|\n",
            "|PUBLIC GRAMMAR SC...|     2|\n",
            "|OTHER RAILROAD PR...|   676|\n",
            "|CTA GARAGE / OTHE...| 10276|\n",
            "|            CAR WASH|  3572|\n",
            "|   TRUCKING TERMINAL|     1|\n",
            "|    AIRPORT/AIRCRAFT| 16296|\n",
            "|            HOSPITAL|    18|\n",
            "|    FEDERAL BUILDING|  1055|\n",
            "|MEDICAL/DENTAL OF...|  7429|\n",
            "+--------------------+------+\n",
            "only showing top 20 rows\n",
            "\n"
          ]
        }
      ]
    },
    {
      "cell_type": "code",
      "source": [
        "# On va ordonner par ordre decroissant\n",
        "n_location.orderBy('count', ascending=False).show()"
      ],
      "metadata": {
        "colab": {
          "base_uri": "https://localhost:8080/"
        },
        "id": "VgYl2T9P75_y",
        "outputId": "ed96f04e-1be9-40e0-93eb-4c8e03ea35d5"
      },
      "execution_count": null,
      "outputs": [
        {
          "output_type": "stream",
          "name": "stdout",
          "text": [
            "+--------------------+-------+\n",
            "|Location Description|  count|\n",
            "+--------------------+-------+\n",
            "|              STREET|2169606|\n",
            "|           RESIDENCE|1369179|\n",
            "|           APARTMENT| 978842|\n",
            "|            SIDEWALK| 755787|\n",
            "|               OTHER| 269961|\n",
            "|PARKING LOT/GARAG...| 202939|\n",
            "|               ALLEY| 184804|\n",
            "|  SMALL RETAIL STORE| 165152|\n",
            "|SCHOOL, PUBLIC, B...| 146370|\n",
            "|          RESTAURANT| 139080|\n",
            "|    RESIDENCE-GARAGE| 135308|\n",
            "|VEHICLE NON-COMME...| 131532|\n",
            "|RESIDENCE PORCH/H...| 124170|\n",
            "|    DEPARTMENT STORE| 109026|\n",
            "|  GROCERY FOOD STORE| 103881|\n",
            "|         GAS STATION|  92644|\n",
            "|RESIDENTIAL YARD ...|  75140|\n",
            "|COMMERCIAL / BUSI...|  67981|\n",
            "|       PARK PROPERTY|  62405|\n",
            "|CHA PARKING LOT/G...|  56099|\n",
            "+--------------------+-------+\n",
            "only showing top 20 rows\n",
            "\n"
          ]
        }
      ]
    },
    {
      "cell_type": "code",
      "source": [
        "# Activité non criminelle la moins signalée\n",
        "df.groupBy('Primary Type').count().orderBy('count', ascending=True).show()"
      ],
      "metadata": {
        "colab": {
          "base_uri": "https://localhost:8080/"
        },
        "id": "kST5aCbT48_S",
        "outputId": "75afbbd2-3605-4ebf-bfd4-e0bf9943c06f"
      },
      "execution_count": 7,
      "outputs": [
        {
          "output_type": "stream",
          "name": "stdout",
          "text": [
            "+--------------------+-----+\n",
            "|        Primary Type|count|\n",
            "+--------------------+-----+\n",
            "|   DOMESTIC VIOLENCE|    1|\n",
            "|NON-CRIMINAL (SUB...|    9|\n",
            "|           RITUALISM|   24|\n",
            "|      NON - CRIMINAL|   38|\n",
            "|   HUMAN TRAFFICKING|  133|\n",
            "|OTHER NARCOTIC VI...|  157|\n",
            "|        NON-CRIMINAL|  189|\n",
            "|    PUBLIC INDECENCY|  214|\n",
            "|           OBSCENITY|  926|\n",
            "|CONCEALED CARRY L...| 1529|\n",
            "|        INTIMIDATION| 5033|\n",
            "|            STALKING| 5865|\n",
            "|          KIDNAPPING| 7454|\n",
            "|CRIMINAL SEXUAL A...|10566|\n",
            "|            HOMICIDE|13742|\n",
            "|               ARSON|14239|\n",
            "|            GAMBLING|14654|\n",
            "|LIQUOR LAW VIOLATION|15292|\n",
            "|INTERFERENCE WITH...|19783|\n",
            "| CRIM SEXUAL ASSAULT|27326|\n",
            "+--------------------+-----+\n",
            "only showing top 20 rows\n",
            "\n"
          ]
        }
      ]
    },
    {
      "cell_type": "code",
      "source": [
        "# Les 30 premieres observations\n",
        "df.select('Primary Type').show(30, truncate=30)"
      ],
      "metadata": {
        "colab": {
          "base_uri": "https://localhost:8080/"
        },
        "id": "jJAc409Z6Pq2",
        "outputId": "26574487-b318-4fb2-e92b-c8d7a2cbb9b5"
      },
      "execution_count": 14,
      "outputs": [
        {
          "output_type": "stream",
          "name": "stdout",
          "text": [
            "+--------------------------+\n",
            "|              Primary Type|\n",
            "+--------------------------+\n",
            "|OFFENSE INVOLVING CHILDREN|\n",
            "|                 NARCOTICS|\n",
            "|       CRIM SEXUAL ASSAULT|\n",
            "|           CRIMINAL DAMAGE|\n",
            "|                     THEFT|\n",
            "|                  BURGLARY|\n",
            "|               SEX OFFENSE|\n",
            "|                   ROBBERY|\n",
            "|       MOTOR VEHICLE THEFT|\n",
            "|                  BURGLARY|\n",
            "|                   BATTERY|\n",
            "|                   BATTERY|\n",
            "|                  HOMICIDE|\n",
            "|                  HOMICIDE|\n",
            "|                   ROBBERY|\n",
            "|                   ROBBERY|\n",
            "|                   ROBBERY|\n",
            "|                  BURGLARY|\n",
            "|                   ROBBERY|\n",
            "|   CRIMINAL SEXUAL ASSAULT|\n",
            "|OFFENSE INVOLVING CHILDREN|\n",
            "|OFFENSE INVOLVING CHILDREN|\n",
            "|OFFENSE INVOLVING CHILDREN|\n",
            "|             OTHER OFFENSE|\n",
            "|OFFENSE INVOLVING CHILDREN|\n",
            "|               SEX OFFENSE|\n",
            "|                   ROBBERY|\n",
            "|               SEX OFFENSE|\n",
            "|   CRIMINAL SEXUAL ASSAULT|\n",
            "|         WEAPONS VIOLATION|\n",
            "+--------------------------+\n",
            "only showing top 30 rows\n",
            "\n"
          ]
        }
      ]
    },
    {
      "cell_type": "code",
      "source": [
        "n_crime_type = df.select('Primary Type').distinct().count()\n",
        "n_crime_type"
      ],
      "metadata": {
        "colab": {
          "base_uri": "https://localhost:8080/"
        },
        "id": "fhdEqtPT9oVw",
        "outputId": "c96556d6-f658-49dc-c003-d061424c6d43"
      },
      "execution_count": 7,
      "outputs": [
        {
          "output_type": "execute_result",
          "data": {
            "text/plain": [
              "36"
            ]
          },
          "metadata": {},
          "execution_count": 7
        }
      ]
    },
    {
      "cell_type": "code",
      "source": [
        "# Afficher toutes les types de Crime\n",
        "df.select('Primary Type').distinct().show(n_crime_type, truncate=False)"
      ],
      "metadata": {
        "colab": {
          "base_uri": "https://localhost:8080/"
        },
        "id": "kWQ1u-zL9S4B",
        "outputId": "547f9f36-dd82-4376-8e3c-2b3e116ffba8"
      },
      "execution_count": 9,
      "outputs": [
        {
          "output_type": "stream",
          "name": "stdout",
          "text": [
            "+---------------------------------+\n",
            "|Primary Type                     |\n",
            "+---------------------------------+\n",
            "|OFFENSE INVOLVING CHILDREN       |\n",
            "|CRIMINAL SEXUAL ASSAULT          |\n",
            "|STALKING                         |\n",
            "|PUBLIC PEACE VIOLATION           |\n",
            "|OBSCENITY                        |\n",
            "|ARSON                            |\n",
            "|DOMESTIC VIOLENCE                |\n",
            "|GAMBLING                         |\n",
            "|CRIMINAL TRESPASS                |\n",
            "|ASSAULT                          |\n",
            "|LIQUOR LAW VIOLATION             |\n",
            "|MOTOR VEHICLE THEFT              |\n",
            "|THEFT                            |\n",
            "|BATTERY                          |\n",
            "|ROBBERY                          |\n",
            "|HOMICIDE                         |\n",
            "|RITUALISM                        |\n",
            "|PUBLIC INDECENCY                 |\n",
            "|CRIM SEXUAL ASSAULT              |\n",
            "|HUMAN TRAFFICKING                |\n",
            "|INTIMIDATION                     |\n",
            "|PROSTITUTION                     |\n",
            "|DECEPTIVE PRACTICE               |\n",
            "|CONCEALED CARRY LICENSE VIOLATION|\n",
            "|SEX OFFENSE                      |\n",
            "|CRIMINAL DAMAGE                  |\n",
            "|NARCOTICS                        |\n",
            "|NON-CRIMINAL                     |\n",
            "|OTHER OFFENSE                    |\n",
            "|KIDNAPPING                       |\n",
            "|BURGLARY                         |\n",
            "|WEAPONS VIOLATION                |\n",
            "|OTHER NARCOTIC VIOLATION         |\n",
            "|INTERFERENCE WITH PUBLIC OFFICER |\n",
            "|NON-CRIMINAL (SUBJECT SPECIFIED) |\n",
            "|NON - CRIMINAL                   |\n",
            "+---------------------------------+\n",
            "\n"
          ]
        }
      ]
    },
    {
      "cell_type": "code",
      "source": [
        "from pyspark.sql.functions import col\n",
        "# On va creer une DataFrame des activités non criminelles\n",
        "nc = df.filter(\n",
        "    (col('Primary Type') == 'NON - CRIMINAL') | (col('Primary Type') == 'NON-CRIMINAL') | (col('Primary Type') == 'NON-CRIMINAL (SUBJECT SPECIFIED)')\n",
        ")\n",
        "nc.show()"
      ],
      "metadata": {
        "colab": {
          "base_uri": "https://localhost:8080/"
        },
        "id": "EiNWaWh1UXHc",
        "outputId": "0a1cd348-ac27-45f5-8c32-4a4fa72cf06f"
      },
      "execution_count": 15,
      "outputs": [
        {
          "output_type": "stream",
          "name": "stdout",
          "text": [
            "+--------+-----------+--------------------+--------------------+----+--------------------+--------------------+--------------------+------+--------+----+--------+----+--------------+--------+------------+------------+----+--------------------+------------+-------------+--------------------+\n",
            "|      ID|Case Number|                Date|               Block|IUCR|        Primary Type|         Description|Location Description|Arrest|Domestic|Beat|District|Ward|Community Area|FBI Code|X Coordinate|Y Coordinate|Year|          Updated On|    Latitude|    Longitude|            Location|\n",
            "+--------+-----------+--------------------+--------------------+----+--------------------+--------------------+--------------------+------+--------+----+--------+----+--------------+--------+------------+------------+----+--------------------+------------+-------------+--------------------+\n",
            "|13710892|   JJ103416|01/04/2025 02:35:...| 011XX W SHERIDAN RD|1481|        NON-CRIMINAL|CONCEALED CARRY L...|              STREET|  true|   false|2433|     024|  48|            77|      15|     1167249|     1942651|2025|01/12/2025 03:41:...|41.998193288|-87.660100094|(41.998193288, -8...|\n",
            "|13280353|   JG507932|11/17/2023 01:17:...|014XX S BLUE ISLA...|1481|        NON-CRIMINAL|CONCEALED CARRY L...|POLICE FACILITY /...| false|   false|1233|     012|  28|            28|      15|     1168519|     1893359|2023|11/25/2023 03:41:...|41.862906101|-87.656858884|(41.862906101, -8...|\n",
            "| 8773145|   HV447848|08/25/2012 03:00:...|    100XX W OHARE ST|5093|        NON-CRIMINAL|       LOST PASSPORT|AIRPORT TERMINAL ...|  true|   false|1651|     016|  41|            76|      26|     1100658|     1934241|2012|02/10/2018 03:50:...|41.976290414|-87.905227221|(41.976290414, -8...|\n",
            "| 8602092|   HV276324|05/07/2012 10:30:...|    001XX W ADAMS ST|5093|        NON-CRIMINAL|       LOST PASSPORT|             TAXICAB| false|   false|0122|     001|  42|            32|      26|     1175062|     1899421|2012|02/04/2016 06:33:...|41.879396635|-87.632658775|(41.879396635, -8...|\n",
            "| 8701089|   HV377321|07/06/2012 10:00:...|   009XX W ROSCOE ST|5093|        NON-CRIMINAL|       LOST PASSPORT|            SIDEWALK| false|   false|1924|     019|  44|             6|      26|     1169358|     1922759|2012|02/04/2016 06:33:...|41.943563314|-87.652923006|(41.943563314, -8...|\n",
            "| 8613948|   HV287619|05/05/2012 03:00:...|004XX N MICHIGAN AVE|5093|        NON-CRIMINAL|       LOST PASSPORT|              STREET| false|   false|1834|     018|  42|             8|      26|     1177329|     1903108|2012|02/04/2016 06:33:...| 41.88946287|-87.624222942|(41.88946287, -87...|\n",
            "| 8714358|   HV390850|07/19/2012 04:00:...|008XX N MICHIGAN AVE|5093|        NON-CRIMINAL|       LOST PASSPORT|COMMERCIAL / BUSI...| false|   false|1833|     018|  42|             8|      26|     1177338|     1906181|2012|02/10/2018 03:50:...|41.897895128|-87.624096605|(41.897895128, -8...|\n",
            "| 8720297|   HV397127|07/21/2012 02:00:...|  0000X W HUBBARD ST|5093|        NON-CRIMINAL|       LOST PASSPORT|              STREET| false|   false|1831|     018|  42|             8|      26|     1176050|     1903312|2012|02/04/2016 06:33:...|41.890051565| -87.62891376|(41.890051565, -8...|\n",
            "| 8920098|   HV592222|12/06/2012 11:30:...|     020XX W 51ST ST|5073|NON-CRIMINAL (SUB...|NOTIFICATION OF C...|           APARTMENT| false|    true|0931|     009|  16|            61|      26|     1163437|     1870837|2012|02/10/2018 03:50:...|41.801211675|-87.676146832|(41.801211675, -8...|\n",
            "| 8819689|   HV492871|09/26/2012 05:20:...| 059XX N ROCKWELL ST|5073|NON-CRIMINAL (SUB...|NOTIFICATION OF C...|            SIDEWALK|  true|   false|2011|     020|  40|             2|      26|     1157923|     1939345|2012|02/10/2018 03:50:...| 41.98931757|-87.694498035|(41.98931757, -87...|\n",
            "| 9062806|   HW207631|03/26/2013 04:00:...|067XX S JEFFERY BLVD|5094|        NON-CRIMINAL|      FOUND PASSPORT|             CTA BUS| false|   false|0332|     003|   5|            43|      26|     1190703|     1860780|2013|02/10/2018 03:50:...|41.772998982|-87.576478539|(41.772998982, -8...|\n",
            "| 9148621|   HW294531|05/01/2013 09:00:...|034XX N LAKE SHOR...|5093|        NON-CRIMINAL|       LOST PASSPORT|           APARTMENT|  true|   false|1925|     019|  44|             6|      26|     1172449|     1923411|2013|02/10/2018 03:50:...|41.945284535|-87.641542722|(41.945284535, -8...|\n",
            "| 9436491|   HW580783|12/17/2013 10:00:...|  057XX S CICERO AVE|5093|        NON-CRIMINAL|       LOST PASSPORT|            AIRCRAFT| false|   false|0813|     008|  23|            56|      26|     1145654|     1866253|2013|02/10/2018 03:50:...|41.788987036| -87.74147999|(41.788987036, -8...|\n",
            "| 9284607|   HW428723|08/29/2013 09:30:...|    007XX E 111TH ST|5114|      NON - CRIMINAL|   FOID - REVOCATION|POLICE FACILITY/V...| false|   false|0531|     005|   9|            50|      26|     1183356|     1831503|2013|02/10/2018 03:50:...|41.692833841| -87.60431945|(41.692833841, -8...|\n",
            "| 9406560|   HW549849|11/27/2013 10:20:...|    022XX E 103RD ST|5114|      NON - CRIMINAL|   FOID - REVOCATION|POLICE FACILITY/V...| false|   false|0434|     004|  10|            51|      26|     1192874|     1837123|2013|02/10/2018 03:50:...|41.708029389|-87.569290282|(41.708029389, -8...|\n",
            "| 9402173|   HW545106|11/22/2013 02:00:...|  002XX W ONTARIO ST|5093|        NON-CRIMINAL|       LOST PASSPORT|       BAR OR TAVERN| false|   false|1831|     018|  42|             8|      26|     1174469|     1904439|2013|02/10/2018 03:50:...|41.893179585|-87.634686145|(41.893179585, -8...|\n",
            "| 9366682|   HW510040|10/28/2013 07:15:...|     019XX W OHIO ST|5114|      NON - CRIMINAL|   FOID - REVOCATION|           RESIDENCE| false|   false|1221|     012|   1|            24|      26|     1163389|     1904029|2013|02/10/2018 03:50:...|41.892294874|-87.675390277|(41.892294874, -8...|\n",
            "| 9640214|   HX290853|06/05/2014 10:00:...|026XX S CALIFORNI...|5114|      NON - CRIMINAL|   FOID - REVOCATION|GOVERNMENT BUILDI...| false|   false|1033|     010|  12|            30|      26|     1158136|     1886128|2014|02/10/2018 03:50:...|41.843281635|-87.695171094|(41.843281635, -8...|\n",
            "| 9684549|   HX334987|06/30/2014 10:00:...|062XX W EASTWOOD AVE|5114|      NON - CRIMINAL|   FOID - REVOCATION|              STREET| false|   false|1622|     016|  38|            15|      26|     1133693|     1930201|2014|02/10/2018 03:50:...|41.964686958|-87.783836648|(41.964686958, -8...|\n",
            "| 9507785|   HX163428|02/24/2014 09:18:...|   029XX S LOOMIS ST|5073|NON-CRIMINAL (SUB...|NOTIFICATION OF C...|           APARTMENT| false|    true|0913|     009|  11|            60|      26|     1168619|     1885264|2014|02/04/2016 06:33:...|41.840690549|-87.656725939|(41.840690549, -8...|\n",
            "+--------+-----------+--------------------+--------------------+----+--------------------+--------------------+--------------------+------+--------+----+--------+----+--------------+--------+------------+------------+----+--------------------+------------+-------------+--------------------+\n",
            "only showing top 20 rows\n",
            "\n"
          ]
        }
      ]
    },
    {
      "cell_type": "code",
      "source": [
        "nc.count()"
      ],
      "metadata": {
        "colab": {
          "base_uri": "https://localhost:8080/"
        },
        "id": "Z8QDrEKoYIvM",
        "outputId": "16b63f08-4d6d-423b-9289-8519a5fe28ba"
      },
      "execution_count": 16,
      "outputs": [
        {
          "output_type": "execute_result",
          "data": {
            "text/plain": [
              "236"
            ]
          },
          "metadata": {},
          "execution_count": 16
        }
      ]
    },
    {
      "cell_type": "code",
      "source": [
        "# Activité non criminelle la plus signalée\n",
        "nc.groupBy('Description').count().orderBy('count', ascending=False).show()"
      ],
      "metadata": {
        "colab": {
          "base_uri": "https://localhost:8080/"
        },
        "id": "GBwMEeDLYPMB",
        "outputId": "7462ab3f-12a8-4d36-80c9-d1882d5741e1"
      },
      "execution_count": 17,
      "outputs": [
        {
          "output_type": "stream",
          "name": "stdout",
          "text": [
            "+--------------------+-----+\n",
            "|         Description|count|\n",
            "+--------------------+-----+\n",
            "|       LOST PASSPORT|  111|\n",
            "|   FOID - REVOCATION|   76|\n",
            "|CONCEALED CARRY L...|   25|\n",
            "|NOTIFICATION OF C...|    9|\n",
            "|NOTIFICATION OF S...|    8|\n",
            "|      FOUND PASSPORT|    4|\n",
            "|GUN OFFENDER NOTI...|    3|\n",
            "+--------------------+-----+\n",
            "\n"
          ]
        }
      ]
    },
    {
      "cell_type": "markdown",
      "source": [
        "l'activité non criminelle la plus signalée reste Lost passport\n"
      ],
      "metadata": {
        "id": "wbje5va-Yoru"
      }
    },
    {
      "cell_type": "code",
      "source": [
        "# Pour connaitre d'autres fonctions de ce module\n",
        "from pyspark.sql import functions\n",
        "dir(functions)"
      ],
      "metadata": {
        "colab": {
          "base_uri": "https://localhost:8080/"
        },
        "id": "NVcKrh3EYx0B",
        "outputId": "925b371b-7bdf-4383-d483-580e01051da6"
      },
      "execution_count": 19,
      "outputs": [
        {
          "output_type": "execute_result",
          "data": {
            "text/plain": [
              "['Any',\n",
              " 'ArrayType',\n",
              " 'Callable',\n",
              " 'Column',\n",
              " 'DataFrame',\n",
              " 'DataType',\n",
              " 'Dict',\n",
              " 'Iterable',\n",
              " 'JVMView',\n",
              " 'List',\n",
              " 'Optional',\n",
              " 'PandasUDFType',\n",
              " 'PySparkTypeError',\n",
              " 'PySparkValueError',\n",
              " 'SparkContext',\n",
              " 'StringType',\n",
              " 'StructType',\n",
              " 'TYPE_CHECKING',\n",
              " 'Tuple',\n",
              " 'Type',\n",
              " 'Union',\n",
              " 'UserDefinedFunction',\n",
              " 'UserDefinedTableFunction',\n",
              " 'ValuesView',\n",
              " '__builtins__',\n",
              " '__cached__',\n",
              " '__doc__',\n",
              " '__file__',\n",
              " '__loader__',\n",
              " '__name__',\n",
              " '__package__',\n",
              " '__spec__',\n",
              " '_create_column_from_literal',\n",
              " '_create_lambda',\n",
              " '_create_py_udf',\n",
              " '_create_py_udtf',\n",
              " '_from_numpy_type',\n",
              " '_get_jvm_function',\n",
              " '_get_lambda_parameters',\n",
              " '_invoke_binary_math_function',\n",
              " '_invoke_function',\n",
              " '_invoke_function_over_columns',\n",
              " '_invoke_function_over_seq_of_columns',\n",
              " '_invoke_higher_order_function',\n",
              " '_options_to_str',\n",
              " '_test',\n",
              " '_to_java_column',\n",
              " '_to_seq',\n",
              " '_unresolved_named_lambda_variable',\n",
              " 'abs',\n",
              " 'acos',\n",
              " 'acosh',\n",
              " 'add_months',\n",
              " 'aes_decrypt',\n",
              " 'aes_encrypt',\n",
              " 'aggregate',\n",
              " 'any_value',\n",
              " 'approxCountDistinct',\n",
              " 'approx_count_distinct',\n",
              " 'approx_percentile',\n",
              " 'array',\n",
              " 'array_agg',\n",
              " 'array_append',\n",
              " 'array_compact',\n",
              " 'array_contains',\n",
              " 'array_distinct',\n",
              " 'array_except',\n",
              " 'array_insert',\n",
              " 'array_intersect',\n",
              " 'array_join',\n",
              " 'array_max',\n",
              " 'array_min',\n",
              " 'array_position',\n",
              " 'array_prepend',\n",
              " 'array_remove',\n",
              " 'array_repeat',\n",
              " 'array_size',\n",
              " 'array_sort',\n",
              " 'array_union',\n",
              " 'arrays_overlap',\n",
              " 'arrays_zip',\n",
              " 'asc',\n",
              " 'asc_nulls_first',\n",
              " 'asc_nulls_last',\n",
              " 'ascii',\n",
              " 'asin',\n",
              " 'asinh',\n",
              " 'assert_true',\n",
              " 'atan',\n",
              " 'atan2',\n",
              " 'atanh',\n",
              " 'avg',\n",
              " 'base64',\n",
              " 'bin',\n",
              " 'bit_and',\n",
              " 'bit_count',\n",
              " 'bit_get',\n",
              " 'bit_length',\n",
              " 'bit_or',\n",
              " 'bit_xor',\n",
              " 'bitmap_bit_position',\n",
              " 'bitmap_bucket_number',\n",
              " 'bitmap_construct_agg',\n",
              " 'bitmap_count',\n",
              " 'bitmap_or_agg',\n",
              " 'bitwiseNOT',\n",
              " 'bitwise_not',\n",
              " 'bool_and',\n",
              " 'bool_or',\n",
              " 'broadcast',\n",
              " 'bround',\n",
              " 'btrim',\n",
              " 'bucket',\n",
              " 'call_function',\n",
              " 'call_udf',\n",
              " 'cardinality',\n",
              " 'cast',\n",
              " 'cbrt',\n",
              " 'ceil',\n",
              " 'ceiling',\n",
              " 'char',\n",
              " 'char_length',\n",
              " 'character_length',\n",
              " 'coalesce',\n",
              " 'col',\n",
              " 'collect_list',\n",
              " 'collect_set',\n",
              " 'column',\n",
              " 'concat',\n",
              " 'concat_ws',\n",
              " 'contains',\n",
              " 'conv',\n",
              " 'convert_timezone',\n",
              " 'corr',\n",
              " 'cos',\n",
              " 'cosh',\n",
              " 'cot',\n",
              " 'count',\n",
              " 'countDistinct',\n",
              " 'count_distinct',\n",
              " 'count_if',\n",
              " 'count_min_sketch',\n",
              " 'covar_pop',\n",
              " 'covar_samp',\n",
              " 'crc32',\n",
              " 'create_map',\n",
              " 'csc',\n",
              " 'cume_dist',\n",
              " 'curdate',\n",
              " 'current_catalog',\n",
              " 'current_database',\n",
              " 'current_date',\n",
              " 'current_schema',\n",
              " 'current_timestamp',\n",
              " 'current_timezone',\n",
              " 'current_user',\n",
              " 'date_add',\n",
              " 'date_diff',\n",
              " 'date_format',\n",
              " 'date_from_unix_date',\n",
              " 'date_part',\n",
              " 'date_sub',\n",
              " 'date_trunc',\n",
              " 'dateadd',\n",
              " 'datediff',\n",
              " 'datepart',\n",
              " 'day',\n",
              " 'dayofmonth',\n",
              " 'dayofweek',\n",
              " 'dayofyear',\n",
              " 'days',\n",
              " 'decimal',\n",
              " 'decode',\n",
              " 'degrees',\n",
              " 'dense_rank',\n",
              " 'desc',\n",
              " 'desc_nulls_first',\n",
              " 'desc_nulls_last',\n",
              " 'e',\n",
              " 'element_at',\n",
              " 'elt',\n",
              " 'encode',\n",
              " 'endswith',\n",
              " 'equal_null',\n",
              " 'every',\n",
              " 'exists',\n",
              " 'exp',\n",
              " 'explode',\n",
              " 'explode_outer',\n",
              " 'expm1',\n",
              " 'expr',\n",
              " 'extract',\n",
              " 'factorial',\n",
              " 'filter',\n",
              " 'find_in_set',\n",
              " 'first',\n",
              " 'first_value',\n",
              " 'flatten',\n",
              " 'floor',\n",
              " 'forall',\n",
              " 'format_number',\n",
              " 'format_string',\n",
              " 'from_csv',\n",
              " 'from_json',\n",
              " 'from_unixtime',\n",
              " 'from_utc_timestamp',\n",
              " 'functools',\n",
              " 'get',\n",
              " 'get_active_spark_context',\n",
              " 'get_json_object',\n",
              " 'getbit',\n",
              " 'greatest',\n",
              " 'grouping',\n",
              " 'grouping_id',\n",
              " 'has_numpy',\n",
              " 'hash',\n",
              " 'hex',\n",
              " 'histogram_numeric',\n",
              " 'hll_sketch_agg',\n",
              " 'hll_sketch_estimate',\n",
              " 'hll_union',\n",
              " 'hll_union_agg',\n",
              " 'hour',\n",
              " 'hours',\n",
              " 'hypot',\n",
              " 'ifnull',\n",
              " 'ilike',\n",
              " 'initcap',\n",
              " 'inline',\n",
              " 'inline_outer',\n",
              " 'input_file_block_length',\n",
              " 'input_file_block_start',\n",
              " 'input_file_name',\n",
              " 'inspect',\n",
              " 'instr',\n",
              " 'isnan',\n",
              " 'isnotnull',\n",
              " 'isnull',\n",
              " 'java_method',\n",
              " 'json_array_length',\n",
              " 'json_object_keys',\n",
              " 'json_tuple',\n",
              " 'kurtosis',\n",
              " 'lag',\n",
              " 'last',\n",
              " 'last_day',\n",
              " 'last_value',\n",
              " 'lcase',\n",
              " 'lead',\n",
              " 'least',\n",
              " 'left',\n",
              " 'length',\n",
              " 'levenshtein',\n",
              " 'like',\n",
              " 'lit',\n",
              " 'ln',\n",
              " 'localtimestamp',\n",
              " 'locate',\n",
              " 'log',\n",
              " 'log10',\n",
              " 'log1p',\n",
              " 'log2',\n",
              " 'lower',\n",
              " 'lpad',\n",
              " 'ltrim',\n",
              " 'make_date',\n",
              " 'make_dt_interval',\n",
              " 'make_interval',\n",
              " 'make_timestamp',\n",
              " 'make_timestamp_ltz',\n",
              " 'make_timestamp_ntz',\n",
              " 'make_ym_interval',\n",
              " 'map_concat',\n",
              " 'map_contains_key',\n",
              " 'map_entries',\n",
              " 'map_filter',\n",
              " 'map_from_arrays',\n",
              " 'map_from_entries',\n",
              " 'map_keys',\n",
              " 'map_values',\n",
              " 'map_zip_with',\n",
              " 'mask',\n",
              " 'max',\n",
              " 'max_by',\n",
              " 'md5',\n",
              " 'mean',\n",
              " 'median',\n",
              " 'min',\n",
              " 'min_by',\n",
              " 'minute',\n",
              " 'mode',\n",
              " 'monotonically_increasing_id',\n",
              " 'month',\n",
              " 'months',\n",
              " 'months_between',\n",
              " 'named_struct',\n",
              " 'nanvl',\n",
              " 'negate',\n",
              " 'negative',\n",
              " 'next_day',\n",
              " 'now',\n",
              " 'np',\n",
              " 'nth_value',\n",
              " 'ntile',\n",
              " 'nullif',\n",
              " 'nvl',\n",
              " 'nvl2',\n",
              " 'octet_length',\n",
              " 'overlay',\n",
              " 'overload',\n",
              " 'pandas_udf',\n",
              " 'parse_url',\n",
              " 'percent_rank',\n",
              " 'percentile',\n",
              " 'percentile_approx',\n",
              " 'pi',\n",
              " 'pmod',\n",
              " 'posexplode',\n",
              " 'posexplode_outer',\n",
              " 'position',\n",
              " 'positive',\n",
              " 'pow',\n",
              " 'power',\n",
              " 'printf',\n",
              " 'product',\n",
              " 'quarter',\n",
              " 'radians',\n",
              " 'raise_error',\n",
              " 'rand',\n",
              " 'randn',\n",
              " 'rank',\n",
              " 'reduce',\n",
              " 'reflect',\n",
              " 'regexp',\n",
              " 'regexp_count',\n",
              " 'regexp_extract',\n",
              " 'regexp_extract_all',\n",
              " 'regexp_instr',\n",
              " 'regexp_like',\n",
              " 'regexp_replace',\n",
              " 'regexp_substr',\n",
              " 'regr_avgx',\n",
              " 'regr_avgy',\n",
              " 'regr_count',\n",
              " 'regr_intercept',\n",
              " 'regr_r2',\n",
              " 'regr_slope',\n",
              " 'regr_sxx',\n",
              " 'regr_sxy',\n",
              " 'regr_syy',\n",
              " 'repeat',\n",
              " 'replace',\n",
              " 'reverse',\n",
              " 'right',\n",
              " 'rint',\n",
              " 'rlike',\n",
              " 'round',\n",
              " 'row_number',\n",
              " 'rpad',\n",
              " 'rtrim',\n",
              " 'schema_of_csv',\n",
              " 'schema_of_json',\n",
              " 'sec',\n",
              " 'second',\n",
              " 'sentences',\n",
              " 'sequence',\n",
              " 'session_window',\n",
              " 'sha',\n",
              " 'sha1',\n",
              " 'sha2',\n",
              " 'shiftLeft',\n",
              " 'shiftRight',\n",
              " 'shiftRightUnsigned',\n",
              " 'shiftleft',\n",
              " 'shiftright',\n",
              " 'shiftrightunsigned',\n",
              " 'shuffle',\n",
              " 'sign',\n",
              " 'signum',\n",
              " 'sin',\n",
              " 'sinh',\n",
              " 'size',\n",
              " 'skewness',\n",
              " 'slice',\n",
              " 'some',\n",
              " 'sort_array',\n",
              " 'soundex',\n",
              " 'spark_partition_id',\n",
              " 'split',\n",
              " 'split_part',\n",
              " 'sqrt',\n",
              " 'stack',\n",
              " 'startswith',\n",
              " 'std',\n",
              " 'stddev',\n",
              " 'stddev_pop',\n",
              " 'stddev_samp',\n",
              " 'str_to_map',\n",
              " 'struct',\n",
              " 'substr',\n",
              " 'substring',\n",
              " 'substring_index',\n",
              " 'sum',\n",
              " 'sumDistinct',\n",
              " 'sum_distinct',\n",
              " 'sys',\n",
              " 'tan',\n",
              " 'tanh',\n",
              " 'timestamp_micros',\n",
              " 'timestamp_millis',\n",
              " 'timestamp_seconds',\n",
              " 'toDegrees',\n",
              " 'toRadians',\n",
              " 'to_binary',\n",
              " 'to_char',\n",
              " 'to_csv',\n",
              " 'to_date',\n",
              " 'to_json',\n",
              " 'to_number',\n",
              " 'to_str',\n",
              " 'to_timestamp',\n",
              " 'to_timestamp_ltz',\n",
              " 'to_timestamp_ntz',\n",
              " 'to_unix_timestamp',\n",
              " 'to_utc_timestamp',\n",
              " 'to_varchar',\n",
              " 'transform',\n",
              " 'transform_keys',\n",
              " 'transform_values',\n",
              " 'translate',\n",
              " 'trim',\n",
              " 'trunc',\n",
              " 'try_add',\n",
              " 'try_aes_decrypt',\n",
              " 'try_avg',\n",
              " 'try_divide',\n",
              " 'try_element_at',\n",
              " 'try_multiply',\n",
              " 'try_remote_functions',\n",
              " 'try_subtract',\n",
              " 'try_sum',\n",
              " 'try_to_binary',\n",
              " 'try_to_number',\n",
              " 'try_to_timestamp',\n",
              " 'typeof',\n",
              " 'ucase',\n",
              " 'udf',\n",
              " 'udtf',\n",
              " 'unbase64',\n",
              " 'unhex',\n",
              " 'unix_date',\n",
              " 'unix_micros',\n",
              " 'unix_millis',\n",
              " 'unix_seconds',\n",
              " 'unix_timestamp',\n",
              " 'unwrap_udt',\n",
              " 'upper',\n",
              " 'url_decode',\n",
              " 'url_encode',\n",
              " 'user',\n",
              " 'var_pop',\n",
              " 'var_samp',\n",
              " 'variance',\n",
              " 'version',\n",
              " 'warnings',\n",
              " 'weekday',\n",
              " 'weekofyear',\n",
              " 'when',\n",
              " 'width_bucket',\n",
              " 'window',\n",
              " 'window_time',\n",
              " 'xpath',\n",
              " 'xpath_boolean',\n",
              " 'xpath_double',\n",
              " 'xpath_float',\n",
              " 'xpath_int',\n",
              " 'xpath_long',\n",
              " 'xpath_number',\n",
              " 'xpath_short',\n",
              " 'xpath_string',\n",
              " 'xxhash64',\n",
              " 'year',\n",
              " 'years',\n",
              " 'zip_with']"
            ]
          },
          "metadata": {},
          "execution_count": 19
        }
      ]
    },
    {
      "cell_type": "code",
      "source": [
        "len(dir(functions))"
      ],
      "metadata": {
        "colab": {
          "base_uri": "https://localhost:8080/"
        },
        "id": "tcuwBNwOZQZo",
        "outputId": "99e6578a-38c0-41c6-eea2-d28807d19f0f"
      },
      "execution_count": 20,
      "outputs": [
        {
          "output_type": "execute_result",
          "data": {
            "text/plain": [
              "484"
            ]
          },
          "metadata": {},
          "execution_count": 20
        }
      ]
    }
  ]
}